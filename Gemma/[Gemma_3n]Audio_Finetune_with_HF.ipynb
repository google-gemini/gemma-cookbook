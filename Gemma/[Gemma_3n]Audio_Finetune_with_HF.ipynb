{
  "cells": [
    {
      "cell_type": "markdown",
      "metadata": {
        "id": "Tce3stUlHN0L"
      },
      "source": [
        "##### Copyright 2025 Google LLC."
      ]
    },
    {
      "cell_type": "code",
      "execution_count": null,
      "metadata": {
        "cellView": "form",
        "id": "tuOe1ymfHZPu"
      },
      "outputs": [],
      "source": [
        "#@title Licensed under the Apache License, Version 2.0 (the \"License\");\n",
        "# you may not use this file except in compliance with the License.\n",
        "# You may obtain a copy of the License at\n",
        "#\n",
        "# https://www.apache.org/licenses/LICENSE-2.0\n",
        "#\n",
        "# Unless required by applicable law or agreed to in writing, software\n",
        "# distributed under the License is distributed on an \"AS IS\" BASIS,\n",
        "# WITHOUT WARRANTIES OR CONDITIONS OF ANY KIND, either express or implied.\n",
        "# See the License for the specific language governing permissions and\n",
        "# limitations under the License."
      ]
    },
    {
      "cell_type": "markdown",
      "metadata": {
        "id": "U1SGxD8q4LdS"
      },
      "source": [
        "# Audio Finetune with Hugging Face Transformers\n",
        "\n",
        "<table align=\"left\">\n",
        "  <td>\n",
        "    <a target=\"_blank\" href=\"https://colab.research.google.com/github/google-gemini/gemma-cookbook/blob/main/Gemma/[Gemma_3n]Audio_Finetune_with_HF.ipynb\"><img src=\"https://www.tensorflow.org/images/colab_logo_32px.png\" />Run in Google Colab</a>\n",
        "  </td>\n",
        "</table>"
      ]
    },
    {
      "cell_type": "markdown",
      "metadata": {
        "id": "qlsJnFBYSrkZ"
      },
      "source": [
        "Gemma 3n is a generative AI model optimized for use in everyday devices, such as phones, laptops, and tablets. This tutorial demonstrates how to fine-tune the Gemma 3n model with audio inputs for text generation. Using the [\"Cat Meow Classification\" dataset](https://www.kaggle.com/datasets/andrewmvd/cat-meow-classification/), we'll train the model to identify a cat's breed, sex, and the context of its meow. The Transformers Python library provides a API for accessing pre-trained generative AI models, including Gemma. For more information, see the [Transformers](https://huggingface.co/docs/transformers/en/index) documentation.\n",
        "\n",
        "## Setup\n",
        "\n",
        "Before starting this tutorial, complete the following steps:\n",
        "\n",
        "* Get access to Gemma by logging into [Hugging Face](https://huggingface.co/google/gemma-3n-E4b-it) and selecting **Acknowledge license** for a Gemma model.\n",
        "* Select a Colab runtime with sufficient resources to run\n",
        "  the Gemma model size you want to run. [Learn more](https://ai.google.dev/gemma/docs/core#sizes).\n",
        "* Generate a Hugging Face [Access Token](https://huggingface.co/docs/hub/en/security-tokens#how-to-manage-user-access-token) and use it to login from Colab.\n",
        "\n",
        "This notebook will run on an NVIDIA L4 or A100 GPU."
      ]
    },
    {
      "cell_type": "code",
      "execution_count": null,
      "metadata": {
        "id": "ogSB3peYP1b4"
      },
      "outputs": [],
      "source": [
        "# Login into Hugging Face Hub\n",
        "from huggingface_hub import notebook_login\n",
        "notebook_login()"
      ]
    },
    {
      "cell_type": "markdown",
      "metadata": {
        "id": "2RgrZH4cP1b4"
      },
      "source": [
        "### Install Python packages\n",
        "\n",
        "Install the Hugging Face libraries required for running the Gemma model and making requests."
      ]
    },
    {
      "cell_type": "code",
      "execution_count": null,
      "metadata": {
        "id": "ty1cuOpoP1b4"
      },
      "outputs": [],
      "source": [
        "# Install a transformers version that supports Gemma 3n (>= 4.53)\n",
        "!pip install -U \"transformers>=4.53.0\" timm trl peft"
      ]
    },
    {
      "cell_type": "markdown",
      "metadata": {
        "id": "ECCE97deQDXd"
      },
      "source": [
        "## Define formatting helper functions\n",
        "\n",
        "Create a helper to generate a text."
      ]
    },
    {
      "cell_type": "code",
      "execution_count": null,
      "metadata": {
        "id": "O_WtqAw4P_tF"
      },
      "outputs": [],
      "source": [
        "import time\n",
        "\n",
        "GEMMA_PATH = \"google/gemma-3n-E4B-it\" #@param [\"google/gemma-3n-E2B-it\", \"google/gemma-3n-E4B-it\"]\n",
        "\n",
        "tick_start = 0\n",
        "\n",
        "def tick():\n",
        "    global tick_start\n",
        "    tick_start = time.time()\n",
        "\n",
        "def tock():\n",
        "    print(f\"TOTAL TIME ELAPSED: {time.time() - tick_start:.2f}s\")\n",
        "\n",
        "def text_gen(model, processor, message, max_tokens=256):\n",
        "  tick()\n",
        "\n",
        "  input_ids = processor.apply_chat_template(\n",
        "    message,\n",
        "    add_generation_prompt=True,\n",
        "    tokenize=True,\n",
        "    return_dict=True,\n",
        "    return_tensors=\"pt\",\n",
        "  )\n",
        "  input_len = input_ids[\"input_ids\"].shape[-1]\n",
        "  input_ids = input_ids.to(model.device, dtype=model.dtype)\n",
        "  outputs = model.generate(\n",
        "    **input_ids,\n",
        "    max_new_tokens=max_tokens,\n",
        "    disable_compile=True\n",
        "  )\n",
        "  text = processor.batch_decode(\n",
        "    outputs[:, input_len:],\n",
        "    skip_special_tokens=True,\n",
        "    clean_up_tokenization_spaces=True\n",
        "  )\n",
        "  print('-'*80)\n",
        "  print(text[0])\n",
        "  print('-'*80)\n",
        "\n",
        "  tock()\n"
      ]
    },
    {
      "cell_type": "markdown",
      "metadata": {
        "id": "mafyLFuD3WvW"
      },
      "source": [
        "## Load Model"
      ]
    },
    {
      "cell_type": "code",
      "execution_count": null,
      "metadata": {
        "id": "nsYlh_WK3YKb"
      },
      "outputs": [
        {
          "data": {
            "application/vnd.jupyter.widget-view+json": {
              "model_id": "9111ba0834714d04b78d16b954933249",
              "version_major": 2,
              "version_minor": 0
            },
            "text/plain": [
              "processor_config.json:   0%|          | 0.00/98.0 [00:00<?, ?B/s]"
            ]
          },
          "metadata": {},
          "output_type": "display_data"
        },
        {
          "data": {
            "application/vnd.jupyter.widget-view+json": {
              "model_id": "16b92786df774e5491fb8ab900514421",
              "version_major": 2,
              "version_minor": 0
            },
            "text/plain": [
              "chat_template.jinja:   0%|          | 0.00/1.63k [00:00<?, ?B/s]"
            ]
          },
          "metadata": {},
          "output_type": "display_data"
        },
        {
          "data": {
            "application/vnd.jupyter.widget-view+json": {
              "model_id": "b0380994d1304687b401ff1b362b9be4",
              "version_major": 2,
              "version_minor": 0
            },
            "text/plain": [
              "preprocessor_config.json:   0%|          | 0.00/1.12k [00:00<?, ?B/s]"
            ]
          },
          "metadata": {},
          "output_type": "display_data"
        },
        {
          "data": {
            "application/vnd.jupyter.widget-view+json": {
              "model_id": "c1b5f869bce24b7396aa86bb571163ac",
              "version_major": 2,
              "version_minor": 0
            },
            "text/plain": [
              "tokenizer_config.json:   0%|          | 0.00/1.20M [00:00<?, ?B/s]"
            ]
          },
          "metadata": {},
          "output_type": "display_data"
        },
        {
          "data": {
            "application/vnd.jupyter.widget-view+json": {
              "model_id": "dd4b4a7a9db3417a88c237c6901254ad",
              "version_major": 2,
              "version_minor": 0
            },
            "text/plain": [
              "tokenizer.model:   0%|          | 0.00/4.70M [00:00<?, ?B/s]"
            ]
          },
          "metadata": {},
          "output_type": "display_data"
        },
        {
          "data": {
            "application/vnd.jupyter.widget-view+json": {
              "model_id": "210f6855538a450bb9d96ff246264426",
              "version_major": 2,
              "version_minor": 0
            },
            "text/plain": [
              "tokenizer.json:   0%|          | 0.00/33.4M [00:00<?, ?B/s]"
            ]
          },
          "metadata": {},
          "output_type": "display_data"
        },
        {
          "data": {
            "application/vnd.jupyter.widget-view+json": {
              "model_id": "9e59051c27eb45f8a6f91df68184e05e",
              "version_major": 2,
              "version_minor": 0
            },
            "text/plain": [
              "special_tokens_map.json:   0%|          | 0.00/769 [00:00<?, ?B/s]"
            ]
          },
          "metadata": {},
          "output_type": "display_data"
        },
        {
          "data": {
            "application/vnd.jupyter.widget-view+json": {
              "model_id": "32a477dfbc7c4e7e8210b7361513e5e6",
              "version_major": 2,
              "version_minor": 0
            },
            "text/plain": [
              "config.json:   0%|          | 0.00/4.15k [00:00<?, ?B/s]"
            ]
          },
          "metadata": {},
          "output_type": "display_data"
        },
        {
          "data": {
            "application/vnd.jupyter.widget-view+json": {
              "model_id": "2ebf18d99fa747d4835631c29da2c87a",
              "version_major": 2,
              "version_minor": 0
            },
            "text/plain": [
              "model.safetensors.index.json:   0%|          | 0.00/171k [00:00<?, ?B/s]"
            ]
          },
          "metadata": {},
          "output_type": "display_data"
        },
        {
          "data": {
            "application/vnd.jupyter.widget-view+json": {
              "model_id": "15b4f873f43c428d8b1a3c34e1a2667f",
              "version_major": 2,
              "version_minor": 0
            },
            "text/plain": [
              "Fetching 4 files:   0%|          | 0/4 [00:00<?, ?it/s]"
            ]
          },
          "metadata": {},
          "output_type": "display_data"
        },
        {
          "data": {
            "application/vnd.jupyter.widget-view+json": {
              "model_id": "dd71e4881ec64b97b4eb19a347c474e9",
              "version_major": 2,
              "version_minor": 0
            },
            "text/plain": [
              "model-00003-of-00004.safetensors:   0%|          | 0.00/4.99G [00:00<?, ?B/s]"
            ]
          },
          "metadata": {},
          "output_type": "display_data"
        },
        {
          "data": {
            "application/vnd.jupyter.widget-view+json": {
              "model_id": "d5b268b422884bec92cd64dc6d30efb8",
              "version_major": 2,
              "version_minor": 0
            },
            "text/plain": [
              "model-00004-of-00004.safetensors:   0%|          | 0.00/2.66G [00:00<?, ?B/s]"
            ]
          },
          "metadata": {},
          "output_type": "display_data"
        },
        {
          "data": {
            "application/vnd.jupyter.widget-view+json": {
              "model_id": "79e17b215d594d3fbfa5e58ca8ebeb4c",
              "version_major": 2,
              "version_minor": 0
            },
            "text/plain": [
              "model-00001-of-00004.safetensors:   0%|          | 0.00/3.08G [00:00<?, ?B/s]"
            ]
          },
          "metadata": {},
          "output_type": "display_data"
        },
        {
          "data": {
            "application/vnd.jupyter.widget-view+json": {
              "model_id": "5db4c02483ff4abbb0d8a5c611e33fe7",
              "version_major": 2,
              "version_minor": 0
            },
            "text/plain": [
              "model-00002-of-00004.safetensors:   0%|          | 0.00/4.97G [00:00<?, ?B/s]"
            ]
          },
          "metadata": {},
          "output_type": "display_data"
        },
        {
          "data": {
            "application/vnd.jupyter.widget-view+json": {
              "model_id": "1fc26284d30b48ee88a8dc72e2a33641",
              "version_major": 2,
              "version_minor": 0
            },
            "text/plain": [
              "Loading checkpoint shards:   0%|          | 0/4 [00:00<?, ?it/s]"
            ]
          },
          "metadata": {},
          "output_type": "display_data"
        },
        {
          "data": {
            "application/vnd.jupyter.widget-view+json": {
              "model_id": "fbc4b359b56b41f082bea4fa34e8b4b1",
              "version_major": 2,
              "version_minor": 0
            },
            "text/plain": [
              "generation_config.json:   0%|          | 0.00/215 [00:00<?, ?B/s]"
            ]
          },
          "metadata": {},
          "output_type": "display_data"
        },
        {
          "name": "stdout",
          "output_type": "stream",
          "text": [
            "Device: cuda:0\n",
            "DType: torch.bfloat16\n"
          ]
        }
      ],
      "source": [
        "from transformers import AutoModelForImageTextToText, AutoProcessor\n",
        "\n",
        "processor = AutoProcessor.from_pretrained(GEMMA_PATH)\n",
        "model = AutoModelForImageTextToText.from_pretrained(GEMMA_PATH, torch_dtype=\"auto\", device_map=\"auto\")\n",
        "\n",
        "print(f\"Device: {model.device}\")\n",
        "print(f\"DType: {model.dtype}\")"
      ]
    },
    {
      "cell_type": "markdown",
      "metadata": {
        "id": "FcMexQUy3eG_"
      },
      "source": [
        "## Load Dataset\n",
        "\n",
        "Here's [the dataset](https://www.kaggle.com/datasets/andrewmvd/cat-meow-classification/) for Cat Meow Classification. While this dataset is typically for classification, we'll use it to train a language model as a fun learning exercise.\n",
        "\n",
        "The file in this dataset follow the naming convention shown below.\n",
        "\n",
        "```\n",
        "Naming convention for files -> C_NNNNN_BB_SS_OOOOO_RXX, where:\n",
        "\n",
        "C = emission context (values: B = brushing; F = waiting for food; I: isolation in an unfamiliar environment);\n",
        "NNNNN = cat’s unique ID;\n",
        "BB = breed (values: MC = Maine Coon; EU: European Shorthair);\n",
        "SS = sex (values: FI = female, intact; FN: female, neutered; MI: male, intact; MN: male, neutered);\n",
        "OOOOO = cat owner’s unique ID;\n",
        "R = recording session (values: 1, 2 or 3)\n",
        "XX = vocalization counter (values: 01..99)\n",
        "```\n",
        "\n",
        "Using this format, you will create the training dataset."
      ]
    },
    {
      "cell_type": "code",
      "execution_count": null,
      "metadata": {
        "id": "mTTqyqCo3mKN"
      },
      "outputs": [
        {
          "name": "stdout",
          "output_type": "stream",
          "text": [
            "Path to dataset files: /kaggle/input/cat-meow-classification/dataset/dataset\n",
            "440\n",
            "[{'role': 'user', 'content': [{'type': 'audio', 'audio': '/kaggle/input/cat-meow-classification/dataset/dataset/B_NUL01_MC_MI_SIM01_301.wav'}, {'type': 'text', 'text': 'Describe this audio.'}]}, {'role': 'assistant', 'content': [{'type': 'text', 'text': 'context: brushing\\nbreed: Maine Coon\\nsex: male, intact'}]}]\n"
          ]
        }
      ],
      "source": [
        "import kagglehub\n",
        "download_path = kagglehub.dataset_download(\"andrewmvd/cat-meow-classification\")\n",
        "dataset_path = download_path + \"/dataset/dataset\"\n",
        "extra_path = download_path + \"/extras/sequences\"\n",
        "print(\"Path to dataset files:\", dataset_path)\n",
        "\n",
        "train = []\n",
        "\n",
        "import os\n",
        "for file in sorted(os.listdir(dataset_path)):\n",
        "  context = \"unknown\"\n",
        "  if file[:1] == \"B\":\n",
        "    context = \"brushing\"\n",
        "  elif file[:1] == \"F\":\n",
        "    context = \"waiting for food\"\n",
        "  elif file[:1] == \"I\":\n",
        "    context = \"isolation in an unfamiliar environment\"\n",
        "\n",
        "  breed = \"unknown\"\n",
        "  if file[8:10] == \"MC\":\n",
        "    breed = \"Maine Coon\"\n",
        "  elif file[8:10] == \"EU\":\n",
        "    breed = \"European Shorthair\"\n",
        "\n",
        "  sex = \"unknown\"\n",
        "  if file[11:13] == \"FI\":\n",
        "    sex = \"female, intact\"\n",
        "  elif file[11:13] == \"FN\":\n",
        "    sex = \"female, neutered\"\n",
        "  elif file[11:13] == \"MI\":\n",
        "    sex = \"male, intact\"\n",
        "  elif file[11:13] == \"MN\":\n",
        "    sex = \"male, neutered\"\n",
        "\n",
        "  message = [\n",
        "      {\"role\": \"user\", \"content\": [\n",
        "        {\"type\": \"audio\", \"audio\": os.path.join(dataset_path, file)},\n",
        "        {\"type\": \"text\", \"text\": \"Describe this audio.\"},\n",
        "      ]},\n",
        "      {\"role\": \"assistant\", \"content\": [\n",
        "        {\"type\": \"text\", \"text\": f\"context: {context}\\nbreed: {breed}\\nsex: {sex}\"}\n",
        "      ]}\n",
        "  ]\n",
        "\n",
        "  train.append(message)\n",
        "\n",
        "import random\n",
        "random.shuffle(train)\n",
        "\n",
        "print(len(train))\n",
        "print(train[0])"
      ]
    },
    {
      "cell_type": "markdown",
      "metadata": {
        "id": "pq50411N8HfQ"
      },
      "source": [
        "## Before Finetune\n",
        "\n",
        "The output below shows that the model currently cannot recognize the cat's meow and understand the context behind it."
      ]
    },
    {
      "cell_type": "code",
      "execution_count": null,
      "metadata": {
        "id": "9FHPCNWh38Vg"
      },
      "outputs": [
        {
          "name": "stdout",
          "output_type": "stream",
          "text": [
            "[{'role': 'user', 'content': [{'type': 'audio', 'audio': '/kaggle/input/cat-meow-classification/dataset/dataset/B_NUL01_MC_MI_SIM01_301.wav'}, {'type': 'text', 'text': 'Describe this audio.'}]}]\n"
          ]
        },
        {
          "data": {
            "text/html": [
              "\n",
              "                <audio  controls=\"controls\" >\n",
              "                    <source src=\"data:audio/x-wav;base64,UklGRtyAAABXQVZFZm10IBAAAAABAAEAQB8AAIA+AAACABAAUEFEIMwPAAAAAAAAAAAAAAAAAAAAAAAAAAAAAAAAAAAAAAAAAAAAAAAAAAAAAAAAAAAAAAAAAAAAAAAAAAAAAAAAAAAAAAAAAAAAAAAAAAAAAAAAAAAAAAAAAAAAAAAAAAAAAAAAAAAAAAAAAAAAAAAAAAAAAAAAAAAAAAAAAAAAAAAAAAAAAAAAAAAAAAAAAAAAAAAAAAAAAAAAAAAAAAAAAAAAAAAAAAAAAAAAAAAAAAAAAAAAAAAAAAAAAAAAAAAAAAAAAAAAAAAAAAAAAAAAAAAAAAAAAAAAAAAAAAAAAAAAAAAAAAAAAAAAAAAAAAAAAAAAAAAAAAAAAAAAAAAAAAAAAAAAAAAAAAAAAAAAAAAAAAAAAAAAAAAAAAAAAAAAAAAAAAAAAAAAAAAAAAAAAAAAAAAAAAAAAAAAAAAAAAAAAAAAAAAAAAAAAAAAAAAAAAAAAAAAAAAAAAAAAAAAAAAAAAAAAAAAAAAAAAAAAAAAAAAAAAAAAAAAAAAAAAAAAAAAAAAAAAAAAAAAAAAAAAAAAAAAAAAAAAAAAAAAAAAAAAAAAAAAAAAAAAAAAAAAAAAAAAAAAAAAAAAAAAAAAAAAAAAAAAAAAAAAAAAAAAAAAAAAAAAAAAAAAAAAAAAAAAAAAAAAAAAAAAAAAAAAAAAAAAAAAAAAAAAAAAAAAAAAAAAAAAAAAAAAAAAAAAAAAAAAAAAAAAAAAAAAAAAAAAAAAAAAAAAAAAAAAAAAAAAAAAAAAAAAAAAAAAAAAAAAAAAAAAAAAAAAAAAAAAAAAAAAAAAAAAAAAAAAAAAAAAAAAAAAAAAAAAAAAAAAAAAAAAAAAAAAAAAAAAAAAAAAAAAAAAAAAAAAAAAAAAAAAAAAAAAAAAAAAAAAAAAAAAAAAAAAAAAAAAAAAAAAAAAAAAAAAAAAAAAAAAAAAAAAAAAAAAAAAAAAAAAAAAAAAAAAAAAAAAAAAAAAAAAAAAAAAAAAAAAAAAAAAAAAAAAAAAAAAAAAAAAAAAAAAAAAAAAAAAAAAAAAAAAAAAAAAAAAAAAAAAAAAAAAAAAAAAAAAAAAAAAAAAAAAAAAAAAAAAAAAAAAAAAAAAAAAAAAAAAAAAAAAAAAAAAAAAAAAAAAAAAAAAAAAAAAAAAAAAAAAAAAAAAAAAAAAAAAAAAAAAAAAAAAAAAAAAAAAAAAAAAAAAAAAAAAAAAAAAAAAAAAAAAAAAAAAAAAAAAAAAAAAAAAAAAAAAAAAAAAAAAAAAAAAAAAAAAAAAAAAAAAAAAAAAAAAAAAAAAAAAAAAAAAAAAAAAAAAAAAAAAAAAAAAAAAAAAAAAAAAAAAAAAAAAAAAAAAAAAAAAAAAAAAAAAAAAAAAAAAAAAAAAAAAAAAAAAAAAAAAAAAAAAAAAAAAAAAAAAAAAAAAAAAAAAAAAAAAAAAAAAAAAAAAAAAAAAAAAAAAAAAAAAAAAAAAAAAAAAAAAAAAAAAAAAAAAAAAAAAAAAAAAAAAAAAAAAAAAAAAAAAAAAAAAAAAAAAAAAAAAAAAAAAAAAAAAAAAAAAAAAAAAAAAAAAAAAAAAAAAAAAAAAAAAAAAAAAAAAAAAAAAAAAAAAAAAAAAAAAAAAAAAAAAAAAAAAAAAAAAAAAAAAAAAAAAAAAAAAAAAAAAAAAAAAAAAAAAAAAAAAAAAAAAAAAAAAAAAAAAAAAAAAAAAAAAAAAAAAAAAAAAAAAAAAAAAAAAAAAAAAAAAAAAAAAAAAAAAAAAAAAAAAAAAAAAAAAAAAAAAAAAAAAAAAAAAAAAAAAAAAAAAAAAAAAAAAAAAAAAAAAAAAAAAAAAAAAAAAAAAAAAAAAAAAAAAAAAAAAAAAAAAAAAAAAAAAAAAAAAAAAAAAAAAAAAAAAAAAAAAAAAAAAAAAAAAAAAAAAAAAAAAAAAAAAAAAAAAAAAAAAAAAAAAAAAAAAAAAAAAAAAAAAAAAAAAAAAAAAAAAAAAAAAAAAAAAAAAAAAAAAAAAAAAAAAAAAAAAAAAAAAAAAAAAAAAAAAAAAAAAAAAAAAAAAAAAAAAAAAAAAAAAAAAAAAAAAAAAAAAAAAAAAAAAAAAAAAAAAAAAAAAAAAAAAAAAAAAAAAAAAAAAAAAAAAAAAAAAAAAAAAAAAAAAAAAAAAAAAAAAAAAAAAAAAAAAAAAAAAAAAAAAAAAAAAAAAAAAAAAAAAAAAAAAAAAAAAAAAAAAAAAAAAAAAAAAAAAAAAAAAAAAAAAAAAAAAAAAAAAAAAAAAAAAAAAAAAAAAAAAAAAAAAAAAAAAAAAAAAAAAAAAAAAAAAAAAAAAAAAAAAAAAAAAAAAAAAAAAAAAAAAAAAAAAAAAAAAAAAAAAAAAAAAAAAAAAAAAAAAAAAAAAAAAAAAAAAAAAAAAAAAAAAAAAAAAAAAAAAAAAAAAAAAAAAAAAAAAAAAAAAAAAAAAAAAAAAAAAAAAAAAAAAAAAAAAAAAAAAAAAAAAAAAAAAAAAAAAAAAAAAAAAAAAAAAAAAAAAAAAAAAAAAAAAAAAAAAAAAAAAAAAAAAAAAAAAAAAAAAAAAAAAAAAAAAAAAAAAAAAAAAAAAAAAAAAAAAAAAAAAAAAAAAAAAAAAAAAAAAAAAAAAAAAAAAAAAAAAAAAAAAAAAAAAAAAAAAAAAAAAAAAAAAAAAAAAAAAAAAAAAAAAAAAAAAAAAAAAAAAAAAAAAAAAAAAAAAAAAAAAAAAAAAAAAAAAAAAAAAAAAAAAAAAAAAAAAAAAAAAAAAAAAAAAAAAAAAAAAAAAAAAAAAAAAAAAAAAAAAAAAAAAAAAAAAAAAAAAAAAAAAAAAAAAAAAAAAAAAAAAAAAAAAAAAAAAAAAAAAAAAAAAAAAAAAAAAAAAAAAAAAAAAAAAAAAAAAAAAAAAAAAAAAAAAAAAAAAAAAAAAAAAAAAAAAAAAAAAAAAAAAAAAAAAAAAAAAAAAAAAAAAAAAAAAAAAAAAAAAAAAAAAAAAAAAAAAAAAAAAAAAAAAAAAAAAAAAAAAAAAAAAAAAAAAAAAAAAAAAAAAAAAAAAAAAAAAAAAAAAAAAAAAAAAAAAAAAAAAAAAAAAAAAAAAAAAAAAAAAAAAAAAAAAAAAAAAAAAAAAAAAAAAAAAAAAAAAAAAAAAAAAAAAAAAAAAAAAAAAAAAAAAAAAAAAAAAAAAAAAAAAAAAAAAAAAAAAAAAAAAAAAAAAAAAAAAAAAAAAAAAAAAAAAAAAAAAAAAAAAAAAAAAAAAAAAAAAAAAAAAAAAAAAAAAAAAAAAAAAAAAAAAAAAAAAAAAAAAAAAAAAAAAAAAAAAAAAAAAAAAAAAAAAAAAAAAAAAAAAAAAAAAAAAAAAAAAAAAAAAAAAAAAAAAAAAAAAAAAAAAAAAAAAAAAAAAAAAAAAAAAAAAAAAAAAAAAAAAAAAAAAAAAAAAAAAAAAAAAAAAAAAAAAAAAAAAAAAAAAAAAAAAAAAAAAAAAAAAAAAAAAAAAAAAAAAAAAAAAAAAAAAAAAAAAAAAAAAAAAAAAAAAAAAAAAAAAAAAAAAAAAAAAAAAAAAAAAAAAAAAAAAAAAAAAAAAAAAAAAAAAAAAAAAAAAAAAAAAAAAAAAAAAAAAAAAAAAAAAAAAAAAAAAAAAAAAAAAAAAAAAAAAAAAAAAAAAAAAAAAAAAAAAAAAAAAAAAAAAAAAAAAAAAAAAAAAAAAAAAAAAAAAAAAAAAAAAAAAAAAAAAAAAAAAAAAAAAAAAAAAAAAAAAAAAAAAAAAAAAAAAAAAAAAAAAAAAAAAAAAAAAAAAAAAAAAAAAAAAAAAAAAAAAAAAAAAAAAAAAAAAAAAAAAAAAAAAAAAAAAAAAAAAAAAAAAAAAAAAAAAAAAAAAAAAAAAAAAAAAAAAAAAAAAAAAAAAAAAAAAAAAAAAAAAAAAAAAAAAAAAAAAAAAAAAAAAAAAAAAAAAAAAAAAAAAAAAAAAAAAAAAAAAAAAAAAAAAAAAAAAAAAAAAAAAAAAAAAAAAAAAAAAAAAAAAAAAAAAAAAAAAAAAAAAAAAAAAAAAAAAAAAAAAAAAAAAAAAAAAAAAAAAAAAAAAAAAAAAAAAAAAAAAAAAAAAAAAAAAAAAAAAAAAAAAAAAAAAAAAAAAAAAAAAAAAAAAAAAAAAAAAAAAAAAAAAAAAAAAAAAAAAAAAAAAAAAAAAAAAAAAAAAAAAAAAAAAAAAAAAAAAAAAAAAAAAAAAAAAAAAAAAAAAAAAAAAAAAAAAAAAAAAAAAAAAAAAAAAAAAAAAAAAAAAAAAAAAAAAAAAAAAAAAAAAAAAAAAAAAAAAAAAAAAAAAAAAAAAAAAAAAAAAAAAAAAAAAAAAAAAAAAAAAAAAAAAAAAAAAAAAAAAAAAAAAAAAAAAAAAAAAAAAAAAAAAAAAAAAAAAAAAAAAAAAAAAAAAAAAAAAAAAAAAAAAAAAAAAAAAAAAAAAAAAAAAAAAAAAAAAAAAAAAAAAAAAAAAAAAAAAAAAAAAAAAAAAAAAAAAAAAAAAAAAAAAAAAAAAAAAAAAAAAAAAAAAAAAAAAAAAAAAAAAAAAAAAAAAAAAAAAAAAAAAAAAAAAAAAAAAAAAAAAAAAAAAAAAAAAAAAAAAAAAAAAAAAAAAAAAAAAAAAAAAAAAAAAAAAAAAAAAAAAAAAAAAAAAAAAAAAAAAAAAAAAAAAAAAAAAAAAAAAAAAAAAAAAAAAAAAAAAAAAAAAAAAAAAAAAAAAAAAAAAAAAAAAAAAAAAAAAAAAAAAAAAAAAAAAAAAAAAAAAAAAAAAAAAAAAAAAAAAAAAAAAAAAAAAAAAAAAAAAAAAAAAAAAAAAAAAAAAAAAAAAAAAAAAAAAAAAAAAAAAAAAAAAAAAAAAAAAAAAAAAAAAAAAAAAAAAAAAAAAAAAAAAAAAAAAAAAAAAAAAAAAAAAAAAAAAAAAAAAAAAAAAAAAAAAAAAAAAAAAAAAAAAAAAAAAAAAAAAAAAAAAAAAAAAAAAAAAAAAAAAAAAAAAAAAAAAAAAAAAAAAAAAAAAAAAAAAAAAAAAAAAAAAAAAAAAAAAAAAAAAAAAAAAAAAAAAAAAAAAAAAAAAAAAAAAAAAAAAAAAAAAAAAAAAAAAAAAAAAAAAAAAAAAAAAAAAAAAAAAAAAAAAAAAAAAAAAAAAAAAAAAAAAAAAAAAAAAAAAAAAAAAAAAAAAAAAAAAAAAAAAAAAAAAAAAAAAAAAAAAAAAAAAAAAAAAAAAAAAAAAAAAAAAAAAAAAAAAAAAAAAAAAAAAAAAAAAAAAAAAAAAAAAAAAAAAAAAAAAAAAAAAAAAAAAAAAAAAAAAAAAAAAAAAAAAAAAAAAAAAAAAAAAAAAAAAAAAAAAAAAAAAAAAAAAAAAAAAAAAAAAAAAAAAAAAAAAAAAAAAAAAAAAAAAAAAAAAAAAABkYXRh5HAAAAoAEAA0AAcA0/8DABEAKAAEAO3/5/8iAAoA/v8oAOf/7P+k/8T/EQANADgADgDX/8v/zP8IAE4AEADf/8v/0P/t/w8ACgAQACgAHQD+/+T/6/8bABQA+P/5/yAAGAD9/+7/zv/h//z/BwASAA0A7f8BABgA9P8LAPf/BgA/ABQA+P8HABgA9f/p/+L/3f/v/yMALwANAPL/FwAJACMAAgDd//H/4P/b/+f/EgD9//H/EQAXAPj/4P/x/+n/7v8VAAYA9P8GAOL/0f/T//D/DQD5/+j/AQDk/+v//f/x/+X//v8yACwA7f/2/zkAHgAWABAAFAAbABYAEQD7////EQD5/+//5v///xYAGQAcAOb/0P/9/x8A3f/L//r/+P84ACEA8/8uAAYAHQAKAPH/EwDR////GADh/+r/1//y/wEA9P/o//n/5P/1/wYA+/8gAPH/AwDo/9j/HgASAPv/CwD//8f/1//e/+r/DQADAAMACgDa/+7/5//k/xUANQBJADcAPgAKACAACQDS/wYAAQDx/wgADgAHAA4AEgDt/xMAHgAPAD4A5P/S/+L///80APT/DAAiAPT/BgDs/wIAAwAzADQA1v/7//T/4//0/+X/HQAWAAMAIQAYAPL/AABPABMA5//8/wkAHQDu/+r/2P8SABcAzv/u/wQAMwDq/+b/7P/V/xQAyP/o/wEALABtAAsA4/9OAGEA///5/xUA+f/x/wgA8f/6/9f/3/8BAOv/1f/x/xoAIwDP/9r/0f/a//X/3P8iABMA9P/+/yoA6v/m/0AAFwA+APP/7f82APD/CwDz/wkADwAJADAA7P8IABEAFQA7ACMAJAD7/xYADwD4/wgA8/8bAAsA+f89AA8A5f/v/wsAIwDV/9H/+P/2/wYAEQAHABsAHQD//wMADAAZAAcA3////9b/1P/9/8j/FwAbAAQADADy/wAA8P8eAD0ACwAIAPP/5P/p/+3/6v/P/wQAKgDq/wcA+//3/+b/yf8DACYABwDN/wMAIgAFANz/DwAcAAMA4v/q/w0AIQAnAAMA8P/w//f/AwD6/+P/6P8JACEABAAHABAAHQD3/xEA+P/j/wUA5v/v/zIAAgDr/8b/5v8IANL/6v/d/wsAEgANAAoA5v8JAOf/GQAsAOn/EwDe/+L/9f/a/9j/vf/w/xAA8//x/97/GwBEAB8A8f8CACsA+f/r/wIA9v/W//v/DQDg//P/IQAMAPX/MwAbABIADADo//L/yP/v/83/uf/x/wkAAwAUAA8ACgD7/xEAHQDs//H/7v8bAA4A6v8pAPL/1//+/xcAGADk//D/5f/l//j//v8OABkA/v8GANv/3/8GAO7/AgAIABAA8v/e/w0A7v/9/wYAEgAPANr/CAD8/9r/5//g/+z/+P8mAB4A9/8PAPf/DgAYAOH/+f8QABQAEAD+//D/2v/w/9z/zf/y/xEA6v/z/+H///8aAN7/5//8/+r/0//Q/yMA/P/1/yQAHAAVAAsAIgABANr/HQAVAPr/BgD6/yoAIgABAOn/5//+/8v/4v/z/+P/HgAnABIAIwArAAQA6f8pAAwA+f8KAPr//f8FAPP/FQD4/xwAPAAAAPH/3v8AABUAAQAfAAEA+f/8//v/8P/j/+r/9P8JAAIA2P/r//X/CAAGAOr/DQDt/wAASQABAAkAJAD6/xMACAD7//7//P/+//3//v8OADgAJAALACsA/v/l//H/+/8PABAABgDi/+D/4v/9/+v/8//M/8T/GgDy/wAA9f/9/zkAHwAoAP3/CQAfAAAASgA1ABcAFQDt/+X/6P8bAA8ABQAOAA4AGgDu/+P/9v/R/+z/+P/m//j//P8AAPv/AwAUAAkAEAAcAAUACwAjAO7/4f/i/9P/DwACAPb/DQAEAAMA/P/J/+v/t//M/wMAzv8NADQAAgAvAB0A3//q/wsAFADo//f/CADo/w0AEwDs//f/FwASAN3/7/8fAPX/5P/g/+D/6//p/+P/FQASANv/8P8AABIA9//s/xAAAwAOAPP/9f/x/+r/+//z/+b/5/8EAAsA/P8FAN7/HAAjAP7/+P/N/yAA/P/b//n/uv/k/+j/8v8MAPj/AAAAACUAFQAUABwAFgAjAAoA//8QABMA+v/i/+v/7f8TACIA9//5//f/DwD4/93/9f/+//3/GgAdAAYAHAAgACgAGgAHAAYA6v/f/+T/wf/A/87/5f/u/wkA9v8ZAA0A5P8hAAUA6f/s/xMADgDv/wwAFwARAAUABgAmAAEA///3////5f/L//7/+f/K/wEACwAZAOb/6/8MAPr/6v/j//7//v8CAPH/1P/3//X/FwAVANn/AQAZABIAIwD//wMABgD0//P/7P/u/wAA3//s/xoALAAxACMAHAALAO7/EQD5/+H/8v/7//r/BAAUABoAOAALAPf//v/i//P/8/8QAC0A9P8AAA0ADADv/8v/9v8FAAkAIgABAPv/+v/1/83/6v/r/8b/1v/y/xwAFAARAPX/4P/9//T/AQD9/wgA///j/+7/DwAVAOT/7//v/wEAAwDX//P//f8GACEA3//p/xIA7v/+//D/5/8OAA8ABADr//b/8P/t//H/5/8IAO3/9v/9/+D/FQABANH/5f/T/+T/5f8IABcAEwAnACYA+f8LABYADAD//xUA9P/m/9D/5f8DAOb/7v/8//v/IwAJAOv/BQACAAQACQD1//z/8f/k/wMAJwD+/w0A9//v////2f/q/wMAGQAEACoAawAnAK7/4/8HAAIABwABAOD/6v8CABgABQALAPD///8MAAgA7v/0/wQAGAAOAPz/AADY/83/4v+k//3/DAD9/zIAOgAxAA8ABAD4/8z/6//8/yUAKAAuACAA+f8TABgA7v/2/xQA+//y/yYA6P++/+X/9v8XAPv/4v/u/w4AHAAWAOr/8/87AAkA+P8sAP7/JwDm/9L/AgDy/wMA8//u/+r/5v8PAOr/CgAtAA0ABADm//D/+//+/+r/9P8KAPn/BAD2//H/AgABAPj/9/8XABYAGgDt/9f/BwDx//z/BAASAOr/4/8JAO//DwADAPT/CADu/+b/8/8ZAAgA/f/v/yIATgDy/wEACADt//H/7v/x/97/8P8BAP7/DAAPAPX/5//t/wEABwADAAQAKgAeAO3/AQD6//b/+f/i//X//v/l//f/7f8EAPT/DQAMAAYAHwAiAEQALwAGAPD/4v/W//j//P/N/xQAKgAZAAoA/v8kAAAA8//z//r/CgAQAN3/0f/0/woAIgAiAAsA/P/1/xAAGQAKAPr/CwAMAPP//f/s/wcABwDq//H/AgD1//v/GQDw//b/6v/k////AQAPAP//BAAAAPj/EQDj/+P/7v///xcA2//a//b/FwD9/9j/8P8EAA0A/v/4/xYA6//p/+v/6f8QAA4A8f8AAPb/4P/8/wEA9//4/+z/9f/z/wEA/P/u/wYA8P/t//f/FQBHABgAIQDw/9L/4v/K//H/AwD7/x4A/v8KABIABAD4//j/EwAbABMADQDu/+H/yv/9/14AVABeAAsA6v/g/9f/4P/l/wYA9//v/wkABwD+/8P/1P8mADIA6f/l/+j/AABZAEsAFgD2/+//5f8bAAYA3f8YAEMASAA2AD4AHgD2/8X/xv/5/wMABwD3/8T/8v9CAA0A2v/1/z8AXAAMAC0AMwD7/woA0P/B//z/IwAYAMD/yv8fABUA9v/r/xkADAAMAPT/0//L/+L/IgAXABAA+//m/xIADgAQAPb/7P8UAAoAAwDn/wAACgAQADQABwDT/wMAEQAoAAQA7f/n/yIACgD+/ygA5//s/6T/xP8RAA0AOAAOANf/y//M/wgATgAQAN//y//Q/+3/DwAKABAAKAAdAP7/5P/r/xsAFAD4//n/IAAYAP3/7v/O/+H//P8HABIADQDt/wEAGAD0/wsA9/8GAD8AFAD4/wcAGAD1/+n/4v/d/+//IwAvAA0A8v8XAAkAIwACAN3/8f/g/9v/5/8SAP3/8f8RABcA+P/g//H/6f/u/xUABgD0/wYA4v/R/9P/8P8NAPn/6P8BAOT/6//9//H/5f/+/zIALADt//b/OQAeABYAEAAUABsAFgARAPv///8RAPn/7//m////FgAZABwA5v/Q//3/HwDd/8v/+v/4/zgAIQDz/y4ABgAdAAoA8f8TANH///8YAOH/6v/X//L/AQD0/+j/+f/k//X/BgD7/yAA8f8DAOj/2P8eABIA+/8LAP//x//X/97/6v8NAAMAAwAKANr/7v/n/+T/FQA1AEkANwA+AAoAIAAJANL/BgABAPH/CAAOAAcADgASAO3/EwAeAA8APgDk/9L/4v///zQA9P8MACIA9P8GAOz/AgADADMANADW//v/9P/j//T/5f8dABYAAwAhABgA8v8AAE8AEwDn//z/CQAdAO7/6v/Y/xIAFwDO/+7/BAAzAOr/5v/s/9X/FADI/+j/AQAsAG0ACwDj/04AYQD///n/FQD5//H/CADx//r/1//f/wEA6//V//H/GgAjAM//2v/R/9r/9f/c/yIAEwD0//7/KgDq/+b/QAAXAD4A8//t/zYA8P8LAPP/CQAPAAkAMADs/wgAEQAVADsAIwAkAPv/FgAPAPj/CADz/xsACwD5/z0ADwDl/+//CwAjANX/0f/4//b/BgARAAcAGwAdAP//AwAMABkABwDf////1v/U//3/yP8XABsABAAMAPL/AADw/x4APQALAAgA8//k/+n/7f/q/8//BAAqAOr/BwD7//f/5v/J/wMAJgAHAM3/AwAiAAUA3P8PABwAAwDi/+r/DQAhACcAAwDw//D/9/8DAPr/4//o/wkAIQAEAAcAEAAdAPf/EQD4/+P/BQDm/+//MgACAOv/xv/m/wgA0v/q/93/CwASAA0ACgDm/wkA5/8ZACwA6f8TAN7/4v/1/9r/2P+9//D/EADz//H/3v8bAEQAHwDx/wIAKwD5/+v/AgD2/9b/+/8NAOD/8/8hAAwA9f8zABsAEgAMAOj/8v/I/+//zf+5//H/CQADABQADwAKAPv/EQAdAOz/8f/u/xsADgDq/ykA8v/X//7/FwAYAOT/8P/l/+X/+P/+/w4AGQD+/wYA2//f/wYA7v8CAAgAEADy/97/DQDu//3/BgASAA8A2v8IAPz/2v/n/+D/7P/4/yYAHgD3/w8A9/8OABgA4f/5/xAAFAAQAP7/8P/a//D/3P/N//L/EQDq//P/4f///xoA3v/n//z/6v/T/9D/IwD8//X/JAAcABUACwAiAAEA2v8dABUA+v8GAPr/KgAiAAEA6f/n//7/y//i//P/4/8eACcAEgAjACsABADp/ykADAD5/woA+v/9/wUA8/8VAPj/HAA8AAAA8f/e/wAAFQABAB8AAQD5//z/+//w/+P/6v/0/wkAAgDY/+v/9f8IAAYA6v8NAO3/AABJAAEACQAkAPr/EwAIAPv//v/8//7//f/+/w4AOAAkAAsAKwD+/+X/8f/7/w8AEAAGAOL/4P/i//3/6//z/8z/xP8aAPL/AAD1//3/OQAfACgA/f8JAB8AAABKADUAFwAVAO3/5f/o/xsADwAFAA4ADgAaAO7/4//2/9H/7P/4/+b/+P/8/wAA+/8DABQACQAQABwABQALACMA7v/h/+L/0/8PAAIA9v8NAAQAAwD8/8n/6/+3/8z/AwDO/w0ANAACAC8AHQDf/+r/CwAUAOj/9/8IAOj/DQATAOz/9/8XABIA3f/v/x8A9f/k/+D/4P/r/+n/4/8VABIA2//w/wAAEgD3/+z/EAADAA4A8//1//H/6v/7//P/5v/n/wQACwD8/wUA3v8cACMA/v/4/83/IAD8/9v/+f+6/+T/6P/y/wwA+P8AAAAAJQAVABQAHAAWACMACgD//xAAEwD6/+L/6//t/xMAIgD3//n/9/8PAPj/3f/1//7//f8aAB0ABgAcACAAKAAaAAcABgDq/9//5P/B/8D/zv/l/+7/CQD2/xkADQDk/yEABQDp/+z/EwAOAO//DAAXABEABQAGACYAAQD///f////l/8v//v/5/8r/AQALABkA5v/r/wwA+v/q/+P//v/+/wIA8f/U//f/9f8XABUA2f8BABkAEgAjAP//AwAGAPT/8//s/+7/AADf/+z/GgAsADEAIwAcAAsA7v8RAPn/4f/y//v/+v8EABQAGgA4AAsA9//+/+L/8//z/xAALQD0/wAADQAMAO//y//2/wUACQAiAAEA+//6//X/zf/q/+v/xv/W//L/HAAUABEA9f/g//3/9P8BAP3/CAD//+P/7v8PABUA5P/v/+//AQADANf/8//9/wYAIQDf/+n/EgDu//7/8P/n/w4ADwAEAOv/9v/w/+3/8f/n/wgA7f/2//3/4P8VAAEA0f/l/9P/5P/l/wgAFwATACcAJgD5/wsAFgAMAP//FQD0/+b/0P/l/wMA5v/u//z/+/8jAAkA6/8FAAIABAAJAPX//P/x/+T/AwAnAP7/DQD3/+/////Z/+r/AwAZAAQAKgBrACcArv/j/wcAAgAHAAEA4P/q/wIAGAAFAAsA8P///wwACADu//T/BAAYAA4A/P8AANj/zf/i/6T//f8MAP3/MgA6ADEADwAEAPj/zP/r//z/JQAoAC4AIAD5/xMAGADu//b/FAD7//L/JgDo/77/5f/2/xcA+//i/+7/DgAcABYA6v/z/zsACQD4/ywA/v8nAOb/0v8CAPL/AwDz/+7/6v/m/w8A6v8KAC0ADQAEAOb/8P/7//7/6v/0/woA+f8EAPb/8f8CAAEA+P/3/xcAFgAaAO3/1/8HAPH//P8EABIA6v/j/wkA7/8PAAMA9P8IAO7/5v/z/xkACAD9/+//IgBOAPL/AQAIAO3/8f/u//H/3v/w/wEA/v8MAA8A9f/n/+3/AQAHAAMABAAqAB4A7f8BAPr/9v/5/+L/9f/+/+X/9//t/wQA9P8NAAwABgAfACIARAAvAAYA8P/i/9b/+P/8/83/FAAqABkACgD+/yQAAADz//P/+v8KABAA3f/R//T/CgAiACIACwD8//X/EAAZAAoA+v8LAAwA8//9/+z/BwAHAOr/8f8CAPX/+/8ZAPD/9v/q/+T///8BAA8A//8EAAAA+P8RAOP/4//u////FwDb/9r/9v8XAP3/2P/w/wQADQD+//j/FgDr/+n/6//p/xAADgDx/wAA9v/g//z/AQD3//j/7P/1//P/AQD8/+7/BgDw/+3/9/8VAEcAGAAhAPD/0v/i/8r/8f8DAPv/HgD+/woAEgAEAPj/+P8TABsAEwANAO7/4f/K//3/XgBUAF4ACwDq/+D/1//g/+X/BgD3/+//CQAHAP7/9v85AB4AFgAQABQAGwAWABEA+////xEA+f/v/+b///8WABkAHADm/9D//f8fAN3/y//6//j/OAAhAPP/LgAGAB0ACgDx/xMA0f///xgA4f/q/9f/8v8BAPT/6P/5/+T/9f8GAPv/IADx/wMA6P/Y/x4AEgD7/wsA///H/9f/3v/q/w0AAwADAAoA2v/u/+f/5P8VADUASQA3AD4ACgAgAAkA0v8GAAEA8f8IAA4ABwAOABIA7f8TAB4ADwA+AOT/0v/i////NAD0/wwAIgD0/wYA7P8CAAMAMwA0ANb/+//0/+P/9P/l/x0AFgADACEAGADy/wAATwATAOf//P8JAB0A7v/q/9j/EgAXAM7/7v8EADMA6v/m/+z/1f8UAMj/6P8BACwAbQALAOP/TgBhAP//+f8VAPn/8f8IAPH/+v/X/9//AQDr/9X/8f8aACMAz//a/9H/2v/1/9z/IgATAPT//v8qAOr/5v9AABcAPgDz/+3/NgDw/wsA8/8JAA8ACQAwAOz/CAARABUAOwAjACQA+/8WAA8A+P8IAPP/GwALAPn/PQAPAOX/7/8LACMA1f/R//j/9v8GABEABwAbAB0A//8DAAwAGQAHAN/////W/9T//f/I/xcAGwAEAAwA8v8AAPD/HgA9AAsACADz/+T/6f/t/+r/z/8EACoA6v8HAPv/9//m/8n/AwAmAAcAzf8DACIABQDc/w8AHAADAOL/6v8NACEAJwADAPD/8P/3/wMA+v/j/+j/CQAhAAQABwAQAB0A9/8RAPj/4/8FAOb/7/8yAAIA6//G/+b/CADS/+r/3f8LABIADQAKAOb/CQDn/xkALADp/xMA3v/i//X/2v/Y/73/8P8QAPP/8f/e/xsARAAfAPH/AgArAPn/6/8CAPb/1v/7/w0A4P/z/yEADAD1/zMAGwASAAwA6P/y/8j/7//N/7n/8f8JAAMAFAAPAAoA+/8RAB0A7P/x/+7/GwAOAOr/KQDy/9f//v8XABgA5P/w/+X/5f/4//7/DgAZAP7/BgDb/9//BgDu/wIACAAQAPL/3v8NAO7//f8GABIADwDa/wgA/P/a/+f/4P/s//j/JgAeAPf/DwD3/w4AGADh//n/EAAUABAA/v/w/9r/8P/c/83/8v8RAOr/8//h////GgDe/+f//P/q/9P/0P8jAPz/9f8kABwAFQALACIAAQDa/x0AFQD6/wYA+v8qACIAAQDp/+f//v/L/+L/8//j/x4AJwASACMAKwAEAOn/KQAMAPn/CgD6//3/BQDz/xUA+P8cADwAAADx/97/AAAVAAEAHwABAPn//P/7//D/4//q//T/CQACANj/6//1/wgABgDq/w0A7f8AAEkAAQAJACQA+v8TAAgA+//+//z//v/9//7/DgA4ACQACwArAP7/5f/x//v/DwAQAAYA4v/g/+L//f/r//P/zP/E/xoA8v8AAPX//f85AB8AKAD9/wkAHwAAAEoANQAXABUA7f/l/+j/GwAPAAUADgAOABoA7v/j//b/0f/s//j/5v/4//z/AAD7/wMAFAAJABAAHAAFAAsAIwDu/+H/4v/T/w8AAgD2/w0ABAADAPz/yf/r/7f/zP8DAM7/DQA0AAIALwAdAN//6v8LABQA6P/3/wgA6P8NABMA7P/3/xcAEgDd/+//HwD1/+T/4P/g/+v/6f/j/xUAEgDb//D/AAASAPf/7P8QAAMADgDz//X/8f/q//v/8//m/+f/BAALAPz/BQDe/xwAIwD+//j/zf8gAPz/2//5/7r/5P/o//L/DAD4/wAAAAAlABUAFAAcABYAIwAKAP//EAATAPr/4v/r/+3/EwAiAPf/+f/3/w8A+P/d//X//v/9/xoAHQAGABwAIAAoABoABwAGAOr/3//k/8H/wP/O/+X/7v8JAPb/GQANAOT/IQAFAOn/7P8TAA4A7/8MABcAEQAFAAYAJgABAP//9////+X/y//+//n/yv8BAAsAGQDm/+v/DAD6/+r/4//+//7/AgDx/9T/9//1/xcAFQDZ/wEAGQASACMA//8DAAYA9P/z/+z/7v8AAN//7P8aACwAMQAjABwACwDu/xEA+f/h//L/+//6/wQAFAAaADgACwD3//7/4v/z//P/EAAtAPT/AAANAAwA7//L//b/BQAJACIAAQD7//r/9f/N/+r/6//G/9b/8v8cABQAEQD1/+D//f/0/wEA/f8IAP//4//u/w8AFQDk/+//7/8BAAMA1//z//3/BgAhAN//6f8SAO7//v/w/+f/DgAPAAQA6//2//D/7f/x/+f/CADt//b//f/g/xUAAQDR/+X/0//k/+X/CAAXABMAJwAmAPn/CwAWAAwA//8VAPT/5v/Q/+X/AwDm/+7//P/7/yMACQDr/wUAAgAEAAkA9f/8//H/5P8DACcA/v8NAPf/7////9n/6v8DABkABAAqAGsAJwCu/+P/BwACAAcAAQDg/+r/AgAYAAUACwDw////DAAIAO7/9P8EABgADgD8/wAA2P/N/+L/pP/9/wwA/f8yADoAMQAPAAQA+P/M/+v//P8lACgALgAgAPn/EwAYAO7/9v8UAPv/8v8mAOj/vv/l//b/FwD7/+L/7v8OABwAFgDq//P/OwAJAPj/LAD+/ycA5v/S/wIA8v8DAPP/7v/q/+b/DwDq/woALQANAAQA5v/w//v//v/q//T/CgD5/wQA9v/x/wIAAQD4//f/FwAWABoA7f/X/wcA8f/8/wQAEgDq/+P/CQDv/w8AAwD0/wgA7v/m//P/GQAIAP3/7/8iAE4A8v8BAAgA7f/x/+7/8f/e//D/AQD+/wwADwD1/+f/7f8BAAcAAwAEACoAHgDt/wEA+v/2//n/4v/1//7/5f/3/+3/BAD0/w0ADAAGAB8AIgBEAC8ABgDw/+L/1v/4//z/zf8UACoAGQAKAP7/JAAAAPP/8//6/woAEADd/9H/9P8KACIAIgALAPz/9f8QABkACgD6/wsADADz//3/7P8HAAcA6v/x/wIA9f/7/xkA8P/2/+r/5P///wEADwD//wQAAAD4/xEA4//j/+7///8XANv/2v/2/xcA/f/Y//D/BAANAP7/+P8WAOv/6f/r/+n/EAAOAPH/AAD2/+D//P8BAPf/+P/s//X/8/8BAPz/7v8GAPD/7f/3/xUARwAYACEA8P/S/+L/yv/x/wMA+/8eAP7/CgASAAQA+P/4/xMAGwATAA0A7v/h/8r//f9eAFQAXgALAOr/4P/X/+D/5f8GAPf/7/8JAAcA/v8UABEA4P/f/9//6v/8//f/FgAqAAcA1P/m//3////z/9b/AwAEAAMA4f/m/w8AHwAHAC0A9P/Y/x8AAAAMAOP/4P8jAOT/u//B//H/DgAWACEAQgBPABUAvf/I/1YAkgAWAGP/2//E/+/+0v6H/18AdgBiANMAlQA2AP7/MgB2ADoAKADh//r/vv+U/7j/6P8rACEAHADz/+P/9P/v/zoASQD7/yEALgAfACQA6f8DAPr/nf+t/7X/xP/e/8f/y//0/8//8f8LANL/CQAmAP7/AQAbACAA4P+y/7z/o/+h/7H/y/8PAPL/HQBAAFUAcgBCAEYAZgAUAO3/5v/E/9H/c/9U/27/lP+5//r/VQBKAFcAdgBtAGYAKABDAEcAAgDp/7//xP/D/4X/v//o/8z/jP+5//n/BAAKACEAhgCxAL4A+wCVADwAhv84/93/c/81/03/Vv+G/5D/5f9IAFUAkQDfAOYAmACJAKsARAACALH/o/+Z/0v/I/9c/0//eP++//r/ZgBYADEAtgDrALgAkgBKAFsANwDz/7H/bP8M/zX/Ef8I/0j/kP/E/0kA/QDjAKUAaQB8AKkAoABYAAkAuf/Y/4f/9v4L/zz/cP+Y/6f/4f8vAHUAowB4AK4A2QDjANoAkgAsAOv/3/+o/yX/F//j/tj+yv4d/6//5f9jABQBKgFBAVQBQAHzABMAuP/T/+3/1v9r/wr/1v6m/pf+9v53/xoAsADmACEBCQHlAAgB5QCuAHwAYQAYAM//gf/v/rb+pv70/ur+Qv/j/yAAXABrALwARAFOAWcBuwCHAI8AHQDm/7//Ef/5/uf+9/7D/rb+U//s/00AfQDVANwAPQFdAegA1AByABMAHwDr/8n/Rf+R/n7+ZP6l/tL+af88AAgBUgERAcoAlwDqAP4AdgBpAHQATwAJALX/E/86/uj9Av51/jv/7f9nAPkANwEiAVYBJwHoAHoAawB7AFMA8//L/3b/0/5b/h7+Bv5k/jL/NgDlAD4BYAFCAVkBGwGSAKMAlABmAJEAUQCw/9j+hP43/h3+Nv5t/nj/0QBbATEBVwE1AVQB/wCxAGsA//9jAHAABAC0/w//kf5Y/hv+Tf7D/pn/OgACAbUBAAKPAeQAyQDiAAcA7/8GAB4ANABZ/9H+SP7Y/T3+o/4b/87/1ADBAeUBjgEKAfgAsgAvAPj/CgBuAMwAFQBg/+v+U/4b/ir+nf5b/w8AGQG9AagBEQH6ABMBpAD3/9//HgBaAEgA9v+v/xv/4/5m/hf+e/7Y/o//qABvAc8BdgHkAMsAtQBHABEA/P8QABoARQDU/zf/nv6M/sD+8P7+/sb/OQFtAeQAYwAmAUUB6/9i/93/UgB0AFIAOwDm/6j/Nv+y/sP+8P55/4X/OQA+ARoBfwBiAOMAnwCw/1T/4f9kAE4ANwDY/6H/tf/V/vj+Ev9e/9j/FACfAPcA5QBFAAYAPQAwAP3/ev/T/4IAEQDL/5b/pP+1/8T/tf+S/wwAOgCiAHkAxf/g/yQAEQDV/6P/0P8fAHIAQAAsAO3/qf+k/37/kP/w/0gAKAAZAHYAaQDw/5//kf+4/8P/KQBMABMAHQA6AGkAHgCv/7//sP/u/1AAqwCJAPj/5//V/+T/u/9d/5z/EQBmAFMA4f/s/zgAEQDR/8z/DAA/AEIALwAbANX/0f+j/1T/oP+q//v/CADp/zoAdQB4AEAAIwABAN//FwAtAE0ACwCl/7T/1/+1/4X/1f8OAAIAMQD3/xsAMQAmAEcAAAAMACMAOQAyADoAPQDz/7r/x//L/6j/jP/O//X/KQA7AB4AyP8JAA8ACAAzAPz/EAAlAEIAagAdAOX/yv+9/+n/w/+v//X/IQAZACAA4v/s/x4A8v8QAPT/BQBHAFMASADf/+v/+f++//P/w/+4/zQAAQAOAAUA1/8DAB0AVAAjAB4AfgA9AP7/4f/m//X/p/+y/6n/wf8wAAMADQAeAPX/MgAjAB0A4//M/xgANQAZABMA7f/n/wYAFgD7/+L/GQDi/8L/DAAQABwA1P/S/wIAFAAOAPr/IwAXAM7/EAAHANL/z//c/xUALQAYAPT/9v8aACEA9P/5/wgABgAOAP7/FQAzAPb/2v8SABsA6//m//f/DgAdAPX/DwBTAPr/vP/J/yEALgD4/wAA5v/v//T/7/8BAPH/AAD9/+//GQAeAAUA5/8CAAEAFwAVAO7/CQD8/9j/CQD4/xYAJgD3/wAA6//s/+v/JQAdAO7/AgAcAEoABgDr/xMAAAAPAAEA7f8fAPz/5f8EAAwA4//e/xMAIwAFAOD/zv/w/wUABQAGABEADgAbAAoA3f8ZAA8A/f8DAP7/AwAAAAEA4//b/9P/6P8SANb/xP+7/9v/AQDo//X/AQD+/wEA8//p//P/4//x/wQAAwAlABcAAgD4/+3/BAAbAPj/7/8IAPr/5P/4/xEA6v/w//7/GQARAOL/9f8RAB4AAQDi//X/3f/z//j/4v/s/+f/9//p//X//f/+//3/EgAXAPf/+v/w/wEAFgDn//v/9P8FAC0AEQAYABkA8P/x/+//8/8bAPf/+/8HAP7/DAAaABgABgDt//f/7P8EAAcA+/8dAB8Ay//0/8//3P8UABoAFgDe//H/MgAWAOb/z//Z//H/2f/n/wIAJQAHAMX/9v8LACIAAgDI/9//5v/d/7v/8f8FABEAQADo/+//5f8HADcA1f/6/yAAKQA0APb/DAAVAA0ACQDr/83/1P8QAOj/u//z//v/5v8GAAwADgAGAAQAKwAkADIAFwAPAAkADADv/83/7f8WAN7/0f/2/wwAFQDW/8j/+f/+/yQAAwDx/wAAHAAcAPL/DQBDAB4A6v/f/+j/4f/w/ysAEQDm//f/BgD6/+n/CgD8//b/BwATAAoA8P/u/wkA8f/8//n/CQAJAAgAFwAJACcARQAJAOf/5v/0//P//P8UACoAHwDl/x8AJgDq/0EACgAPADIAFAD9//f/IwAqAEYAZgBeABkA8v8VADEA/f/k//n/IgApAPn/vf8OANf/0P/7/8P/2f/3/zQAGwAHAEMAKgAzAFIAAwD2/ykA/f/z/xoA9//x/wUAx//F/9X/xP/3/zIAGwAjANb/0f8KANb/6f8MABwADQDr/xoAGAAaACMAEAAIAOz/KgAwAAsA6v/w//T/DwDm/7D/AAAEAO//8v/f//D/BAD9/wQAGQDq/+f/8//x/yIAHAAKAPr///8eAPf/CQAJAPf/DwD8/xYALgApAAgAEgD9/wkA+v/b//n/FgAZAAEA2f/8/wwAAQDb//X/+v/R/w0A5//q//T/6v9BAEkALADj/8j/8/8YACcA0f/W/xkA8/8pAPj/BAD6/+j/+v/2/+7/3f/s/ykALwD5//f/7v8KACQAHgAKANP/6f8eAAsA+v/o/xcANgDu//j/JQAMAAgA4//I/xcADgDt/+D/tv/N/x8AFAD2/+3/BAA8ACEADAATACAADAA+ABIA6//9/w8AMAD1/7z/5P8OACQA7/8CAP//7P8QAPH//P8CAO3/DAAIAO7/9//d//X////8/wkACAD3/xUAKwD///P/MQArAOH//P8IAB8AQwD8/9r/5v/9/wQA1f/F/9T/2f/m//v//P8SAAQAKwBDABkA9f/l//L/5v/o/+7/+f8EAOn/GwAEAPX/MQA4AAcA1f/q//n/4P/c/9D/4f8RAPz/7f/z//3/DADz/9//BQAzAAgA3P8YACIA7f/L/7v/1f/Z/+n/yP/B//X/NgDk/8b/4P8iABoA8v8jACgA9f8KAAMABwDR/7n/BADo/9r/CQD8/yMADADS/+j/4/8eAEoA1f8LAGwARwDc/wIASgDy/+f/9P/U/8P/wv8HAAcA2v/3/xYAQAAWANn/BwBGABEA9f////j/8//F/8z/4//Q/+r/LQBoABIA6f8mAD8AXQDi/83/5P+T/93/sf+Y/8L/HAB3ACIAEgAzACsADwAVABQApv+E/8D/tv/u/wkAFwAJACUATABCACAA2v8iAEIAvP99/5X/3v9pADAABAArAHEAMQDn/wQAxf/d/6j/2f8yAPT/tP/u/zIAYQAnACAAGQAgAFMAFQDb//T/HQDr/+D/OAAXAMb/DwBNAJcAeADy/5D/CwBY/9H/DABi/zMAiACkAIwAc//o/0sA8P+Z/xn/Af9s/0IAKQAKAFYAvAAgAaMAdQAqAOr/3P8VAOD/bv+c/3D/mf8bAHcABADY/xwA9v9aAP//qf/M/9T/FQCY/2X/+P99AAcA8f+XACgA8/9FALj/of/9/woApv+w/8D/IACZACkAGABDAHwAcwADAIH/sv/m/w4ANwCA/9D/QwAHAD0A6v/0/30AaQB6ALz/N//g/8j/t/8NAF8AqACCAOP/+v8LANj/CADe/5n/wv+a/+j/RABzANkAswDp/83/tv9t/9n/7f+1/4v/W/9r/9f/AgBDALMASADy/xIAmf9L/5D/7//6/xoAYwBoAEMAZACVAGkANgAzAAQA9//7/+T/qP9l/6H/tv/J/9r/MAB/APf/3P/z/+H/CwA1AN3/Z/92/9z/OABzAIAAdQBaAN//qv8dAPH//f/z/2L/n/+J/1//GABrAFEAEwCv/+j/8/9bALgAAAC3//j/kP/I/2kA1gCXACIAa/+0/0kAwf87AOz/Zv/k/07/2f93AI0AewAiAND/xP/P/8X/EAD0/47/af/i/qf/kABzAMcA3wDg/3T/lf/s/2kAtQDD/yj/1f63/r//rQDQALAA//+C//b/2f86AMUAaQDG/13/+v4v/+L/hQDHAD0An/+y/+7/ZwBYAIQAjwDc/yT/a/+s/1kAowC1AKMABADC/yMAFQBCABgAh/+X/0P/EP+V/xEAgADLADcAsP/C/9D//v9xAIYA4/9M/xT/Rv+4/z0AtgCoAHsAtf9h/+H/KQC+APcAEgB0/1f/QP/g/3wAZADiAPEAFAC4/wsAJwBsAKsAr/9H/yb/1/65/yAANQCIAJwA3P+M/wMAbwD0AMUAzf/d/jz/Vv/a/90A/gDhABcA+/61/2gAggAUAVwA+/4s/wD/fP+JAGUAhgBoAH//H//p/9IAcgGJAQgA6v4j//D+GQCIACYAvgBsAEv/J/8XAPUAgwE0AdT/N/9n/+b/CwDp/8n/sP9c/8D+ef8GAasBegE1ABH/nP6S/ykB8wAm/+r+kv9g/4z/YADQADgB2wDW/y7/hv/GAO0ALwDJ/+r+Q/+N/9j/ZwAfAS8BGwBb//T+0f9DAXoBMgBn/6H+x/6i/zEA5wCMASAB/v8o/wX/9v/RAPAAAQDo/nX+If9AAK0AYAE8AT0AAv/Z/uX/1AA3AWgA6f45/tn+vP/jAFUB7gBQAMT/c/+5/34A/ACKAG7/Z/7K/qn/OABPAPkABwHq/xD/Pf/m/0EBFgE/ADr/h/5p/2YA0AAyABUAmQCBAL//Cf+u/8YAhQGTALr+7v2d/9X/bgBAAML/6P9OAK8AHAAFAHoADgA6/4v/RAArAO3/sv/C/3T/1v8aAHEAoAB4AB4A1P+4/4f/BADJAHUA2f8O//v+KQABAdYAcQAVALz/pf+O/8r/MQBgABIAcP8v/5P/LwD0AAwBOgAaAND/Vv9t//j/AgA6AEAAtP8q/zr/MADYAPwAagCA/yT/rv9qAB8Atv8ZAAMA+v8AAPv/LwBtAJoAlAAYAA7/M/8oAIEApACx/xz/MP+5/yoAQgBUAGYAUgCa/0P/k//1/6wAkABTAMn/Uf/e/x8AkgCIAOX/pP+6/6X/2P+WAEYAYwBFAFD/bP+N/x0A0QBcAJr/gf+V/67/5f9hANMAiADC/23/h//P/zUATgATAMr/tf/I/57/BgB7AM0AowDa/4b/oP9FAIYAIwCp/1j/3P8QACEAZwApADEAKgAJAKb/f/80AE4AOADL/2v/oP/N/3IALwD2/ysAGADx/5H/uf8vAGAAFwC6/xEAWgAsAEMA/P+1/+L/+f9eABQAy/+I/8b/oP+w/xwATABdADIAyP8QAOn/9P8uAAwA0P+3/8z/4v88ABYAUQChABoApv+v//z/VwAyAKb/kP+i/9L/OAARAAYAJQAxAFsA9P+o/+z/3/8rAPv/3v/4/+D/BAAGAFwANwD//zQA8f/8/9b/0P8IANP/IABOANv/yv+7/+T/UAAkAAAA2P+l/77/zf/P//v/BgBRAB4A6v/h/w0ASgABAA8A4/+//woA6v8+AHIACQBMAPb/nP/v/xwAOwD+//r/y/+4/+3/7/8dAG8AYgDV/8D/0/8iADEA8P/5/8b/zP/8/+T/FAB/AIcAFQDh/7b/3/8ZAGkAWgD8/5v/ev/y/yIAEwBYADAA/P/d/8L/2//9/y8AMQDi/4v/mP/v/2EAMABCAEwA/v/O/9X////c//j/+f/K/4j/zP9oAFEAPQAuANv/sf/0//7/yP/6//H/l/9c/9L/RwBuAGUADgAEAOf/2//H/yUAGQDG/87/oP+4/xIAawBsADEA6/9w/8//VgB0ADkA6v+//7L/BQAqAAYAOAAtAL3/sP/1/yEAVgD6/7P/w/+1/w8ANQBUAHUA+//u/8L/HQB0AE4A+v+I/7f/v//S/ywAXgBGABkA9P/N/9D/NABZAL3/U/+L/57/DQBXAIAAbgD9/wYA4P8FAD8ADADW/4n/uv/x//f/QgBMAEQACAATABYABABbABgAvf+O/4r/5v8sAGcAMADD/5X/EQB+AHQASgDe/1r/jv/f/+7/LQBtADIAyP+a/xMAZACtAFIAm/8a/2D/IgBxALUAdgDv/5X/x/9JAH4AbwAHAHf/Ov9Q/9v/bACWAG8Ax/9h/5n/WwB4AFwATACa/1P/lv/M/ycAVgBIALX/pf+y/2cA3ABwAOv/a/+B/8X/CQD//zEAVADu/8b/7P84AGgAQADx/67/yP/v//v/1f+s/9//QgBSAEQAHwAAAAgAAQApAMj/1f/h/6r/n/9j/8r/qgAFAT4AvP92/7b/ZgB+AJAAMwC0/2f/Vf/r/5cAsgBEALz/RP+x/zkAjgC/ADsAm/8F/xj/uP+lAAMBrgCP/xz/zP8mALkAAwExAGf/G/8w//T/3AA/AakAkv/M/n7/VwDnAAIBKwBk/3//k//X/zUAsQDBAAIAS/8I/5v/mgBHAakA4/8s/3L/3f8XAOL/1P84AC0ABwDS/4r/FABLAGAALQDJ/+7/jAB3AKH/Sv+a/w4AewA/AA0Auv+R/+v/EQBzAGUA4v/P/+D/8P/E/9b/r//m/zUAbgCKAAQAyP/b/+n/UQBCADgALACp/+j+AP8GAGwAygCuACsAiP9H/x4ArQDHAIAAwf9v/83+Df8IALkAEwGHAJv//v4a/wUA4QD8AEgAQ//b/v3+wP/lAAYBXQC7/2z/gP8rAL0AqwBSAIL/Yv9M/1//pQCLAboAq/8F/1r/nwAUAfUAQwBq/9n+wf5k/6kA1QBZAJj/eP/U/ysAQwCLAB4A5v/2/4T/Pf/N/1YArwCdAP7/kf9///r/awB5AFMARADm/4T/ZP9v/+7/2QA0AaYA8P9L/zb/5f/sAMYAawAVAMH+8f5t/3oAJgHHADkAGv+p/pn/9gB9AQIB9/+7/pb+Av8/AGQBPQFPAG3/qv4p/4wAKAH3ACYAzv6d/h//JgBkAYgBggBG/8n+if95AFcB/wDl/9P+df4I/4YAGAHvABoAEP93/xQAaQBPAAkAyP9D/3L/KgCcADMBgwB//6H/AADFAK8ABgBI//f+Pv8AAB4B+wBKADL/vf6v/w0BkwHFAB3/dv5D/ir/pQALAn4Bs/98/rX+GwAVAtQBnwAX/xn+RP5t/8QACgKIAZr/Qf4K/v//YwIUApsAwv4J/rH+r/+vAXcCRgG9/4v92P03AHwCwQJgACD+Qf0N/kH/qgGgAsIBXP8f/Wb9VwAJA7QCFwF2/mj9X/47/5MAxQH7ATUABP4q/QP/qgG6AsEBJv8Q/sb9n/59ADYB2wFGAaP/iv6//l4AeAEPAs4AUf+5/uj+EP84/+P/wQCGAT0B1P8P/sL+vgCYAuIB5/8e/93+qP50/rb/hwG6AhECF//v/B7+lAB5AxgDmQBi/hH+0f0F/4oAvwKbA8ABI/6N+/b8pwHNBBMDggA2/cr89v0A/6EApQLuAj0B8/2N/Pj8eADCAy0EsABk/fv8Iv4y/ygAnQFpArIBtv/O/Gf8mf+UAr8D+wEY/+v9lf2H/mr/uwBrAhMD4QCv/Yj7RP4kArsEUwN6/+39hfzO/fX+vQBVAjUDWQG8/SX7gf1WAfkEfQSnAAf9j/zX/QD/fAFtAlMDbwFU/lH7fvxgAP4DeQR3ATT9f/sL/VYAwgAlAX8B0AFcAHH9RfzB/ukCowQQA+r91/u5/Wz/7/9pANQAxwK3AdL+HPx1/EUBuQRUBTsAxfwo/P/+iwAEAXMBlwKRAUj/h/v6+iwA9wSdBZwB8fsq+z39XQAQAo0BBgJxArv/1vtU+43/rgS9BlsCG/xE+4v9nP86AM0AWALQArEAZPy5+k7+cwTrBiYDUv4y++f8ev/XAWYBzgHWAugBFP6A+t37dQG7BrIEC/9F+/D7GP/oAWsB/v8jAogCCwCG/Az8DP/fBLMF6wEY/Tr77PyNAPIBrwBGAKUA8wDt/ob8fP3fAfwEbgTG/6H8Fvyn/vMBXwL8AaEBrgA0/179Hf1mALIDGwRmAYP98/tf/X7/cwHKAR4C0QFx/4n8KvwKALMEVAVWAbv9UPyZ/VIAqQD/ANsBqAJ9ALL8Jftu/v0DvwSvAk/+dPsF/UsAugBVALEApQHxAQP/hvvs/KIBAQZOBKf/Q/vY+3P/zwFiAW7/zP9jAYcAIv6H/JH+jAJDBKgBdP24+0z9ggEWAocAIv+K/7oAWwBn/4n+2/8HAlIC7P9S/nT9Tv/+AMcAKwDt/hH/if8wANMA6gBrAMX/Lv8vAJIAdwBx/4P+nv5PAIIB2gDb/1H/zv/bACwA0P/r/9QA+AC3/0L+Cf6w/8MAXwF3AEwA3f+4/9f/vv88AHQBRwGi/x7+GP1j/tIAUwNVAij/2P1D/gAAnwFVAYYATgAv/57+Df7o/df/PAIyAykBOf4W/dL+vgHgAo0CSQBC/v79N/5W/xgBVgIWAlAAIv5D/SH/xgHVAt8BagCN/uD8Fv3j/ogBSwP7AlkALP3B/Kz+mAIbBLsCuv///K389fyd/xICrQM8AtL/8/xS/Rr/+wHtA98C+P9E/TL8hfwm/1ICdgRNA2f/zfs+/B8AtwMlBUYBrP0w/aH9Af7H/18BbgOsA48A2Ps5+xL+wQMJBpYCNv5f++r8VP52AGUCeQN9Ak7/b/v5+zv/9wPQBf0CSf0D+7b70/6MABMCjwL8AkEAGP2l/Jv+MANSBnsD0f6y+yD7tP0BAUYCcgMXA47/Rvy0/Gn/UQPZBIICqv4R/J77vP2w/yYCfQJWA/gAav33/Bf/mALuBKsDXv+O/Pr6Z/xi/xsCdgIhAhwAOv4L/ZD+jgGMBCoERACp/D37ifwFAFADuwOSAs8A6f3B/M/9sQA1BKcEigIG/6/8sfnA9zr6Cv/aAzn++/4MAakBhQQOBroDtgA7/eH6BP2EANsC/wTVA4j+vvrP/K3+YgD4AoACOQG3/WL78vpy/q4COwPGA3YAofwc/GT/GwT3BWoFvQCi/cX6RPqN/RkD3gMtAwwAEfyE+s39pgEzA7sCvP+V/oL96vvz/e4BEAebA/z9Mfrg+kT/XwRyBpEElQD5/Jz6DfvB/V0CegXtBEIA4vtS++X9JALVA0kC8f/M/Wr9ef5v/+UAzwMzBFAAsfxK+0X+jwJABLQCef7F/EH8uvy1/zcDngRWA9f/nPsK+6z+4wKaBAwDsgCS/hD7mPp0/hcD/gRDA6n/XPzN/PP92gFtBPYD+QB4/RH8fvw2/xoDnAM1AhIAWv0B/Zn+aALyA4sCjv/T/Mj7F/wi/h4C9QRrAyz/fP30/F/+NgLOBFYEegDf/IL6zfuE/rIB1AN0A/YAGP7o/LH+SgDoAvwDtwFc/Tn66/uO//MAPQKeAtsA9/3N/Ej/cAMpBZkDUgB3/Nr4YPjx/T0DTwWtBNcBNv7f+wD+ugAyA4MDewGN/tf7x/qr/bgCZwPJAjcCoP9Z/Ov7o/7vAzgGwQJp/on7Cfth/ToBzwNaA+kCbv8h/Lj7bP4HAycGTwOd/d/8J/zQ/H/+HgJ7BOEEoQCl/B/8iP2GAMwEXgW0AFT8oPo2/X8AxwErAuwDCwGL/SL8k/wLAFsDngSwAhf+N/zI/F3/uAEjAokCwQAp/xz93fx0AA8DhAMYA9P++PuB/OL9wwFKA+QBnQDj/SD80PssAE8D4gNZAxYA7v3G/Nf9EQCMAVICGwIcAL39IPy+/vEBMwOaA9YBTP70+2H8Gf9HApADnAEn/y7+Uf2i/kwBwQNzA9AAo/1b/Pj7cf75AXEC3gK1AYT+ZfyL/b0A3QIIBEQCYP9v/RX9w/zM/kMCtwJzAX7/vf0O/hkA8gGuAnICdwG+/gf8Yfyf/kMBSwJIA88BW/72/F/94QA5A6YDtQGG/hv+t/2o/DAAeAMyAgcBjv7z/Dz9KgDiAoQCOQK8AF/+v/wN/V3+BwF9A9ADnAB3/k79Xv4/AW0CEQJ0AAT/Mf4F/af9QAAFAlUCdwGc//X8A/7pABACbgIaAg8ANf56/Uf9DP+3AcQCzAEx/2f9v/3D/6UBTQMdAxoA+f3Q/Cf9av9xAT4C9gJvAW/+K/0Z/90AfAJUA4AByv9l/cr70v2/ALACvwPbACT+Xvz6/ZoAqQFEA/oCDwBU/Un84P3u/8YBggJGAhgAd/1o/Ev/zQJAA9kC4wAi/4b9O/2S/rkAxgIKA1cBFf6m/Kj/mAE+AdgC/AGU//z9sv3y/S3/HwHvATcBHADw/TT+FQBGAQ8BQwHLAVX/Rv6Z/uH+r//gAIwBIwDl/mH+cf8xAewBtAGyAHP/nf7G/iz/SQC4AFUAMgDg/4z+uv7g/+sAUgGvATwA1/5e/zj/Wv9PAK0AjwAOADn/qv4xALoBHgE7AA0ANwCH/+z+ef8wAEgABwHyALj/P/+v/1sAPQCTAN4APgBL//L+RP+T/woAcgBjAE8AXv+u/s7/igA4ARsBTQCg/1D/mv8J/7j+pv9tAakBkQDG/gP/qv9FAIcBXAFUAKH/Df90/gD/KgBdAMgA8ACQ/2T/5P8FAC0AxQCsAMQAZP+V/cz+c//XAMABQQE1ALr+6f7U/6EAZgE/AaUAo/8h/vT9kP87ANMAAQHWABkAav+M/2z/wgCnAdcAy/+R/hX+Hv9ZAIIAQAGpAQ4A9f4r/w0AOQFaATsBXgCv/vn9oP44/34A9gDZACQADP/l/pH/rwC5AVIBtQB6///9y/1v//QAKAFWAdgAM/8c/rL++v8aAd8B5wCS/0n+Jf7f/l8A+QDJAPQANgC2/oT+yP+VAVkBIwEfAIT+Rv5//r3/kgC2AB8BQQAJ/4b+5f8jAaUBewFFAHL/Gf5H/m3/xgBPAdQAxf8c//n+i/9AAKMB1gGTAMD/uP7C/eH+hQAsAZUAZgCT/yP/if9lACwBFQFrANz/Tf9G/rr+NADRAKAAIgCz/0j/qv82ALkAAAG9ABAAOv85/hT+8f9BAYwA5P8TAOz/Zv8tAEcArADDAHgAAQA+/77+Av8cANkAdAAUAMH/cf+K/0sAAAG8AE8A8P+7/0n/x/7P/5AAbQAPACoARwDN/+b/agDoAJcALgDw/zf/7P7A/08AaAAlAOH/9/8HALX/4v+NANUAkwANAJD/AP84/7T/JwATANv/IgDi/2r/EQB6AIwAnwAtAAAAWf9o/wUAOwBuAEMAaQAqAHT/Wf/Q/5MArAA1ACMAlv8h/0z/0//j/xMAWwAcAKr/ov8VAGoAcwC8AHcA3P8v/0j/z/8nADYARwBPANH/uP+P//D/hQBwAGIA7P+p/2L/of8vAEEAMwB/AFoAw/+z/wkAXQBKACkALwCl//P+Of/5/xgA+v9CAE8A+f/J/zAAUwBPAE8A7P/y/y//E//7/x4AbwBZAD4AAwB1//X/hACYAIgANAAOAKz//P4T/+n/PwBXAHAAAwDL/9r/LQB0AGoAWQAoALT/VP9B//z/eAA4AEcAEwC1/6v/0P9nAJ4AbAAZAJb/G/8r/83/YQBPAGEALgDN/7r/zP8qAIkAYwDs/3n/M/9V/+D/DwBiAFUA+P+i/8n/BQAaAGoAlQAsAGn/E/9i/6b/PgB1AEUAEgCt//D/EgDz/zcAiwBnANb/Dv9i/9P/FACgAIgA//8IAN3/BgBUAA8ATAAWAH7/QP+f/0AAVwCyAEAA5f/g/7L/CwATAFoAdgApAKv/LP+B/wEAXQBpACQA+f/Z//X/yf8WAHwAVQD9/4r/Vf+D/97/ewC7AFoAAwDw/+b/1f/k/14AaQDq/2z/Xf/E/+r/JAB2ACsAAAAZAB0A8/8PADYAMQDu/6X/6f+5/+b/NwBIADoA4f/W/yAAGwALACsAHgDW/6X/vf8cACIA8f8JAAUA+/8eAPX/9v/z/wMAFwDa/77/BwDr//P/CgDn/yIAHQDl//v/GADR/7X/3f/b/xkANgAgAAQAEwApAB8A7/8AAOf/9P8oAMH/tf/b/+b/HwA8ACAA+f/h/wQACQAOAOD/zf/K/5v/3v8OAAIAGwAUAPT/BwARAAIA5f8OACkA8v+j/5T/yv8FAAAAJAACAP//NwAlAAkAFQD+/87/vP+0/6X/8v8QAB4ANwD9/yMARAANAD8ALwD//97/w//P/+b/DQApAEQA+//3/wsA2f/6/w8ARQDm/1H/kP++/xUAHQAXAAMA6f8pADgAKwBFAEcAOADk/7//4//9/z8AJgAtAOL/s//t/+v/7v/1/wcAAgC2/5b/7v9EADYAWQA5APH/TAAmADIAUQAhAPz/xf98/4b/6v/3/0sAbAD9//L/FQANAP7/MwDy/9z/1P+J/9H/6v8lAGYAFgA1AC0A//8HAP//PwAjANX/sf/k/xEACQBMAB8A9v8MAPn/8//j//L/GwDd/5b/w/8KAOf/JQAZAPz/OwD+/wgADADv/wgA8v/E/8b/zP8JACsAPAD2/wUAJQAIAPL/8f/7//T/sP/O/+X/6/8AAEIAOwDw/wwAGgD8/xgA8f/x//D/qv/G/yMAFQA4AFQAFwANAPr/x//f//T/4P/Z/63/sv8EAPr/LwB3ABIABQARANn/IgAVADEAFwC1/4j/ff/Q/wYAYwBrAPX/IwAXAO//KwAgABUA6v99/43/s/+9//r/SwAZAO//FAAXABUACAAVAB8A8/+M/3z/3v/5/zkAeQA9AAMACQAFAAkA+/8KACYA6/9w/4b/y/8OABoAZgBLAAkA8f+w/+7/OAAuACQA7P9+/4r/uP8uAGAAUABgAO//5P8KABUAOQAXAAAA0/+E/47/5/8+AEUAZwA2AL7/zv++/yQAnQBJAAQAvv9V/5z/9v82AGkAYwD8/9b/4v/u/wkAOgAuACsA0P9+/4f/zv8NAHgApAAqALv/5P/z/83/SABWACwABwCv/5D/nP/V/ygAUQBOAPH/5v8JAPr/GwAtACsAFQDf/5r/gP+Y/+v/TABaADYA6f+3/9P/+f8xAFwAMgABAKf/bP+l/w4AXQBlAFwA4v+x/xoACQAxAGQAIAAHAKj/c/+4/y0AUwBjAG4A9f/F//D//f8hAFkAOAD9/+L/c/+E/+j/RABsAFoACQCs/73/2P8YAFIAOwAMANb/of+a/9X/EwBsAIUARgC5/6n/3P8MAHEAZgApAAgAwf+W/6z/HwCMAJ0AdADx/3X/pP8MAEwAcgBQAAoApf+B/4j/CABRAIMAiwDy/4P/mf/M/1wAnACDABgAsP+H/2j/2/8yAFcAgwAsAMv/h/+s/zwAdACqADYAtv9+/1P/s/8wAFwAigB9APX/of/N/zcAQQBmABoAlf+J/5P/w/9tAIUAGwBSANz/ZP8NABsAMgCKAPX/mP+E/5X/3v9WAEYAVAAtAKn//v8SABwALQAGAND/nv+D/6z/HQAqAFoAYACz//r/FgDS/xAAHQDx//z/oP/H/yYANwAnAEwAAgD9/0QA6//f////0P/5//X/zP/9/wIAEQBMAAQAy/9AABIAvP/q/6X/nf+7/8b/9P8ZABkAMgA/AAgASABwAA4AAwDd/5L/r//b/wcANgApAB0AEwDV/w8AOAAQAOn/7f+r/6D/8v8TADEAKAAfAAwAy/8HAEoAGAAJANv/iv+S/8n/OQBjACAALwDz/6D/0/8qACoAPADr/6v/nP/b/0QAfABnAGAA1f+m/9P/AABAAE0AAACT/5//rv///2YAbwCAAOr/uf/i/97/4f9GAAQAz/+y/7n/JgBPAF0AagAFAOD/GwAOAPX/HADp/5H/t//S/xIAPAAyACMAz//F/zMAJgAWACcAqP99/6X/6P9WAEUAPQArAM3/vv9xAJEAcgANAFv/Q/9b/9//ggCWAIIALQCX/9X/TQBeAGsAEwCH/1z/Qv/s/3sAkwB/AA8Ab/+u/10AdgCzAFcAjv96/y7/yf+dALoAoAAqAGn/gf/5/2EAxgCOAMD/K/8W/1j/SQCjAIsAOQCX/4H/CQCEANUAqQD+/4f/R/+B//v/jwChAAEA7P+K/8H/jwB6AFgAGQB+/23/Xv/K/1UAgABaAAgAzf91/xoAlABNAEIA4/93/5//rf8bAH8AWQAFABEAeP+9/2YAVwAQAAIAhP9V/5//w/80ALQAGAAAAMf/tv9IAIIAKgAaALT/WP+V/8n///+DAE4A8P/F/1z/7/94AEEAVQAJAHj/jP+9/9H/UQCJABUAJQDH/6P/SwBeAPf/LgBs/1L/yP+y/z0AkQBEABQAKACb/9b/gwAQACQAEQCW/+b/9//M/wwA5//g/zEAEADK/y4AOgAAACAA2f/k/04A5/+n/5n/u/8qAHEAZgBYAPb/tf/u/+n/OwB9ABgAn/9Q/13/7/93AKsAuwAZAC//iv/g//v/zQB8AI3/c/8Y/2v/PACVAKwAlgB+/w3//f/g/20A8ADt/4X/Zf8T//n/2wC5AHEA9v83/7f/LgBEAMoAUQB8/5j/Tv+N/1cAagBXABcAjP9//y0AdwBeAHUA9v+I/5X/ov8OADsAEgBRABYArP8NADoAEQDz/9X/2//m/wkAHgDl/6L/mP/0/0YAfwBLAPv/GwC//7j/QQA0AEAAUwCR/0n/hv+l/0wA9wCKAAIAzf89/53/PACAALMAYQBs/0n/a/+8/6oABwF3ACwAgv8e/8b/cwCrAMUA/f9L/zH/R//3/80A5gBpAB0ANf9R/+H/lwDeAMYAGgBC/7P+0P7R/8MA5gCJAN7/Lv+h//7/eQDNAGMAuv9B/1b/CQCqAJoAgQBRAH3/KP8TADIATgCdAMX/Ov9Q/2v/gADzAI0AqgAcAGj/2P/3/yQAigDr/27/VP8r/8b/jgBvAIkARwCZ/93/HwALAD0AMgDG/6T/xv+j/ykAFQAGAFAACwAcAGIAOADf/8P/jf+s//L/7P8WAB4ADAAYAD4ACABSACMAqf+8/8n/hv/c//z/3f9EAP3/EABrAEsACgBEANT/yf8GAND/GAARAKv/1f/0/9n/GgBbAAMAUwAIAHP/BgAdAOb/GACv/9v/+P/1/yEAUQAnAEsAYAABAKj/EADO/wcA7f/Y/xMA4P/7/0sA///i/2gA4//M/wUAlf+s/8b/xf8pAF4A+f9TAEYAw/9BAE0A6/9DACMApv+6/6j/uf87ACoAPgBiAKP/gP87AML/LgCRAOz/sf/B/4//3v9GAFAAqAAsAJz/+v/t//n/ggBIALv/ff9N/3r///80AIMAkwDK/3X/+/+v/yAAewAoAPX/rf9S/73/JQCAAOsATwCz/8z/cP/A/4QA/P/q/6n/Hf97/wgARACeAMkA9P/N/+//N/86AF8AOwAlADX/Gf/g/y0AdQAJATQAo/8nAID/wf9zACgAGQDZ/z7/fP/d/zUAxwCzAM7/LAAMAJH/LgBKADMA//+R/0T/o/8PAHUAtwAzAPv/MgDE//P/cQD6/wkA+/9q/8n//v8vAJIAVADk/xAA6v/E/2oAVADn/9X/ff+N/9f/4v9pAHcACgDb/yEAyv/s/0YA8f8VAOD/j//G/8//JABYACcADAA0ABIA0f8vAE4AHQA2ANT/yf+3/+L/RABAAEYAVwAIAOn/0P/m/xwAIAAQANz/of+n/woAFgAhAFsANwDv/6z/1f/E//H/BgDl/9P/gP/V/2AALQA2AC4A3/+5/8n/4/8JAAwA5f/f/7D/g//b/0MANwAsAAMA/v/b//n/IAApAPn/AQDa/4z/yP9FAHwASwAAAN7/tf8FACIAFwAkAAgAxP+M/4j/8P87AEcAOgAFAPr/3//X//z/KgBVAA4Anv/J/w8AtP/d/1kAjwAeABAA6f/G/xEAMAAnAA8A2/+u/7L/zv/y/w4AOQBWACAA1P/I/+j/GwBEABYAGgD2/9v/vf/S/woARABXADsA/P/u/+3/4P/3/z4A5f/M/6f/kf/p/zsAdwB6AB8Auf+2/7r/3f/1/y8ANwD3/4H/i/8lADAAbAA1ACsA6P/0////uf8LABYADADx/6j/nP/d/yUAWACHADgA9//s/8L/2v8GABkAQAD8/3b/YP+8/wkAkQB9AC0Ax/+g/3z/3/9YAGUAdwDi/1v/S/95//7/wwDXAGoA9v/C/43/uP9FAHAAhwDh/3n/Zf+Y/+v/bgDFAJgA8/9g/3L/7P9gAMIAgwD9/6T/Vv99//f/agCvAIsA7P+D/5T/7v9dAKgAgAATAHD/X/+9//T/YQCPADEAxv98/4j/3v9sAH8ASgA9AF3/f//U/x8AaQB6AGoAyv9d/7//0f+hAIoANgAlADH/Wf/f////QgDZACoAg/9w/6f/JgCUAGoAXgDX/13/Tf/R/yoAeQCmACoA4P/K/8b/KQBcABYA2v+Q/27/n//1/2YAjABsABAA4P/l//H/+P/w//j/1/+z/7f/8P8eAEwAWAD1/yMAPQATADgAAwDU/93/vf/n/yMADQA/AEcA6P8RABsAEgAaAO//tP+u/8H/+v8cABsAMwAJANT/+P8bACEA+f/8/+7/q//H/wgAMAAoAD0AKQAFAAkABAAcAN//rP+8/8j/vf/y/0gAVgDx/8z/1v+3/0oAZAAkADoAx/+3/8j/0v8zAEUASwBFAPz/0f/X/xsAJAD7/7n/rf/q/wwAEgAoAEYAQgBEAEAAAwAPAAMA6f/C/7n/w//l/xoAMwApACUANgBNADkANAD7/8P/2v+q/+P/GQAaACUAz//E/9D/AABUAEYAVQAQALv/lP+2/xEASgBDACEA+f/b/wUAPQAsAPL/1P+O/4b/nv/T/zYARQAEAA0A8P/3/zcAYQBHAAUA3P+W/5f/4v80AFEADwDy//7/1v8fAFIAIwAMAPn/rf9p/7r/MABjABUA9v/9/8n/DQBIAGUAWQAvANP/eP+z/+z/PwBQACoAEgCs/9X/DgAuAHUAMwDw/6j/ff+1//j/RAAoACwABQDb//L/LABUACIA3P+8/4L/hv/Z/yEAPgBHADAA///5/xUAPABQAC4A2/+5/5j/y/8oAFAAKwAgAPP/6f8AAAUATQAcAPX/y/9//7H/GQBFABwAFADe/8P/EAAFAA8AOQAjAAAArf+L//7/DAAZACQAMwANAA4AHAAfAPT/AAANAPT/zP+f/77/9/8TAEUATgAiADIAHADR//X/HgAZAC4A1P+Y/6H/wv8nADMAWgAdABkA+P/D/xAANwA9AEkA6//h/5L/if8SACQAXAArAP//2v/J/xsANABWACUA2v+0/3H/wv8NAEIARwA0APz/z//t/ycARgBFAB8Axv+Y/5z/u/8EAB4ALgAeAPL/5/8TAB8APQA0AAAA7v/I/9P/AADv/wsAGgDm/+3/DQAIABgAOgAiAAkA9P/n//P/+P8HACgAHADe/+z/CAAiABgAIADq/7j/pP/C//P/BgAuADQAGwARAAcALwAeAOP/7//j/9T/4P/i/+v/EQArABwADgAnAA4AFQAMAOz//P/r//T/4//m//z/9/8OAD8AHgAQAAMA4//k/9X/7f8GABIADQDk/9r/BgARABgAGwAPAPr/9P/o//z/AwATACkAAgD2/+j/BAARAAoAHgD1//L/7f/f/xIAFwAUABUA4P/W/+z/8f8WACcABQDz/+f/8P/w/wAAKwAKAPb/5P/U//n/4v8AAB0A+/8PAOr/4//7/xkAGAAEAAAA4v/r/97/6f8PAAEA+//m/+b/7v8PACAAGgATAA0ADgD9/+r/8f8CAO//2v/j/+b/5P/1/xcAAAD4/wwAEQD9/wAAAADv/9v/6/8DAPz//f8IAPH/+f/7/xIACQABAAgA8v/z//3/6f/d////FQAAAO3/BgAbABAAAAD//+z/9/8UAA4AAQDv//T/8f/8/wQAIQAgABcABAD5//H/BAAMAAAAAADz/9z/5v/z/wsAHQATACIAKQAHAP3/BgAiAC0A+v/o//n/5/8ZABsAAgAEAPj/AwDz//L/+f8IABkAGAARAPL/GAA/ACIA5v/a//X/7v8OAAoAAwD2/93/2v/P/+z/9P8TAA8A7P/2/+7/BQAkABcAGwD9//D/3f/h//X/IgAlABcAEADg//H/HwA4AC0A9/8AAOD/5f/+/xYAFgAQAAAA6//x//3/AAAMABUADADv//3/EAD+/w8ABAD0/+r/8P8JABIACgARAPL/7v/j//v/DgAKAA0A/f8BAPv/9f8AAPr/AgAIAPH/CQD4////EwAGAPz/DwD+/+3/8P/9/woA7v/W/wsAEQDy/wIA8//w/wwA9f/d/+3/CQAPAAwABwDy/wgA/v/1/+P/8f8NAAAAEgADABAA7P/i/wAA5f8HAOH/+//2//j/IgAFACgACAADAAoA+P8hAA8AHgAiABYABQD3//L/4//7/ywAPQAgAAcAEgAJAAEA9P/j/wEA8P/Y/+3/9P/t//X/CAD8/wYAEwAaAAsA8//v/+r/AgATAAQAAAD+/wUA+v/p/+7/+/8RAP//AAAEAPr/BAAYACUAEwD+/wQAAgD5/+7/DQAMAAwABwAAAAcAAAD//wIA7f/1//P/5v8KAA0AAgAeAAUA7f/w//n/EwAJAOr/9f/1/+f//v8LAP//BwDu//T/6f/f/wAABQASAAwA9/8DAAQAFQAKAAQAEAD6//7/9P/9//7/9P/4/+r/7f/z/wAAAwAQAB4AAQACAB0ACwDy//v/FgAaAPv/BwAJAPT/DwAJAO//6f/0//H/2//W//n/NAALACMADQDx//f/DQALAPf/BwDW/+7//v8TAB0AHQAXAAsA/f/q/97/4P8DABIA/P8YAAQA7f8JAAUA9v8DAPj/6f/w/+T/AwAlAAcA/v/2//n/+f8AAAQAFQAMAPv/8f/u/wYABgDr/wMABADp//P/BQANAAsAEgARABsABgD6/xAAAAAbABUACAD//+7/+f/7/wMABAAMAPj/7v/9/+3/EwAJAAoACQARAAMA2v8RABwA6P8JAN//5f/y//r/EQALABAA///5//r/DAAmAPP/CQAcAAAADQAVAB8AFwABAAcA/f/r/wUAGgDs/wEA+f/i//j/+/8eABcA7f8KAAQAAAD9/+//BAAAABQAEwAEAAQA8/8QAAcA1//u/+//5f/l//P/BAAAAAQAAgDx/wAA7v/0/xUA/v8JAP//AgD//wIABAD1/wEAEAADAPv/6f/k//n//v/+//7/DwANAAIAAgD2/wYA7v///wAA6v////3/9P/4/w0ABQDl/wMA9//+//z/DwAsAP3/8//8/+j/+v/9/xEAIAA1ABcA6f/R/6f/2v8IACkALAAgAP7/4v/1/xgAKwAqABMA3P/A/8L/1f8CABMAHAATAPj/8f8MABMAJQAgAAAA9f/d/+T/AAD2/wcAEADw//T/CAAEAA4AIwAVAAYA+f/x//j//P8EABgAEQDr//T/BQAVAA8AFADz/9T/yP/a//j/AwAcACAAEAAKAAQAHQASAO//9v/u/+X/7f/u//P/CgAaABEACAAYAAkADAAHAPT//v/z//n/7v/x//7/+/8JACYAEgAKAAIA7v/v/+b/9f8DAAsACADv/+n/AwAKAA4AEAAJAPz/+f/y//7/AgAMABkAAQD6//H/AgAKAAYAEgD5//j/9f/s/wsADgAMAAwA7f/n//T/9/8NABgAAwD4//H/9//3/wAAGgAGAPr/7//l//z/7v8AABEA/f8JAPP/7//9/w8ADgACAAAA7v/z/+z/8v8JAAEA/f/w//D/9f8JABMAEAALAAcACAD///P/9/8BAPb/6f/v//H/7//6/w0AAAD8/wcACgD//wAAAAD2/+r/9P8BAP7///8EAPf//P/9/wsABQAAAAUA+P/4////8v/r/wAADQAAAPX/AwAQAAkAAAAAAPT/+/8MAAgAAAD2//n/9//+/wIAFAATAA0AAgD8//f/AgAHAAAAAAD4/+v/8f/4/wcAEQALABQAGAAEAP7/AwAUABsA/f/y//z/8v8PABAAAQACAPv/AQD5//j//P8FAA4ADgAKAPj/DgAlABQA8f/q//r/9f8IAAUAAQD7/+v/6v/j//X/+f8LAAkA9f/6//b/AwAVAA4AEAD+//f/7P/u//r/FAAWAA0ACQDt//j/EgAhABoA+/8AAO3/8P///wwADQAJAAAA9P/3////AAAHAAwABwD2//7/CQD//wgAAgD5//P/9/8FAAoABgAKAPj/9v/v//3/CAAGAAcA/v8AAP3/+v8AAP3/AQAFAPf/BQD8/wAACwADAP7/CQD///X/9//+/wYA9v/o/wYACgD4/wEA+f/3/wcA+v/s//X/BQAIAAcABAD4/wQA///6//D/+P8HAAAACgACAAkA9f/v/wAA8f8EAO///f/6//z/EwACABcABAACAAUA/P8TAAkAEQATAA0AAgD7//j/7//9/xkAIwASAAQACgAFAAAA+f/v/wAA9//p//b/+v/1//r/BAD+/wMACgAPAAYA+f/2//T/AQALAAIAAAD//wMA/f/z//b//f8JAAAAAAACAP3/AgANABUACwD//wIAAQD8//b/BwAHAAcABAAAAAQAAAAAAAEA9v/6//n/8f8FAAcAAQARAAMA9f/3//z/CgAFAPT/+v/6//L///8GAAAABAD2//n/8//u/wAAAwAKAAcA+/8BAAIADAAFAAIACQD9////+f//////+f/8//T/9v/5/wAAAgAJABEAAQABABAABgD4//7/DAAOAP7/BAAFAPn/CAAFAPf/8//5//j/7P/p//z/HQAGABMABwD4//v/BwAGAPv/BADp//b///8KABAAEAANAAYA/v/0/+3/7v8BAAoA/v8NAAIA9f8FAAIA+/8BAPz/9P/3//H/AgAUAAQA///6//z//f8AAAIACwAGAP3/+P/2/wMAAwD1/wIAAgD0//n/AgAHAAYACgAJAA4AAwD9/wkAAAAPAAwABAAAAPb//P/9/wIAAgAGAPz/9//+//b/CgAFAAUABQAJAAEA6/8JAA8A8/8FAO7/8v/5//3/CQAGAAkAAAD8//3/BgAVAPn/BQAPAAAABwALABEADAAAAAMA///1/wIADgD1/wAA/f/w//z//v8QAAwA9v8FAAIAAAD///f/AgAAAAsACgACAAIA+f8JAAQA6v/2//f/8v/y//n/AgAAAAIAAQD4/wAA9//6/wsA//8FAAAAAQAAAAEAAgD6/wAACQABAP3/9P/x//3/////////CAAHAAEAAQD7/wMA9/8AAAAA9P8AAP//+v/8/wcAAwDy/wEA/P////7/CAAXAP//+f/+//T//f/+/woAAwD7//3/AAACAPz///8FAAYACwD/////DgAHAPv/9f/9//z//f8DAAEABwD5//X//f////z/+v/6////+/8HAAkA//8JAAwACQAMAAAABgABAPr///8NAAcACQAKAPf/+P8GAAYAAwD//woAEAD+//b/CgAOAAsAAAD6//v/9/8EAP//CwAVAAAAAwD2//j/AwDx//j/8v/8/xAAAgAFAAsAEgAPAPf/+v/+//r//f8AAP3/CAAIAAEA/////wYA+P/2////AAAAAAAAAwADAP//AwD//wUABgAEAAAA+/8BAAQABAD+//v/BAD5/wIABQD+/wIA+/8GAAEA+/8AAAAABQD9//v/AgABAAEA//8FAAEA+//+////AAD+/wAAAQAAAAUABwACAAAA/v///wEA/P/4//3///8CAAMAAAABAPz//f/+//z/CQADAAwA+//5/wYA/v8AAPr///8AAAEA+P/v//n/8v/0//v/+v/9//f/AAACAPf/BwABAP//DAAHAAUA+//+//r/8f/5//3/+P///woAAQD7/wAA+v/1/wMA+v///wAA/P8EAAEAAQAAAAAAAwACAP3//P/7//z/+f/2//3/+//3/wAA///+/wMABgAFAP7/AAABAAEAAAD8//7//v8CAPv//P8EAAIABAAAAAQAAgD7/wAA/v8EAAAA/f/7//z/AQAAAAQAAgD7/wQABAD+/wEA+v/+//////8AAPv/BgAHAPv/AAD/////AwD5//r/AAD9/wAAAAD+//3///8CAP//AQAIAP3/+P/5//v/AAAGAAIABQAHAP3//P/8//v/+v/w//f///8GAAgAAQD+////9//6////+P/5/wAABQAAAAEA//8BAAcA///8//3/AgANAAYAAgACAP/////5//z/+/8BAAgAAAADAP7//f8HAP7/+v/+/wMABQD4////BQACAAAA/f8CAAAA//8CAAEA/f/+/wAAAgD//wEABAACAAEA+//+/wIA/P8EAPv///8IAPv/+/8BAAAABgAAAPz/AgD7/wAABgABAAAAAAACAAUAAAAAAAMAAAD9//r//v8AAAAAAQD9//7/AwADAAMABQADAAAA/v/6////BwAGAAAAAAAGAAQAAwABAPz//f/7//f/+//4////AAD//wIA/v8BAAIAAAABAAIAAAD8//j//P/9////9//4////AAAHAAcAAQADAAEA/v/7//3///8BAP7//v8AAP3/AAAAAP7/AQABAAEA/f8AAAIAAAAGAAEA/P8CAAEABAAEAP3/AQADAAAA///5/wAAAAAAAAMA/v8BAAMABQABAP//AAD6/wAA+v/7/wIABgAFAAIABQAEAPz/AAD8//j/AAD9//3//f///wIAAQD+////AQAAAAAA/f/+/wEA//8DAAIA/f8DAAEA//8AAP//AAD+/wAAAAABAAAAAAD+////AAD9/wMABgABAAQAAQAHAAUAAgD///v/AAACAP//AQD//wQAAgD9//f/+P8AAAYABQAEAAcABwADAAIA//8BAAAABQAGAP3/AAAAAAAAAgD+/wIAAwAAAAAAAAD+//7/AQAAAAAAAAAAAP3//P8CAAAA//8AAPz//f/6//7/AAD//wEA///9/wIABAD+/wAAAQD///7/AQACAAIAAQAAAP//AAAAAAEA//8CAAMAAgD//wAABgAAAAAAAQACAAEA//8DAAEAAAAAAAAAAAD//wIAAQD+/wAA//8CAP//AQACAPz/AAABAP///f/6/wIABQAAAAEABAAAAAIAAQABAP//+P/7//7///8BAAAAAgAEAAUABQAAAP7//f/9//7/+P/9/////v8AAAAABQAFAAMABgAFAAQABAAAAPr/+v/8//7/AAD//wIAAwD7//z/AAAAAAMA//8FAAIAAAAIAAAAAwAAAPn/AQD+/wAAAgABAAAA/v8BAP3/AAADAAAAAgD9/wAAAQD//wAA/v/+/wAA///9/////v///wEAAQACAAAA/f8AAP//AAD+/wIABAAAAAAA/f8AAP//AAADAAAAAwAEAAQABAD///v//P/+//3/AAAAAP//AAAAAAIAAAD///7/AAD/////AAD+/wEAAgABAAUABQAGAAQAAQABAAAAAQAAAP3/AAAAAP///P8BAAQABQAGAAQABQABAP///f/9/wMAAgD//////////wEAAAACAAEAAAAAAP////8AAP//AAACAAIAAQAAAAAAAAACAP///v8BAAAAAAAAAAEAAQD+////AAD//wAAAAAAAP7/AAD+//v////+/wAAAAD+/wAAAAACAAAAAAABAAAAAwAAAAAAAgD9/wAAAQD+////AAAAAAEAAAAAAAMAAAACAAAA/P8AAAAA/P///wEAAwABAAAA//8AAAAA/f/+/wIAAQAAAAEAAAAAAAAAAAACAAAAAAD///7//v/+/wAAAAABAAAAAgAFAAMAAwAFAAEAAAADAAEA/////wAAAAD//wAAAQABAAMAAAAAAAQAAgD///3/AAD/////AAAAAAIA/v/9////AAD///////8AAP//AgACAAAAAgADAAIAAwAAAAEAAAD//wAAAwACAAIAAwD+//7/AgABAAAAAAACAAQAAAD+/wMABAADAAAA//////7/AQAAAAMABgAAAAAA/v/+/wAA/P/+//z///8EAAAAAQADAAUABAD+////AAD//wAAAAAAAAIAAgAAAAAAAAABAP7//v8AAAAAAAAAAAAAAAAAAAAAAAABAAEAAQAAAP//AAABAAEAAAD//wEA/v8AAAEAAAAAAP//AQAAAP//AAAAAAEAAAD//wAAAAAAAAAAAQAAAP//AAAAAAAAAAAAAAAAAAABAAEAAAAAAAAAAAAAAP///v8AAAAAAAAAAAAAAAD//wAAAAD//wIAAAADAP////8BAAAAAAD//wAAAAAAAP7//P////3//f//////AAD+/wAAAAD+/wEAAAAAAAMAAQABAP//AAD///3///8AAP7/AAACAAAA//8AAP///v8AAP//AAAAAP//AQAAAAAAAAAAAAAAAAAAAP///////////v8AAP///v8AAAAAAAAAAAEAAQAAAAAAAAAAAAAAAAAAAAAAAAD/////AQAAAAEAAAABAAAA//8AAAAAAQAAAAAA/////wAAAAABAAAA//8BAAAAAAAAAP//AAAAAAAAAAD//wEAAQD//wAAAAAAAAAA/////wAAAAAAAAAAAAAAAAAAAAAAAAAAAQAAAP///////wAAAQAAAAEAAQAAAP//AAD//////f/+/wAAAQABAAAAAAAAAP7///8AAP////8AAAEAAAAAAAAAAAABAAAA//8AAAAAAgABAAAAAAAAAAAA//8AAP//AAABAAAAAAAAAAAAAQAAAP//AAAAAAEA//8AAAEAAAAAAAAAAAAAAAAAAAAAAAAAAAAAAAAAAAAAAAAAAAAAAP//AAAAAAAAAAD//wAAAQD/////AAAAAAEAAAAAAAAAAAAAAAEAAAAAAAAAAAABAAAAAAAAAAAAAAD//wAAAAAAAAAAAAAAAAAAAAAAAAAAAAAAAAAA//8AAAEAAQAAAAAAAQAAAAAAAAAAAAAAAAD///////8AAAAAAAAAAAAAAAAAAAAAAAAAAAAAAAD//wAAAAAAAP////8AAAAAAQABAAAAAAAAAAAAAAAAAAAAAAAAAAAAAAAAAAAAAAAAAAAAAAAAAAAAAAAAAAAAAQAAAAAAAAAAAAAAAAAAAAAAAAAAAAAA//8AAAAAAAAAAAAAAAAAAAAAAAAAAAAA//8AAP//AAAAAAEAAAAAAAAAAAAAAAAAAAD//wAAAAAAAAAAAAAAAAAAAAAAAAAAAAAAAAAAAAAAAAAAAAAAAAAAAAAAAAAAAAAAAAAAAAAAAAAAAAAAAAAAAAAAAAAAAAAAAAEAAAAAAAAAAQAAAAAAAAAAAAAAAAAAAAAAAAAAAAAAAAD/////AAAAAAAAAAAAAAEAAAAAAAAAAAAAAAAAAAAAAAAAAAAAAAAAAAAAAAAAAAAAAAAAAAAAAAAAAAAAAAAAAAAAAAAAAAAAAAAAAAAAAAAAAAAAAAAAAAAAAAAAAAAAAAAAAAAAAAAAAAAAAAAAAAAAAAAAAAAAAAAAAAAAAAAAAAAAAAAAAAAAAAAAAAAAAAAAAAAAAAAAAAAAAAAAAAAAAAAAAAAAAAAAAAAAAAAAAAAAAAAAAAAAAAAAAAAAAAAAAAAAAAAAAAAAAAAAAAAAAAAAAAAAAAAAAAAAAAAAAAAAAAAAAAAAAAAAAAAAAAAAAAAAAAAAAAAAAAAAAAAAAAAAAAAAAAAAAAAAAAAAAAAAAAAAAAAAAAAAAAAAAAAAAAAAAAAAAAAAAAAAAAAAAAAAAAAAAAAAAAAAAAAAAAAAAAAAAAAAAAAAAAAAAAAAAAAAAAAAAAAAAAAAAAAAAAAAAAAAAAAAAAAAAAAAAAAAAAAAAAAAAAAAAAAAAAAAAAAAAAAAAAAAAAAAAAAAAAAAAAAAAAAAAAAAAAAAAAAAAAAAAAAAAAAAAAAAAAAAAAAAAAAAAAAAAAAAAAAAAAAAAAAAAAAAAAAAAAAAAAAAAAAAAAAAAAAAAAAAAAAAAAAAAAAAAAAAAAAAAAAAAAAAAAAAAAAAAAAAAAAAAAAAAAAAAAAAAAAAAAAAAAAAAAAAAAAAAAAAAAAAAAAAAAAAAAAAAAAAAAAAAAAAAAAAAAAAAAAAAAAAAAAAAAAAAAAAAAAAAAAAAAAAAAAAAAAAAAAAAAAAAAAAAAAAAAAAAAAAAAAAAAAAAAAAAAAAAAAAAAAAAAAAAAAAAAAAAAAAAAAAAAAAAAAAAAAAAAAAAAAAAAAAAAAAAAAAAAAAAAAAAAAAAAAAAAAAAAAAAAAAAAAAAAAAAAAAAAAAAAAAAAAAAAAAAAAAAAAAAAAAAAAAAAAAAAAAAAAAAAAAAAAAAAAAAAAAAAAAAAAAAAAAAAAAAAAAAAAAAAAAAAAAAAAAAAAAAAAAAAAAAAAAAAAAAAAAAAAAAAAAAAAAAAAAAAAAAAAAAAAAAAAAAAAAAAAAAAAAAAAAAAAAAAAAAAAAAAAAAAAAAAAAAAAAAAAAAAAAAAAAAAAAAAAAAAAAAAAAAAAAAAAAAAAAAAAAAAAAAAAAAAAAAAAAAAAAAAAAAAAAAAAAAAAAAAAAAAAAAAAAAAAAAAAAAAAAAAAAAAAAAAAAAAAAAAAAAAAAAAAAAAAAAAAAAAAAAAAAAAAAAAAAAAAAAAAAAAAAAAAAAAAAAAAAAAAAAAAAAAAAAAAAAAAAAAAAAAAAAAAAAAAAAAAAAAAAAAAAAAAAAAAAAAAAAAAAAAAAAAAAAAAAAAAAAAAAAAAAAAAAAAAAAAAAAAAAAAAAAAAAAAAAAAAAAAAAAAAAAAAAAAAAAAAAAAAAAAAAAAAAAAAAAAAAAAAAAAAAAAAAAAAAAAAAAAAAAAAAAAAAAAAAAAAAAAAAAAAAAAAAAAAAAAAAAAAAAAAAAAAAAAAAAAAAAAAAAAAAAAAAAAAAAAAAAAAAAAAAAAAAAAAAAAAAAAAAAAAAAAAAAAAAAAAAAAAAAAAAAAAAAAAAAAAAAAAAAAAAAAAAAAAAAAAAAAAAAAAAAAAAAAAAAAAAAAAAAAAAAAAAAAAAAAAAAAAAAAAAAAAAAAAAAAAAAAAAAAAAAAAAAAAAAAAAAAAAAAAAAAAAAAAAAAAAAAAAAAAAAAAAAAAAAAAAAAAAAAAAAAAAAAAAAAAAAAAAAAAAAAAAAAAAAAAAAAAAAAAAAAAAAAAAAAAAAAAAAAA=\" type=\"audio/x-wav\" />\n",
              "                    Your browser does not support the audio element.\n",
              "                </audio>\n",
              "              "
            ],
            "text/plain": [
              "<IPython.lib.display.Audio object>"
            ]
          },
          "metadata": {},
          "output_type": "display_data"
        },
        {
          "name": "stdout",
          "output_type": "stream",
          "text": [
            "--------------------------------------------------------------------------------\n",
            "The audio consists of a repeated sound, \"ch\". It's a single, clear pronunciation of the letter \"ch\" being spoken repeatedly, creating a somewhat repetitive and possibly rhythmic sound.\n",
            "--------------------------------------------------------------------------------\n",
            "TOTAL TIME ELAPSED: 23.21s\n",
            "[{'role': 'user', 'content': [{'type': 'audio', 'audio': '/kaggle/input/cat-meow-classification/dataset/dataset/I_CAN01_EU_FN_GIA01_305.wav'}, {'type': 'text', 'text': 'Describe this audio.'}]}]\n"
          ]
        },
        {
          "data": {
            "text/html": [
              "\n",
              "                <audio  controls=\"controls\" >\n",
              "                    <source src=\"data:audio/x-wav;base64,UklGRnqAAABXQVZFZm10IBAAAAABAAEAQB8AAIA+AAACABAAUEFEIMwPAAAAAAAAAAAAAAAAAAAAAAAAAAAAAAAAAAAAAAAAAAAAAAAAAAAAAAAAAAAAAAAAAAAAAAAAAAAAAAAAAAAAAAAAAAAAAAAAAAAAAAAAAAAAAAAAAAAAAAAAAAAAAAAAAAAAAAAAAAAAAAAAAAAAAAAAAAAAAAAAAAAAAAAAAAAAAAAAAAAAAAAAAAAAAAAAAAAAAAAAAAAAAAAAAAAAAAAAAAAAAAAAAAAAAAAAAAAAAAAAAAAAAAAAAAAAAAAAAAAAAAAAAAAAAAAAAAAAAAAAAAAAAAAAAAAAAAAAAAAAAAAAAAAAAAAAAAAAAAAAAAAAAAAAAAAAAAAAAAAAAAAAAAAAAAAAAAAAAAAAAAAAAAAAAAAAAAAAAAAAAAAAAAAAAAAAAAAAAAAAAAAAAAAAAAAAAAAAAAAAAAAAAAAAAAAAAAAAAAAAAAAAAAAAAAAAAAAAAAAAAAAAAAAAAAAAAAAAAAAAAAAAAAAAAAAAAAAAAAAAAAAAAAAAAAAAAAAAAAAAAAAAAAAAAAAAAAAAAAAAAAAAAAAAAAAAAAAAAAAAAAAAAAAAAAAAAAAAAAAAAAAAAAAAAAAAAAAAAAAAAAAAAAAAAAAAAAAAAAAAAAAAAAAAAAAAAAAAAAAAAAAAAAAAAAAAAAAAAAAAAAAAAAAAAAAAAAAAAAAAAAAAAAAAAAAAAAAAAAAAAAAAAAAAAAAAAAAAAAAAAAAAAAAAAAAAAAAAAAAAAAAAAAAAAAAAAAAAAAAAAAAAAAAAAAAAAAAAAAAAAAAAAAAAAAAAAAAAAAAAAAAAAAAAAAAAAAAAAAAAAAAAAAAAAAAAAAAAAAAAAAAAAAAAAAAAAAAAAAAAAAAAAAAAAAAAAAAAAAAAAAAAAAAAAAAAAAAAAAAAAAAAAAAAAAAAAAAAAAAAAAAAAAAAAAAAAAAAAAAAAAAAAAAAAAAAAAAAAAAAAAAAAAAAAAAAAAAAAAAAAAAAAAAAAAAAAAAAAAAAAAAAAAAAAAAAAAAAAAAAAAAAAAAAAAAAAAAAAAAAAAAAAAAAAAAAAAAAAAAAAAAAAAAAAAAAAAAAAAAAAAAAAAAAAAAAAAAAAAAAAAAAAAAAAAAAAAAAAAAAAAAAAAAAAAAAAAAAAAAAAAAAAAAAAAAAAAAAAAAAAAAAAAAAAAAAAAAAAAAAAAAAAAAAAAAAAAAAAAAAAAAAAAAAAAAAAAAAAAAAAAAAAAAAAAAAAAAAAAAAAAAAAAAAAAAAAAAAAAAAAAAAAAAAAAAAAAAAAAAAAAAAAAAAAAAAAAAAAAAAAAAAAAAAAAAAAAAAAAAAAAAAAAAAAAAAAAAAAAAAAAAAAAAAAAAAAAAAAAAAAAAAAAAAAAAAAAAAAAAAAAAAAAAAAAAAAAAAAAAAAAAAAAAAAAAAAAAAAAAAAAAAAAAAAAAAAAAAAAAAAAAAAAAAAAAAAAAAAAAAAAAAAAAAAAAAAAAAAAAAAAAAAAAAAAAAAAAAAAAAAAAAAAAAAAAAAAAAAAAAAAAAAAAAAAAAAAAAAAAAAAAAAAAAAAAAAAAAAAAAAAAAAAAAAAAAAAAAAAAAAAAAAAAAAAAAAAAAAAAAAAAAAAAAAAAAAAAAAAAAAAAAAAAAAAAAAAAAAAAAAAAAAAAAAAAAAAAAAAAAAAAAAAAAAAAAAAAAAAAAAAAAAAAAAAAAAAAAAAAAAAAAAAAAAAAAAAAAAAAAAAAAAAAAAAAAAAAAAAAAAAAAAAAAAAAAAAAAAAAAAAAAAAAAAAAAAAAAAAAAAAAAAAAAAAAAAAAAAAAAAAAAAAAAAAAAAAAAAAAAAAAAAAAAAAAAAAAAAAAAAAAAAAAAAAAAAAAAAAAAAAAAAAAAAAAAAAAAAAAAAAAAAAAAAAAAAAAAAAAAAAAAAAAAAAAAAAAAAAAAAAAAAAAAAAAAAAAAAAAAAAAAAAAAAAAAAAAAAAAAAAAAAAAAAAAAAAAAAAAAAAAAAAAAAAAAAAAAAAAAAAAAAAAAAAAAAAAAAAAAAAAAAAAAAAAAAAAAAAAAAAAAAAAAAAAAAAAAAAAAAAAAAAAAAAAAAAAAAAAAAAAAAAAAAAAAAAAAAAAAAAAAAAAAAAAAAAAAAAAAAAAAAAAAAAAAAAAAAAAAAAAAAAAAAAAAAAAAAAAAAAAAAAAAAAAAAAAAAAAAAAAAAAAAAAAAAAAAAAAAAAAAAAAAAAAAAAAAAAAAAAAAAAAAAAAAAAAAAAAAAAAAAAAAAAAAAAAAAAAAAAAAAAAAAAAAAAAAAAAAAAAAAAAAAAAAAAAAAAAAAAAAAAAAAAAAAAAAAAAAAAAAAAAAAAAAAAAAAAAAAAAAAAAAAAAAAAAAAAAAAAAAAAAAAAAAAAAAAAAAAAAAAAAAAAAAAAAAAAAAAAAAAAAAAAAAAAAAAAAAAAAAAAAAAAAAAAAAAAAAAAAAAAAAAAAAAAAAAAAAAAAAAAAAAAAAAAAAAAAAAAAAAAAAAAAAAAAAAAAAAAAAAAAAAAAAAAAAAAAAAAAAAAAAAAAAAAAAAAAAAAAAAAAAAAAAAAAAAAAAAAAAAAAAAAAAAAAAAAAAAAAAAAAAAAAAAAAAAAAAAAAAAAAAAAAAAAAAAAAAAAAAAAAAAAAAAAAAAAAAAAAAAAAAAAAAAAAAAAAAAAAAAAAAAAAAAAAAAAAAAAAAAAAAAAAAAAAAAAAAAAAAAAAAAAAAAAAAAAAAAAAAAAAAAAAAAAAAAAAAAAAAAAAAAAAAAAAAAAAAAAAAAAAAAAAAAAAAAAAAAAAAAAAAAAAAAAAAAAAAAAAAAAAAAAAAAAAAAAAAAAAAAAAAAAAAAAAAAAAAAAAAAAAAAAAAAAAAAAAAAAAAAAAAAAAAAAAAAAAAAAAAAAAAAAAAAAAAAAAAAAAAAAAAAAAAAAAAAAAAAAAAAAAAAAAAAAAAAAAAAAAAAAAAAAAAAAAAAAAAAAAAAAAAAAAAAAAAAAAAAAAAAAAAAAAAAAAAAAAAAAAAAAAAAAAAAAAAAAAAAAAAAAAAAAAAAAAAAAAAAAAAAAAAAAAAAAAAAAAAAAAAAAAAAAAAAAAAAAAAAAAAAAAAAAAAAAAAAAAAAAAAAAAAAAAAAAAAAAAAAAAAAAAAAAAAAAAAAAAAAAAAAAAAAAAAAAAAAAAAAAAAAAAAAAAAAAAAAAAAAAAAAAAAAAAAAAAAAAAAAAAAAAAAAAAAAAAAAAAAAAAAAAAAAAAAAAAAAAAAAAAAAAAAAAAAAAAAAAAAAAAAAAAAAAAAAAAAAAAAAAAAAAAAAAAAAAAAAAAAAAAAAAAAAAAAAAAAAAAAAAAAAAAAAAAAAAAAAAAAAAAAAAAAAAAAAAAAAAAAAAAAAAAAAAAAAAAAAAAAAAAAAAAAAAAAAAAAAAAAAAAAAAAAAAAAAAAAAAAAAAAAAAAAAAAAAAAAAAAAAAAAAAAAAAAAAAAAAAAAAAAAAAAAAAAAAAAAAAAAAAAAAAAAAAAAAAAAAAAAAAAAAAAAAAAAAAAAAAAAAAAAAAAAAAAAAAAAAAAAAAAAAAAAAAAAAAAAAAAAAAAAAAAAAAAAAAAAAAAAAAAAAAAAAAAAAAAAAAAAAAAAAAAAAAAAAAAAAAAAAAAAAAAAAAAAAAAAAAAAAAAAAAAAAAAAAAAAAAAAAAAAAAAAAAAAAAAAAAAAAAAAAAAAAAAAAAAAAAAAAAAAAAAAAAAAAAAAAAAAAAAAAAAAAAAAAAAAAAAAAAAAAAAAAAAAAAAAAAAAAAAAAAAAAAAAAAAAAAAAAAAAAAAAAAAAAAAAAAAAAAAAAAAAAAAAAAAAAAAAAAAAAAAAAAAAAAAAAAAAAAAAAAAAAAAAAAAAAAAAAAAAAAAAAAAAAAAAAAAAAAAAAAAAAAAAAAAAAAAAAAAAAAAAAAAAAAAAAAAAAAAAAAAAAAAAAAAAAAAAAAAAAAAAAAAAAAAAAAAAAAAAAAAAAAAAAAAAAAAAAAAAAAAAAAAAAAAAAAAAAAAAAAAAAAAAAAAAAAAAAAAAAAAAAAAAAAAAAAAAAAAAAAAAAAAAAAAAAAAAAAAAAAAAAAAAAAAAAAAAAAAAAAAAAAAAAAAAAAAAAAAAAAAAAAAAAAAAAAAAAAAAAAAAAAAAAAAAAAAAAAAAAAAAAAAAAAAAAAAAAAAAAAAAAAAAAAAAAAAAAAAAAAAAAAAAAAAAAAAAAAAAAAAAAAAAAAAAAAAAAAAAAAAAAAAAAAAAAAAAAAAAAAAAAAAAAAAAAAAAAAAAAAAAAAAAAAAAAAAAAAAAAAAAAAAAAAAAAAAAAAAAAAAAAAAAAAAAAAAAAAAAAAAAAAAAAAAAAAAAAAAAAAAAAAAAAAAAAAAAAAAAAAAAAAAAAAAAAAAAAAAAAAAAAAAAAAAAAAAAAAAAAAAAAAAAAAAAAAAAAAAAAAAAAAAAAAAAAAAAAAAAAAAAAAAAAAAAAAAAAAAAAAAAAAAAAAAAAAAAAAAAAAAAAAAAAAAAAAAAAAAAAAAAAAAAAAAAAAAAAAAAAAAAAAAAAAAAAAAAAAAAAAAAAAAAAAAAAAAAAAAAAAAAAAAAAAAAAAAAAAAAAAAAAAAAAAAAAAAAAAAAAAAAAAAAAAAAAAAAAAAAAAAAAAAAAAAAAAAAAAAAAAAAAAAAAAAAAAAAAAAAAAAAAAAAAAAAAAAAAAAAAAAAAAAAAAAAAAAAAAAAAAAAAAAAAAAAAAAAAAAAAAAAAAAAAAAAAAAAAAAAAAAAAAAAAAAAAAAAAAAAAAAAAAAAAAAAAAAAAAAAAAAAAAAAAAAAAAAAAAAAAAAAAAAAAAAAAAAAAAAAAAAAAAAAAAAAAAAAAAAAAAAAAAAAAAAAAAAAAAAAAAAAAAAAAAAAAAAAAAAAAAAAAAAAAAAAAAAAAAAAAAAAAAAAAAAAAAAAAAAAAAAAAAAAAAAAAAAAAAAAAAAAAAAAAAAAAAAAAAAAAAAAAAAAAAAAAAAAAAAAAAAAAAAAAAAAAAAAAAAAAAAAAAAAAAAAAAAAAAAAAAAAAAAAAAAAAAAAAAAAAAAAAAAAAAAAAAAAAAAAAAAAAAAAAAAAAAAAAAAAAAAAAAAAAAAAAAAAAAAAAAAAAAAAAAAAAAAAAAAAAAAAAAAAAAAAAAAAAAAAAAAAAAAAAAAAAAAAAAAAAAAAAAAAAAAAAAAAAAAAAAAAAAAAAAAAAAAAAAAAAAAAAAAAAAAAAAAAAAAAAAAAAAAAAAAAAAAAAAAAAAAAAAAAAAAAAAAAAAAAAAAAAAAAAAAAAAAAAAAAAAAAAAAAAAAAAAAAAAAAAAAAAAAAAAAAAAAAAAAAAAAAAAAAAAAAAAAAAAAAAAAAAAAAAAAAAAAAAAAAAAAAAAAAAAAAAAAAAAAAAAAAAAAAAABkYXRhgnAAAAIABgD5/+X/9v/0//v/EwALAPz/6P/w/+//7v/+//X/EAAQABQAGAD0/wMA9f/1/woA9f8CAAgAAgAEAAQACgD///z//P/3/wAA9v/6//7//P8IAAIAAQD0//b/+P/1/wIA+P8CAAQA9P/8//3/AgDy//b/CAD8/wYA/P/4//v/6v/2//j/9//7//3/BgD+//r//v8EAAQABgD8//j/AQDt//D/9v///wUA+v8GAAQABgAAAPz/BQD6//n//f/4//r/AwABAAAABgAGAAgABgACAPz//v/+//b/6f/u//T//P8MAAQABgACAAIAGgAOAA4ACAD2/////P8MAAoABQAEAPj/CgD+//P/+P/0//7/AQAEAPv//P8GAAgADgD//wcADgAAAAQAAgAIAAYA/f/+/w8AEgAFAA8ABAAAAAkA/v/0//D/+P8AAAUABgAMAAwABgAIAAAACgACAP7/BwDy//L/AgAIAAwACgAMAAoADgANAAIA/P/x//X/+v/y//n/+v8AAAoACQD+//X//v/4/wAAAQD2/wwACwANAAQA/v8KAAIADAAMAAsA/P/u//n/9v/5//P/+v/6/+7/+v8CAAwABwAKAA4A+v/6//b/9/8AAPr//v/0//j/BwD8/wsAAAD7/wYA7v/6//r/+f8LAAoACQD8//D/9P8EAPf/AAARAAwAGgAGAPz/9v/s//b/9P/4//n/+v/8//z//f/8//7//f/+//7//v/+//7//v/+//7//v////7//v////7//v////7//v///////v8AAAAAAAAAAAAAAAAAAAAAAAAAAAAAAAAAAAAAAAAAAAAAAAAAAAAAAAAAAAAAAAAAAAAAAAAAAPf/9//3//b/AgD6//v/BgAGAAkABAACAAMA+//4//X/8P8CAP3/8/8FAAIACQACAPb/BAD3/wAACwAEAAcABAAGAPr/BQD8//H/BQD6/wgABwAEAAoA9f8EAAEA/P8EAP3/CgAAAPj/8//k//z/CgAKABEAFgAOABAADgACABAAEAACAPT/+P/8//r/BAD4//7//v8AAAoA8P/0//D/8v8GAAEAAwACAAYABwANAAkA/P8EAP7/AgACAAAACAAAAAYACgACAAMABgD//wQAAADu//n/AgACAPz/+P/3//X/9P/7/w0ADAAFAAUABAAIAAkA/P/+/wYA+v/4//7/+//4//r/9v/1//v/+P/y/+7/+P/8//T/8//2/wQAAQDy//b//v/z/+j/5//m//L/8v/s//f//f8EAPz/+/8HAAYADgD8//L//v/1////BAD///X/9v/+//D//v8AAAIAGgAJAAgA/P/y/xIABgD6/wIACQAGAPX/9v/8//z/AAAXABIAAAD8//L/8v/2//D/4//v//r//P/4/+7/BgD0/+b/AQACAAIAAwACAAgACgD6//L/9//4//j/9v8DAAoA/f/7/wIABAD0//L/9//0/wIABQACAAgA+v/8/wgA9v/4//j/+P8FAP3/DgAIAPr/DAD8//H/9P/0/+7/7P/4//P/+v/+/wIAAQD4/wgA+v/0/wYAAgD4//r/AQABAA4ADAD4//T/9P/x//H/+P8AAPb/AAAKAP//+v/1/wYACQD0//3/BQD0//j/AAD1/wAACQD6//v/AgD6/wYACwAEAAcA+/8HAAoABAD8//b/BAD8//7//v8GAAIA/v8KAAwAEgAAAP7/9v/0//r/9P8DAPD/8v/+/wAAAwAAAAsABAAOAP//9P8KAAMACAAKAAQA/v/8//X/+v8KAPj//v/7//X/BgD2/wIADQAAAAgA/P/9/woA+v8AAAQA8v/2//3//P/+/wQACgAGAAYAAgD8//3/AQAEAAIABAAJAAgAAAAGAAUA9/8CAPz//P/+//z/AgDx/wQA/v/4/wYA8v8AAAQACgAOAPz/+/8EAAsAAgAIAAEA/v/9/+z//f/v/+z/BADr//j//v/s//f/+f8GAAAACAAWAAwAEAD+//r/AADy//b//P8EAAQA9P/3/wAAAgARACAAFgAbACIADgAFAAkACAACAAgADwABAAQA/v/8/w0A/P/2//7/BgAHAPj//v/8/+7/8P/6//b/9v8EAAkA/P/u/wcA+P/u/wQA/P8IAPz//P8EAPb/AgD6//L//v/2//7/AAD4/xAACQAHAAkAAgAIAAAACgAAAAIAAADu//r//P8EAP//BAABAPL/+//4//r/+P8IAAMA9/8AAPz/BAAGAAYAAgD+/wIACAAIAPv/BAD+//7//P/z/wgA8P/2/wwA9P8EAAgA+v8AAP7/+f/4/wIAAgAGAAoACgAUAAMAAAAKAPj/+P/z/+b/9//4//n/DAD+//b//v8EAAoABwAGAAQAAgD1//T/7//3/xAAAAAFAAwA+P/8//3//P/+/wIAEAAAAPz/EwAKAAoACAAIAAQA9f8BAP7/AQD8//z/CAAGAAoA+f8EAA4A+v/+//7//f/+//7//f/4//3/+P/6/wAA/v8NAAIABAAKAPv/BwD4/+//BgAHAPz//v/4//r/AAD6/woA+v/0/wAA9v8KAAYABwAKAPz/BgAAAP7/BgACAAMAAgACAP7/+f/8/wEAAADx//f/AQD1//v/+v/4/wAA+P/6//z//v8EAPz/+P/0//n/AwACAAYAAAD0//f/BQAMAAMA+f/5//j/9P8FAAgA+f/1//T/8//n//D/+v/3//j/7P/2//v/+v////7/BAD6//L/6v/8/wgABAAIAPr/FQACAOz/BAD///z//P8QAAAA+v8MAPn//P/3/wAADgAEAAYA+f8AAAgA+P/6//v//P/8/wMABgD6//7/CgAPAAoADAAKAPz/AgAFAPj/8v/8//r/9P/5//r//v/4/wIA9v/0/wIA+v8KAPL/+v8LAP//BADw/xEAEAD6/woA9//4//v/AgAKAAMADgAMAAkABwAGAAQACAAJAPj//v/6//r/BgAAAAMAAgABAAIABgD0/+z//v/6/wUACAASAB0AEQAGAPT/9v8CAP//AgD4/wUAEgD9//3/BgAEAP7/+v/8//j/8P/y//b/+/8AAAAABgD5//v////4/wAA8P/0/wgABAAFAAEA+v8IAAoACgAMAPT/+v/8//j//P/2/wgAAAD2/wYA/f/6//7/BgAHAAAAAQD5//X/+P/4//b/8P/1//n/AQAAAAMABgD6/wAA+P/+/wIA+/8PAA4AAgD+/wIABAAKABYADQADAAgAAgD+/wwA/v/2//7//v/4//7/DAD8/wIAAAAAAA4ABAAGAPz/AgAFAPj/AQD2//7//v/0//P/6v/y/+3/9P/2//X//v/u//H/8P/w//L/4v/8/wIA+/8IAAgACgACAAcACAAIAAoAAAAIAPT/+f8OABIAGAAQAAwA9v/9/w4ACQACAOr/9v/4//r/BgD6/woABQD3//n/9v/4//r/+P/2//j/+v8IAAoA/v8MAAcA/P8AAPj/9P/4//z/+v8CAP3/9f/+/wMACAAAAPr/BAALAPz/+v/+//b/+v/1//T//P/0//j////0/wMADAAEAAgAAgD4//T/BAAQAAkACgAJABIAAgDs//b/+v8EAP7/AwAPAAAAAgAAAP//AgAAAAEAAQD9//r/CgD6//P/BAD0//f/AAD2/wIACAAEAAIA+v/9//3/AAADAPP/5v/o//r/BgACAPz/9P/9/wgA9P/i//X/+P/w//H/7v/4//f/9P/+//n/+v8EAPH/6P/x//T////9/wIAAgD6//b/5v/0//P/7v/y//b/BAABAAgACAAEAAQA/P/y/+z//P/9//r/+//1//j/AAAKAAYA/P8FAAQA+P/w//v/CAD4/+b/9v8EAAYADgACAP7////0/wYACQAAAAgA//8CAAAA9v/7//r/BAD6//D//P/3//L/+v/+//j/AgAIAP//BgD+//T/+//+/wcADQD8//T/AQAEAAAACQAEAPr//f///wAA+P8AAAQAAAAIAAUA+P/z//j/7P/7/wgA9/8KAAgACgAGAPr//P/l//P//f8DAA4ABAAIAAQABAADAAIAAgAAAAIAAAABAAEAAAAAAAAAAAAAAAAAAAAAAP7//v/+/////v///wAAAAAAAAAAAAAAAAAAAAD//////v/+/////v/+/////v/+/wAAAAAAAAAAAAAAAAAAAAAAAAAAAAD+/////v8BAAEA+v8AAAAAAgACAP7/AwD+/wIA+v/6//7/+v8BAPz/AwAAAP7/CAD6//7/+//4/wQAAwAEAPz//P/6//n/AAD+//7//v/6//z/AAD8//7/BAAAAAIAAAAAAAAA/v////f/9v/8//j//P/9/wIACAABAPz/+v/8//v/AAAEAA0AHgAOAAwAFAAFAAQA/P/6//7//P/+//7/BgAAAPv/BwAEAAIABAACAAgAAgD+/wYABAAJAAQA/P8UAAIACgAcAPz/+v/5//j/BwAEAAYACAD6/wAABAD4/wYACAADAAAA/P8CAP3//P/+//n//f8KAAQA/v8QAAoACgD8//f/BAD2//7/AgAGABAA/v8AAAAA+/8CAAQABQAOAAwAAQABAP7/+v/8//r/AAAIAPn/9v8FAAAABQACAPn//v/7//7/BAACAOz/9P8DAPj/CwAGAAIACgAKABAAAAAAAAgAAgD4//P/+P/5/wIAAgAAAPb/8v/8//r/CgAOAAYAAQD6/wAA9P/0//7/+P/y//7/CgAGAP7/+f8BAPH/5v/y//L/BgAZABAACgAEAAAA9v/k/+z/8v/9/xAA+f8CABYAEwAWAAYABgAGAAIACAAKAP//8v/y/wUABwDw/wIAAwD+/wYABQASAAcABgAIAPz/9f/0//7/9v/4/wIAAAAEAAYA/v8AAAcA/P/2//3/AAAAAP//+P/w//b/BAABAPz/AgD+////CQAGAPr/AgD+//r/AwD2//z//v/+/wwAAQAGAAQA+f8BAAIAAAABAAQABAD4//X//P8EAAkABgAKAAcAAAD4//j//f/0//j/+//2//v//P8BAP3/BQAVAAIA+v/8//r//v/y//n//P/1//r/9v8KAAIAAgAQAAEAGgAIAP7/DwD5/wMA+v/2//b/5P/6//7/BAAPAP3/DAANAAEABgD+/wkA9v/x/xAA+v/+/wIA9f8GAAUA/v/z//D/9v/2//j/+v/8//z/AwAFAPn/AwAOAAIABwAMAAQACAD+//7/BgD+/xgAEAD+/wwA+f/4//r/+v8IAPv/8v/5/wMABgD8/wQABgD8//z///8OAAcABAAPAPz/+P/u/+7/+P/2//j/8v8BAAQA+P/4//r/+v/7//z//v8EAAEACAAEAPj//P/8/wIACAAKAAEAAgAGAAEA+//4/wAABwAWAAoA//8IAAgADAAAAPj/8v/p/+//8v/3/wIACAAMAAwAAAAKABIAEwAZAA4ADAACAPj/8P/p//P/9v/2/wgAHAAZAAoAAwAQAPz/7P/6//H/+v8AAAgADgABAA4AEQACAPz/AwD+//j/+P/w//L/+//6//b//v8BAAMA/f/8/woABAAEAP3/AAACAPn/AAAHAAcA/P8DAAoABwAAAPz/BAD4//b/+v/+/wgAAgD9/woACADw//T/+v/1//r/BAAIAAEA+v8CAAIA9P/4/wEABgD+//7/BgD+//j/9P/4//L/+P/+/wAADAD+//j//v8EAAQA/v/5//T/9/8GABAAAgD8/wsAIAAXAPf/9P/2//L/9v/+//z/BAACAPr//v8BAA4AAQD4//3/7P/7/wkA+P/y//T/9v/4//b/7P/y/wQA+v/6/xAACAAEAP7/+f8EAPT/9P/4//j/BgD+//7/AAAGAAIAAAAQAAwABAD9//z/CAASAA4ACgAJAAYACAAEAP7//v8EAAIAAQACAP3/+P/6/wQA//8BAAgA/v8IAPz/+v8IAPr/+v/+//b//v8IAPz/CQADAPr/GgALAAAABQAGAAoABQAEAPr//P/z/+b/7v/y/wMACAD3/wAABgAEAAoA+v/2//j/9f8JAAwACAAKAP//+v8EABAAFAAKAAwABwD//wYA9P8CAAIA8v/+//P/BAD+/+r/9P/v//j/9v/5//X/6f/4//L/+P8MAAUAAgACAAQACgD+//L/8f8AAPj/5v8AAAgA+//+/wYA/f8BAA4A+v/2//D/9P8NAAQACAAWAAgABgAAAPr//v/8/wYABgACAAQAAAD1//b/BgAEAAIA+f/0//T/9v/7//X//v8AAPr/+f///wAA/P8GAPb/+P/8//z/EAACAAIAAgD0//z/9v/8/wUA/v8NAAoABgAMAPn/9//q/+//AQABAAIA9v/+/wIAAgD6//H/BQDt/+j/8v/u/wUA/P8BABAA///y//b/BAD0//z/GwAcABoAAQACABAABgAEAPj/AAADAPX/9f/y//n/AgAHAAAAAQAAAP3/CADw/+7/8v/o/+7/9f/4//P/+P/1/wIACwACAAoABgALAAsA/P8AAAQA8f/r//T/7P/6//z/+P8IAAYACAAOAAYA8P/q//H/+P/8/+7//v8GAP7/BAD2/wAA/v/6/wYA+f/6/wEACAABAPj/AAD2//r/9//2//v/+P8RAAoACgAUAAYAFAAHAPr//v/0//r/+/8EAPn/6f/2//P/8P/1//7//P/+/wYA9v/7//v/+v8OAAsACAAHAPz/BAAIAAIABAAIAAQA//8EAP7//v/2//T/AgDy/+r/6v/2//r//v8UAAoADQAKAAgAEAD1//T/8v/z////AgAYABoAFQAUABAAAwD8/woA9P/z/wEABgAOABYAFgDw//X/CQALAAwA8v/v//z/9v/0//j//v8IAAQABgD7//T/+//5//7//P/6/wIADAAKAAYABwAIAAQA+v8JAPn/9v8GAAAAAwAGAAwAAAD3//n//P/y/+//BgAGAPz/+P/6////AgD2//n/+//0/wEA/P/5/wAAAgAEAAkACgACAAQA///7/wQABQAAAAAAAAD4//L/9P/6/wQADgAKAAYACQD8/wQAEwAGABwAEwAMABwA8v/1/wIACgAOAPv/EgAIAAAABgD4//j/+f8GAPT/8v///wYAEQD3/+7/6//i/+L/8f8DAP//AgAQABwABgD5//j/9v8GAP//AgAKAAwADAAAAPb/7v8FAPr/7/8AAPf///8EAAcACwD8//z/+v/4/wQACAD9//3//v///wYAAgAJAAgAAAD+//7/AgD+/wUABgAEABAACAAGAAIA+v8CAP3/CAAMAAAABAD8//z//v/8//b/8v/8//j//P/+/woACAAAAAwA/v/8//r/9v8EAPD/6v/4//f///8BAPT/+v/x//j/DgD9/wkACwAEAA4A9v/l/+3//P/2//j/BgAFAAAA+f8KABIACgADAOn/7f/v/+f//v/0/wAAFgAKAAoADAAIAPj/+P/z/+r/9P/u//T/9v8CAA4AAQAIAAQA/f8GAPj/+P/6//b//P/w/wMADAD5/+//8P/+//j////9/wQAEgDy//P/9v/q//z/BAAAAAQA+v/4/wAA9v/u//n/BgD6//T//v/z//L/+/8CAA8ACgD+/wkABgD0//b/9v/w//L/+f/6//7/BAAGAAwA/v8AAAAA/v8MAAIACQACAPj/CAD+/wgADAD0/wAABgD+/wQA9P/w//z/+P8AAAIAAAAAAPX/9v8DAP///P8AAP3//v/6//T/9P8AAAYA/P8DABAADAAIAPz/9v8BAAIA+//y//n//f/8//v/AwAIAPD/9v/8//j/+v/z//j/7v/l/+//9v/3//r//v8IAPv/AAAKAAEADgAAAAYADAD5//r/AgD8//b/BAD6//T//f8FAPj/AgASAAQAIwAVAAQACgD4/wEA/f/6//7//P/+//7//v/+//z/BAACAAMAAQDy/wYABwD5//7//P/9//7//v8MABYABgACAA0A9v/w/wgA8v/1/wYA/v8NAP7/+P8FAAYADgD+/wYACgD//woAAQAAAAQA+//8//j/AAAPAAgABAD6/wEA/v/2/wIA+P8CAPn/9P8IAPj/+v8EAAYABwAKAPj/6P8AAPD/6P/6//b/DgASAAIACAAEAP7/+P8CAAYAAQAEAPr/+P///wQA9//4//z/8v/2//b/BAD+/wgAGAD8/wwADgD2//r/9f/0/wQACgACAPv/9v/6/wYAAgD2//b/+f/7/wIA9P8AAAgA8P8EAAYA8v/+/wUABAD6//b/+v/8/wIA/f/+/wQAAAD6//D/AQD+//j/BgD6//L/+P/0//j/DQASAPz/AwAQAAIACAAAAPv/BAD5/wIA9P/7////9P8HAPL//P8CAP//DAAEAAQA//8CAO3/8v8EAPf/DwAOAAcACAACAAEA9P8BAPr/+v8GAPr/BQD9//z/CgASABQADwAUAP7/AAAGAPD/9P/4/wYAAAD0/wUABwAJAAoADgAMAAUAAAD2/wAAAAACAAIA+P8GAAEABgAPAPb/9f/2//L/+P/6//v/9v8IAAYA/v8EAPX/+P/s//T/CgD2//b/+P/5//r/AAAGAPr//P/+//7/9v/4/wYA/v8EAA4ADAAIAP///v////7/9f/x//L/9v8AAPb/AAALAP7/AAD1//r/BAD0//3///8EAAEA9v8LAP///f8KAAEABwD6//j/+v/6//7//f8CAP7/BQACAPr//v8AAAQAAgAKAAQA8f8AAAIAAgAEAAMACQACAAAA9v/y//j/AAAAAAAABQD5//f/7v/0//f/6v/6//j/9P8AAP7/+v/w//T//v/9/wcABgAOAA0ADAAcABoAHgARAAUA/v///wAA9f/8//D/AwAUAP7/CgAIAAUA///k//b/9f/x//j/6v8AAP3//P8FAPz/BwD9/woABwAFAA4A/P8AAPb/DgATAPj/DAD7//X////u//T/8v/u//j/BQACAPT/9v/7/wIAAAABAPr/AQAOAPb/AgD///T/BgAKAA4ACgAGAPr/BgAMAAMADQAKAA4A/f/x//j/+P////n/BQAEAPL/AgD+////+v/+/woA+v8GAPj/9//8/+z//P/2//v//v/5/wYA/P/9/wgA+v8AABAABgD7/wYA/v/1//7/8P8CAAQABAAgAAUAAgAKAAIABAACAP3/9P/2/+7/+P8OAAcADAAFAPf//P/2//7/AgDx//j//P/6/wAABgADAAMA/v/8/wQAAgACAAYACAAAAAMACAD6//v/+f/2//r/BAAOAAQACAAAAPX/BgD7//z/CwACAAkAAgD4//n/+/8BAAAACwD8/wIADQD6/wQA+v/+/wcA9P8AAAQA/v8IAAIABgAIAPz/BAAIAAYABgD9//z/+v/2/wEABgD+//r/9v8AAAoADAD8//T/BwAFAP//8f/w//z/AAAIAPT/BAAEAPD/DQD4/+7/8v/v/wwACAAQABIABgAMAAQADAD2//T/AgDy//z/CAAQAP7/AQASAAUACgD8//T/9f/i/+n/7v/k//r/BwD6/wIABAD4/wIADgD6//r/BQAAAAAA+P8HAAoA/P8AAAAACAAHAAQABAADAP7/9//8//z/BAAGAAIACgADAAMABgD1//7//v/v//j//v8FAAYACAAEAP7/AAD8//7/7v/y/wIA+f8GAAIA9f/6//b/9f/8/wAACAAQAAoA/v8DAAwAAgAEAAcABAACAPv/+v8BAAkA/P8GAAgAAgAIAPb/8//5/wYADAAGAAsABwAIAAAA9//6//r//P8AAPb/7v/6//z/BgDw/+z/BAD8/w4ADAAIABYABgAAAPL/AQASAP3/+f/1//r/CAAKABYAEgAKABIACgAEAPz/9P/y//b/9P/w/wQAAQAIABQABQAOAAYAAgAJAPf/+P8AAPX/9P/2//T/AgD6//3/BQD6//r/+P/6//7/CwAOAAYACgAKAAgABAD5//T/+P/9//z/+/8GAAAABAAOAAAABAAOABIACADu//z/AgDy//z/8f/y/wIAAgAFAP///v/5//z/9v/w/xAABgAGAAIA8v8RAAoABAASAAwAAQD3//j//v/4//D/BAACAAQACgABAA4AAAD///3/9v8FAPL//v8QAAAA+v/3/wUADQAOABgACgAOACUAEAD8//T/9v8JABAADQAKAP3/8//4//r/BAD4/+7//P/4//X/AAAMAAgADAAOAAUA+//1//X/9P/8//D/+P8MAAQAEgAVAAoAEwAMAA4ADADo//j//v/o//b/+v8CAAIA///2//z/AAD9/xgAAwD+/wkA/P8HAPv/AAAIAAAACQAMAAoABQD8//z/9f/0//T/8v8GAAgADgAQAPz//P/8//z/9v/2//f/8P/6//r//v8KAPz/+P8CAAQACwD6/+z/8v/s//L//P////7/CAALAAEAAQDy//7/BAD6/woABgAIAAMA8v/+//D/5v/0//H/8v/2//L/+P/6//D/+v/6//X/DAD9//D//v/8/wwA/f/s/wAA/f/6/woADgAEAAcABQD0//r/+P/6/wUAAAACAPr/AAAEAAUAAADk//D/9v/1//7/AAD9//T//v8AAP3/AAD+//z/9//6//7/BAACAAIAAgAAAPr//v8OAAYABAAKAAoA/v/4/wAA+f/2//j/AgD6//X/9v/y//z/8P/8/wUA/v8KAAYAAAAKABQAAAAKABIA/v/9//n/+P/2//3/CAD8/wIABwACABAABgD+//7//f8FAPT/9v8AAPj/AwAIAAcABgD6//j/BgD9//n/CQD+/wEACADx//D//P/5//z//P/+/wYA+v/0/wMAAQDz/+z/8P8GAAoAEgAaAAoAEAAKAPj/8v8AAAoA9v/9//7/+P8EAAYAAwD4/wgADgAAABAAAgAAAAAA6//u//b//v/2//T/+v/5/wYABAD6//b/+f8IAAcAAgAEAPr/AAAKAPH/8P/p/+7/AAD0//f//P8UABgAAQAEAAkAEAAGAAIA/f/+/w0AAgAEAPX/8/8QAPj/7P/8//L/8v/9/wEABgAMABAADAAEAAAAAAD5//L/+v/5/wQAEADy//r/KgAoAOL/sv8IADIA4f/h//r/CAAeAPT/6v8FAAYABgD4/+7/9P8EAPz/+P8OAAoABQAIAAAA8v/w/wUACAD4//L/+v8IAAoACgAUAP///v8EAP7/DgD3//T//P/s//L/6P/6//n/8P8HAAAA/v/q//j/AgD0/wUA6v/2/wIAAwAOAPr/BwD9/woABgD1/woA9P8EAAIA+P8EAOv/7P/0//P/+P/4//7/EAAOAP7/AgABAAAAAgAAAAAAAAAAAP//BgATAAoACAAQAAAA+v/0//z/AwD0/wAA/P8AAAMA9/8LAAcA/v8EAAQABAD8//b/7f/6//b//v8IAP//EAAOAA4ACAAEAAwA/v/2////AwAAAAwACwAAAAEAEAAQAP7/BgAGAAkACAD6//T/9f/8//b//v/4//D/9//6/wYA+v/2//r/9v/7//b//v/y//T/BwD1/wAAAgABAAwACAARAPz/8//2/+7/9//0/wAABAAKABMAEgAYAAQAAgD///P///8FABUA/P/u//r/8/8AAP//BQAAAAQADwD+/wMA/P8KABAA/f/9//z/+f/2//z/+v8HAAQA8P8CAPz//f8FAPX//v8MAAgAAQAHAAMA/P/6//H/AAAAAP7/AAD6//r/9v/9/wQADgAPAAQABgD8//X//v/8//j//P8AAAYACAAEAP7/+v/u//T/9P/s//b/9P8FAAwACQAKAAAAAAD9/wsADAAGAAYA//8EAAIA/P8EAP7/+P/v/+j/7P/0/wIAAAAIAAgA/P8GAPz/CAAIAPz/CgAIAAQABwAGAPT/9v8GAAgACgAEABQACAD0//z/7//t/+7/8v8JAAQABAAOAAIACAD8/+T/6P/q//z//P/8/wYABgAOAAAA+v/+/wAABgAEAP3//P/5//P/CgANAAYAAwD8/wMA8P/y/wIABgAOAPv/+f/y//D/AAD0//f/+v/3/wQA+v8EAAQA9v///wAACAAAAPr//v/+/wQA/P8AAAkAAwACAAsABADy//7/AwAAAPz/9v/0//L/AAD6//r/AgD3//r/AgAEAPz/BQAKAP7/CAD+//T/9v/y//z////8/wQADgAPAAcA9P/w//v//v8GAAgABgAAAAYACAD8/woA+P/8/wwAAAAIAAQAFgAGAOH/AgAUAPX/8P8QAA0A9v8GACQACgDx/woAFgD2/+X/CgD6//D/BQD8//z/AAAXAAwA9v8IAAIA+v8GAAYA///y/+z/9P/0//r/BAABAO7/6v/q//P/CAAKACIALgAgAAUAAQDy/6D/jv/Y/wQA9v8zAIQAIADa/zUANQDN/8r/CQDM/3T/wP8mADoAOgBCAB0ABgALANr/z//g/+j/6v/5/yYAFAD7/wUA9v/C/6r/4v/y//j/RgBqAFwALgDM/4z/aP+d/+//DgBnAIoARwAqADYA+v99/5L/7v+3/7L/UgB+ANX/x/9WABUAlv/F/xgA6v/i/1IAVAAKAOr/n/88/17/AgBZAGEAiwBaAAIA7P/o/+P/3/8nACoA7P/Q/4T/Uv90//v/gACgAFoAJgA8AAMAqv/E/zIAQgAAAPz/y/9s/0P/bf8JAKwAyQBxAFgAaADo/4f/vP8MAAgA+f8wAOL/cP9m/2L/vv9qAM4AlwAnAD4ASADC/5n/4v8CAP7/EQAbANL/ov92/2P/1P+IANAATwAuAEwA4v+i/8f/HAARAOP/NAASAK7/jv8+/1D/+P/OAL4AJwBWAC4AxP+i/9z/KADx/zAALACx/3b/H/9M/xIA8gDqAAYALABYALn/qP/S/yEAIAAgAD4Anv8p//v+pv+gANcAlAAkACsABADc//b/7P8cACQAFADI/w3/+f6S/3gAHwGZADoAUgDk/9H/5//v/yYAGAA2AL7/5/70/rH/3gAiAV8AMgAdANr/8f/s/wAABwD6/yoAk//W/iD/HwAMAdQAPQA0APr//v8yAPn/HAAcAAgA4P8I/+T+dv+QAF4BgwAKAC8A1f/4/ygADAAUAAwA4v8Y/87+rP+ZACQBhAAUAD8Ayv/V/xoADAAQAAoA2v8v/+z+lP+nABwBYAAeADAA+P8LAAMAAAAVACgAkP/C/jH/RAAiAb8ABgAaANn/6/8jAAgA9P8RADwAOP+p/k7/iQBiAWYAMwA1AHT/0v8uAFwADwDe/wAABP+4/lX/ugCGAU4AMgAyAJj/0v8EACIAGwA9AJ//2v7m/rT/WwHSAA4AjADg/6T/2v8QABAA/P8+AFz/yP77/kQAtAF8AB8AjgCw/6z/JgBSAMf/CAAuANj+jv58/y4B/ADk/6EAGACY/ysAYgAcAL7/XACn/5P+xf4gALQBfAANAJIAoP+i/0gAsAACAOr/QQAU/6D+Ev/8AM4BGAA5AAIAUP/9/2IAbgDU/xAA/v8C/67+OP+bAVcBwv+qAP//Pv/v/woBgwCv/vj/xAD4/m/+kwC0AZT/2P/+AJz/dv+iAC4Auv4JALj/Wv5VAUwBmf8aANL/4v+U/6wAKgHw/kL/yf9u/qr/4AGWAGL/hgBIAI7/wP/XANMA4P5s/5//af5kAPABgACM/ysAcQCc/7D/MAFUAJz+q/9n/8j+EAF4Adf/CABjAC4AuP/s/zIBof/C/v7/xP6L/94BsACc/1AA+v+l/zwA2gCBAOD+JP90/4b+8AD3Abr/9P9bAP3/zv8KAE4B2P98/sH/+v4U/7IBEQF2/w4AOwDg/4z/4AAyAab+5v7M/5z+GADMAToAZP8gAHsAsP+z/5oBNABd/s//L//N/k8BowHZ/5//GAAmALr/bgBqAQb/uP7y/4n+JADiAUEAnP8KAD4A3v/6/2oBHQB0/rD/PP8f/2kBZAGW/7r/PwDw/8j/5AASAZz+8v7U/5D+OAC9ATwAnv/M/w4ACAAwAGIBZP+P/gIApv76/9kBgADW/7L/FAA2AOj/PQERAE7+2P8C/0j/3AHAAK7/wv/9/4IAyP8gAa0A+P16/03/J/+iAckAAgDX/6z/VgDc/xYB3gBC/mL/jP8M/2YB6ADu/xIAlv9EAPX/yAAWAWT+DP91/yD/jAHkAOf/QACo/x4A2v/KABYBiv4g/0X/vv5iAfwAev9EADkACADB/9kAUAGH/ub+u/+i/iIBbAFa/w8AQAAKAM3/mQBoAcX+rP7e/8r+2wB0AXL/4f86ABYAwv+nAG4BwP6x/jQAyP5tAAYCxv+I/zAAEgDI/1wAigHw/kL+FwDU/l8AzgHu/6D/+/96AND/dgDQAcj+Sf76/xD/jwCkAe3/hP/Q/zEA7f+ZAK8Bzf5A/gcA0v5FAOoBNQCI/97/LgDH/3oAtwHi/gL+6P/0/l4A7AEwAKz/1P8qAOP/fADCAer+EP7q/xD/cwDXAUUAvf+w/97/5f/QAJ4B5v5q/rX/8f6pAK4BFAC2/9H/LQDi/5oA0gHW/v79nP/2/qQAWgE0AEQAR/+K/40ACwHuAM7+6P6N/7T+/ACGAZT/8P+u/5L/RQAGAT8B9P65/lz/sv4LAVEBqP9+AJb/wf5PAMcBoABN/jv/PP+I/lwBkAFk/x0AHgDJ/gAAHwLQAHr+QP8V//D+LgEAAQUAfACb/5D+vgAxAuL/+v5a/5b+Qv+lARUBU//CACoABf6EANoC/v9G/sX/6P6k/ngBjQHI/zoAtf+K/u0AIQK6/97+IP/j/gb/agGYAQn/NgC4/3H/TAG0AIEAF/++/gT/Cv/1AQ0BV/+w/1L/MAENAAIA1gEo/tL+3v/4/vQBywDi/4b/9P6dAUAAOgAiATD++v5W/47/MgJeAFj/e/8IAGYBOv8SAZgAPP3i/3T/IwDjAS4AfQC0/lb/FgITAFYAEgDv/TH/pP80ASMBW/+QALD+ov8VAnoAXwAO/6z+Vv+y/5gBlwDm/8z/dv6jAJQBTAAKAJT+bP4j/2YAugEYABQAbf98/oIBYwE4AJj/bP5R/w7/CQEMAsz/8P+2/lwApQGG/5YBG/+U/TIAMv9mASYBDADCAKr92v9fAmYAKgDS/nj+Kv/M/9cBtgAQAMf/5v0UAfoB8v9bAEv+0/6j/4z/QgKdAPb/Yv9g/jMCvAAMAIkAiv1S/0z/jAAoAs7/tAA0/kr/uAKY/9AAuv/M/db/0P5gAeIBwP9SAAH+UgAUAq//BAHg/mz+sv/E/voBVgHd/6D/bP6oAVoA0v+tAcD9mP6k/yz/TAL6AEL/Ov80ANcAo/7qATYBjvy6/17/Uv8jAiQAn/9a/xIALADg/h8D0wBS/PT/bv9g//QB7wC7/8D/+v/+/noAUAK2/2T+kv+6/iX/SQLzAKb+hgD0/1j+dgBoAlsACv6a/1L/l/4sAqIBn/53AJAAsv7E/9gBoQFS/oj+oP+k/lwByAEs/9D/jAA0/2f/cgHAAUz/RP6A/9L+UAAYAnT/kP+rAFr/WP9+ABQCiAAQ/pv/+P7Y/iQCyAAC/7wAZAAX/63/yAGlAVH+sP64/7/+RAGsATD/+P92AGD/LP/yAIYCYv/i/dj/wP7q/04Cvv8+/9kAqv/+/gIAUQLmAJ/9ev82/8T+NAIGASj/qwBFAFL/X/9fAVwCvv5u/gwAV/5DAIwCWv8b//cA+P86//7/yALoAGj9g/9c/7b+wgFFAcj+GQCeAHT/O/8pAUkCwP4A/vD/4v7U/2oCCAD4/soAAQBK/9r/iAI6AWr9+v6+/97+WAGWAbT+5/+qAJH/Hv/XANYC/v6V/dP/6f5r/y4CYADZ/q4APAA4/1r/hwKtAWL9GP98/4b+YgHVATD/3v/gAOf/0P4+AAQD7f+4/Wf/A/82/zQCCAG0/sgANQBM//X+TAHmArr+CP5e/7z+MwBgArD/R/+RAK3/av9C/6ICsAEI/nD+Sv+C/xwBDgIm//L/0gDF/9z+0P9AA7gAoP24/qj/Xv/sAT0Bof6SABcAwv+a/ocALAO8/9L9ov6C/+T/AQJuADT/hwD9/77/lv4+AUECnv+a/Vj+yP8wACgCzv/e/1AArP/h/4j+sgEvAqT/ZP1w/tD/cADsATb/OwA9ANj/yP+y/sYBEQIQAPX8Zv4IAMYAAAJU/9EACQDK/9X/o/6YAQwCGADY/GT+KAAtAb0BOv+RAMr/EACE/97+wAH5ATAAr/yu/j4ANAGsAcb+ngD7/wgAgP/q/uQBqAGg/+f8Bv8uAHsBgAGK/k0BBgDa/4L/zv4eAoIBfP/R/Nn+OgBVASgBsP44AaL/8v91/zf/KgJaAar/0PwB/04ARQEPASj/4ABk/z4ASf83//EBwAGc/0H8Uv9YAAgBcAEc/8wAh/8OAF//uf7kAQgCnf8o/CD/ugDfAAoB8v6mAIX/MgCh/9D+2QEgAub//Puk/swAOgEkAS7/5ACA/0oA5P+Y/moBaAIpAOL7wf4AAUYBBAE4/xgBTf8IAPr/mv4fATYCYwC2+yD+7gCCAboASf+iAer+mv/8/7X+KgH8AYABhfyM/bwAUAHyADD/fgFI/7//bgDo/hAB2QHTAWP8T/0wARgBIgEk/zYBUv9A/5EAov5pAI8B3AGC/KD8IwEEAS4BCP9wAVYAsP4EAfb+6P9UAX4C+P2A+5wA4AAoAWL/sQA6ASj+rgDC/0v/+AD2As7/Bvu0/zABOAH2/6z/yAGC/hYAbAAS/4QAhQKEAQv7z/0uAUoBjAAo/2ICkv7e/lIB7f4UAHoBqgOO/UL7wgBiAfoA6P7+AYQAl/1AAdP/Cv8YALwDJgD++e3+PAGIAWj/bACWAl39vv8cAQb/eP+vAcED7Pvc+ywBZwEwAc7+kgIIABL9fgHK/y7//P+sA5EA9vnK/hYBnAG3/yYAzAJ8/Vr/ZAE6/2v/PAGRA6L8m/tsAEoBmgHS/kcCnAAU/YgBFQBF/8T/JwMoAn76nP0RAf0BBgCu/0kDzv3g/soBP/9M/8oAcAT2/YL6BgDiAYQBtf4sAhkBrvyoAO0ARv83/1UDzgIq+9b8BAH6AdD/av/OAq7+9v18AeT/Ev9qAA4E8v9M+qb+lAHiAUr/ogB2Aif9jv9uARb/Lf/CAc4Difw++5YA7AEcAar+IgJkANb8XgFoAOr+sP9VAz0Cdvpi/YUBCgKY/47/JgPm/ab+6QF+//f+/QCmBPX9Hfrz/wcCegGX/pYBwQHX/IoADgHx/lX/iAKeA5L7JPxUAQICxgDW/r8CZv9E/b4Bzv/c/igAVASmAMD5bv6UAdABcP8wAMUCSP3//r4BMv8S/0oBvASI/T76WAAGAngBqv4FAn4BevyrAN0AwP4y/+UCAARA+5f7aAEqAlgA3/7cAmL/CP2lASwAxf7W/2gEAAL4+ab9MgLiAU//RAAAA5L9af7aAWz/wP72AKQEiv7d+Yj/PQKSAcb+gwEgAsr8EABcAfD+Vv4YAqIE/vu9+m4AhAKYAPD91QKmALP89gDtALT+hP7AA1cD2vog/CgBuQKG/8v+rQM0/zz9sgFEAI7+Uv+cBCQC9flJ/YQBcAIr/87/ogOU/Vf+6QGx/6D+YAC8Ba7/Zvmu/uwBDAJI/kwB0wJm/Mr/lAFI/3z+6QG6BST9LPq2/z0CTgE6/p4CSgFU/NIA6AD7/sX+3gJ2BCr7PfvYAEoCDAGJ/s4CngDY/DwBzgAS/yL/iAPUA/b6JvwtATQCRwDU/jsDQv9G/ZYBLAAs/zb/ZARsAhf6nP0kAfoByf8W/0wDev5q/ZIB9P/W/pz/mwSkAQb6xf2iAVQCTv+6/zYD4v2M/nwBwv/u/gIANQW3/2j5BP/4AcEB0/6EAMACVv2g/5oBTv+8/tQAAAV+/cL5GgBcAp4BYP6xAdQBePwUAP0ABP/t/ngCRwRV+9L6SAFIAkgApP7+AlAAyPwjAWoAlP5w/rIDCAPT+WD8cQF0Anb/1v62A/b+Wv3KASkAKv5e/+4EDALo+Wf9PgIWAgH/fAAqA4z9df7qAXn/RP5UABwFAQBk+en+jgJ6Afb+EgEUAwT9AP/OAfz+kv4yATIFHv6W+d3/vgJUAWz+rgEkApv8AABUAjj/sP42Ah4FGf3M+cIAcAI9AJz+agILATz8HAGKAYz+0P7bAjgESvv2+joBOwJ6AO7+5AIyAJ78ZgG4AJv+Ef90A7gCv/mB/DICEgK+/zL/fwPg/vH8SQL0/33+1v9aBCYCXPnm/XwCzAGP/77/VgOY/Sz+qQKC/7j+egAcBaj/pvhI/3UCnAGw/k8BigMY/J7/FAL4/rr+CgGQBd78Pvl/AE8CMAEy/mgCnAHi+7gALAE6/6j+NwLZBP36pPq3AEkClgC4/YgDqAA4/GgBAgFD/3T+egOpBIX6EPtUAaoCCgC9/rADrv91/GoBuAC2/q3+JgRqA8/5wPthAWICBABG/4YDQP/J/H4BSgDC/kL/cgO4Aib6LfyoAU8CSQDp/mwDxP/K/JQBBAAu/zL/aQM6A3/5UvyxAUcCRgCY/nQDWf/2/MsBDABZ/2r/4gMeA1z5kPyWAU4CeABa/moDRP/5/AoC2/9K/1//0QMkA0L5ivywAZICRAB2/qgDC/9m/RgCPwB2/+z+VgS/AgT5EP0vAnoCLf8G//ADY/50/cEBNABK/x7/sgQyAuj4J/1wArYC1P5o/wwE5v23/ZwBSADm/uX+KAXBAKz4uf0FAj8CRP7k/y4Ejv0C/usBRwC1/vT+hgWsAJL4Wv6PAi4CG/7c/9wDe/0Z/uIBVAC2/uD+RQXGALv4rP1CAsgCMv4DADwE2P0A/noBsQDE/mr+oATXAdz5XvxNAtED7v2O/0wEnv4P/ugAewEG/7L9+wNjAib7APv6AG4Er/5+/pcD+v9S/dP/iQHi/6/9bAJJAwT92voe/6gEgQBa/cICbgFu/cf+ZgH1AMj95gDiA+P+ovok/UQEIgLg/LwBuwJl/vT96ABhAkT+Hv/iA3AALvv6+yYDBQRW/RoAZgMg/2X99P9wAlL/7v0oA+4BD/xK+0IBOgVg/kb+JAQKADD9Uv/qAYoAMP3yATIDJP0E+5b/bQW+/7j8xQM+AQH9qv5yAXMBKP36ADQEGf7G+rT98QTWARr8GAOTAor9zP73AAYCwv22/34Edv8a+8r88gNeAzL8QgGIA0b+Kf5aAPABYv5B/g4ENAEi+4L7aAKOBAT9fv9VBO/+0P0OAPUBmP8o/UQDkgLs+/f6wwCiBZ7+n/06BCoAdP2d/6QB2gDI/OABOAQQ/Yr6Bf9GBYQA0vyYA4gBU/0k/4kBjgEg/WQApgRL/kf6Mv7aBFIBJvy0AmoCqP10/gQBbAJ0/Yz/9gQ0/1X69PzSBBQDsvvEAU8DA/7a/UoA8AIo/kz+pwRUAIf6YvwuBD0EKvyYAPUDYv6W/dT/wAL6/lP9RAS5ARX7SPu+AhEFdPxg/0wE+v44/Ur/+wLH/4D8SAO4ArD74/owAv4Fiv0M/lwEBAAy/Qn/zgIQAYz8SQJhA4P8GvpSAIYGgv7U/EwEGAFj/ST+PwKWAez7QQH1A5b9m/pM/3gGOAAm/IoDOAKx/cz9vAE6AtH8XQA2BIT+UPom/tkFgAGi+4oCygJ8/YD9CAGtAkP9Gv/MBIP/Yvqq/VAFlQJC+zIBigN2/m79awDfAsT9MP5mBIIAtvrG/I4EfAN7+2QAzAOA/kb99P81A2r+Xf1oBEIBGvug/EEEOgTd+97/fgQQ/+n8xv8GA/j+NP33A6ABAftU/NwDTgTv+xL/LASc/wz9v/8wA2D/RP1EA7sBIPv0+7oDjARY/P7+LASc/wb9jP8BA5L/OP1aA7oBLvvl+3wD4gRP/ND+AgR0/zT9VP/aArr/DP1AA/YBFvu++xQDnQS2/Lr+BQTD/1j9fP/qAqr/6PxiAwICPfuQ+6QChgV8/Xr+KgS1/wj9iP+pAggA8PyoAqoCzPtz+yMCjgXK/SH90QOyADL9tv5OAuYAgvzYAX4DhvzU+pQADgZA/zv8hgNkAYr9Q/5nAc4BvvylAMADzP0S+zf/0wVoAOn7AgNOAiL+/v0IAYwCeP1W/xQE7f67+kr+VAViApr7aQG8AmL+FP4vAOoCVP5G/hgEKgDb+gr9NASYA9D7RgCYA8L+6P2A//gCbP+I/XgDygBw+6r82QObBG78OP+QA4z/3v1A/24C8v8y/dECygGc+9z7iAI6BXb9Uv5pA9X/5P2O/joCzADh/CcCFQIo/Nr79gGaBSb+Nf1sA8wA5v3E/swBQwEA/WEBFAPx/HD7vADCBab/Bv0OA70AEv4G/20BgAH8/IcA6QKA/SL7+P/eBSoA6Py4AmQBbf6+/pABUAI2/fT/TgPk/aT7YP/eBCIBjPxuAkICYv5Q/rgAkALa/Vr/CgN+/t77nP66BAgCaPy1AYQCwP4k/igAqAJ4/sz+AgNw//r7/P1yBNwCePzuAKIC5f4Y/rr/cwLd/jr+3gKy/8b77P3gA3QDePzt/zoDZv/A/r7/QAJ4/9L9ogISABn8av0QAzsERv04/woD6P+E/kL/CgIWAJj95gGjAAz8uPykApQEXv1m/hIDHwCb/jT/qAFkAGr9rAFaAVb8YfyuAfAEov7d/eoClgCW/hb/igHwAGD9FAHGARL9Mvz5ABoFWf+e/agC5gCS/s3+9gBGAX79XgBAAlj9CPxlAM8EWAD2/AoCyQG0/sb+wADeASn+lv9OAiD+6PtY/8AEHgGu/IwB1QH3/r7+TADIAUL+zP5gAur+1Pvm/lgE9wHV/OgAfgJ0/7T+AgADAtj+oP5QAmf/Fvw6/ssDtgIi/SAAYAKk/5v+l//pAcL/cP7mAfH/Afzs/WoDNAOg/Wn/iAIEAKb+Zv/AARYA6v2kAY4AZPw7/cECGAQA/rP+TwJ4AMj+9v5aAZkAEv4cAfgAr/z6/CICtATo/jf+mQLkALf+w/4qAfMAKf6pAFwBJv1u/D4BZAR+/3/9uQEWAeT+rv6qAEoBNv4hAK4BlP1W/HkAPASMAH39fgF2Aez+xv4qAIABff5c/ycCyP5e/I7/EgR8AVr9jgD9AXD/sv70/8QBIP+l/voBcP98/HD+SQN8Apz9+P8eAur/yP6E/50B5v8l/mEBgACw/H/9ZAKDA0T+0P5OAnwAx/4Y/ysBjgD0/aEAVQFo/dv8SgEKBHr/7v2yARgB6P7S/sYALgF4/v3/gAHo/af8fgDsA4QAoP3+ALIBYP+s/kAAWgEa/2b/kgH+/nr8V/+2A8IBu/1aAAUCvP+p/pr/ZAGw/9b+TQGn/6z8i/4WA5QCPP6U/94BJgDL/or/agEgAND+HgFJABD9B/6GAjID3/4L/9YBrgDo/uj+1gCUAKL+agDiAJL9PP2cAZEDpv+I/rUBMAEZ/97+UgDoANz+tP8SAT7+0PygAJ4DagBI/gEBZAFM/8b+JAD8ABL/WP9QAQr/0Pyb/1UDegEk/kQAvAHC/87+r/8OAZ//5v4UAe7/EP2Q/rQCagK1/qb/4QE0AMb+TP/KACwAq/6YAIwARv3E/e4BFgNq/7j+kQHeABD/Ff+IALAAyP4FABIBTv4m/YoATAOJAFL+2ACNAW//0P4RACYBbv/3/gABbP8E/QT/zgI0ApT+oP+2AUgA7/5H//cATADR/qwApgC4/dn9yAEzA8D/1P54ATkBIf/m/kwAwADy/lj/9gDO/kj9FABKA4YBjP5RAKIB8P+0/pP//gCq/9v+ogD2/4L9Vv42ApgCQ/9G/1wBrADK/g3/sQCqAA3/sf91AEL+hP2ZAEEDuwCL/ucAhQGe/73+zP/wAGz//v5+AG7/bv3W/pwCJALk/qX/oAGaANb+Yv/xAEgAxP7n/5QAGP6Y/UwBNwM+ALb++gBhAX3/wv41APoASf8o/6QAc/9C/U7/7QLPAd7+u/+LAT8AxP58/+EATQDU/s7/VgBG/uD9YgEwAzYAsP6yACcBXf/n/lMA6QBt/wL/UQCM/779Mv+mAkQC+f5o/4wBjAD0/n3/tQBvAPf+T/9eAJ7+wf3WACkD3gCW/kkAQAGW/9T+JQACAaH/0P4PAOj/Bf7k/oACdgIJ/xT/QAHGACr/kv/uAF4AsP5P/3IAuP7c/cMARAPiAE7+RgBXAar/Bv88APQAWv+C/vb/BwAi/rj+NAKIAjb/7P4yAbcAGv+M/+QAdACz/vj+NAA///P9HAAJA3ABlf6x/3QBMgAV/zgADAHA/37+eP8lAJ7+XP5RAfcCEABN/qwALAFR/0f/nADUAEr/sv7o/8H/O/4C/1oCgwLm/u7+fgHMABr/nv/mAEAAoP78/g0AXP9U/k8APQNVAUr+3v+7AQYA0P4gAMwAmf9z/mr/JgDq/qP+ewEQA5//Tv77AHQBjf8U/54AjAC9/p7+6v+x/2L+fP94AgQCmP72/pQB0AAM/6//6gDh/27+Mv8tAHj/fP52AOICvABG/iAA1gEqAOz+RQDtADz/f/6y/xgAAv/M/lYBkQLP/2b+xACNAWD/Hv+6AJoA7v7C/vr/8P/I/lP/QwJMAt/+7f54AQIBIv9V/8kALACK/gn/KgC1/4z+9P+yAocBhf6C/7sBaAC+/t7/5gCh/4L+fP9zAFP/hv7IANYCpgBI/kQA2AHC/9D+bACkABT/f/7f/2kAx/7e/sABugKk/3z+SAGUASX/7f7OAJkAsv4A/zkAuv+Y/qn/YgLaAZD+Fv/LAcoAnv6M/y4Bzv+W/qn/QgBi/5j+qgDSArYAYP5GAOMB7P/y/m0A7gAv/3r+zv/8/9b+/P6yAbICtv+s/i0BjAFE//7+tgCMAIv+2P5qAMr/v/7o/2YC1AHE/iv/qAGzALv+qf8GAfL/V/5e/1sASv/M/pYAmgLFAF7+CADEAfn/k/5JAA0BHP9R/t7/NgDq/iT/pQGhAsz/fv76AIMBMv/o/r4AkgCS/pr+HADc/6T+vP9QAtABwP7a/q4B8ACZ/oj/GAH8/xr+EP9iAEH/df6EAMgC7gBn/gAA1gEHAHb+GAAfATL/Kf66/1sA+P7M/oQBrAK7/z7+xgDOAWr/2/7pAM8AlP6g/kYA+v+8/rn/WAIHAtT+yP5yAeMAs/5e/xoBBgAy/jT/ZgCR/9T+ggCZAvEAgv7q/6sBKACu/hAA8wBE/03+ov9NABD/PP+GAU4Cvv9y/qcARgGG/xb/vgCSAIz+tv7y//D/+/77/2ACigH0/mT/hgHOABL/2v/gAK7/RP5B/zkAUP8U/wABWQJrAJ7+KwCDAeP/C/+DAKoAyf5Y/uL/JAAJ/3T/8wE0Akz/rf7hADwBYf9S//IAagBO/of+IgDY/87+JwCmAowBmf5K/2oBfwDo/vT/SgG8/wD+Uf+IAH7/Ev8KAZQCgwBM/hYAsgHY/8H+agD4AOP+Df7G/2cALv9Y/8MBXgKM/2z+qAApAU7/Nv/aAKoAiP5t/iAAGwD2/ub/QwLEAeb+6P4wAbwAEP+R//4AMQAW/rv+OAC0/wX/iACWAh4Bfv5t/1wBcAD3/vj/FwGm/0j+Pv9bAKb/A//yAH4CcwBq/un/hgH7/7j+LQDxAD7/N/6U/3YAXP9A/2kBSwLv/3f+XwBiAcL/5v5iAOoADP9+/tP/VABE/1r/vgEYAnz/t/6kADoBXv/s/qkAiADC/oD+3P88ABD/yP8PAqgBIv8J/zIBGwE1/0f/yABGAHT+uP4kAPP/D/8sACkCZgEH/03/PAHGABz/p//bAOD/dv4F/z8A0v8Y/5oAWgL8AKj+ov9fAWwAGf/q//kAt/9c/i7/XADA/zb/3AA2AqIAnP7G/z0BJAAO/97/2gC1/2b+NP9DALL/TP/mACoCigCa/ur/VgEPAPf+5v/kALb/Xv42/14Arv8+//IAGgJqAK3+DAA4Af7/Dv8IAPoAev9N/lj/JACp/2b/6wAVAlAAtv7s/yMB/v/o/gMAsACJ/5T+Lv83AKv/L//yACwCZADQ/h8AMgHw//T+/v/oAJz/eP5m/zUAlv9g//QAFgKfAO3+0P8dAR4A/v7w/9AAwP+X/hr/HgDW/1z/mgD2AcoA9v6n//oASAAo/7r/1AAcAKj+CP8UAOf/XP8gAM0BOAE6/2z/sACUAFT/Yv+sAGAA3v66/tz/CgBl/8L/XgGkAaL/Bv9uAOoAqf8I/2YA0ABC/2/+cP83AKb/hv/0APQBeADY/s3/AwEjACz////iAN3/mf4Q/zUACQBJ/1IA7QFGARP/H//zAJAAGv9+/7YASgC6/qL+AABCAGL/0f+PAdAB0v/m/lQAEAG4/yH/XACvAFb/av5A/x4Arv9o/8oABAKPAAL/zv/zAFoAHP/K/9cA2/+K/r3+2v8AAGT/RADDAZgBBABi/6wAIAHI/2r/dgCkAEX/dP50/ygAqv+e/84AzAFxAOz+3P8CAUYAO//y/78Ay/+Y/tr++P/6/4X/UACQARgBOv8+/6gAvgCc/2j/fgBKAN7+i/6C/zgA2P+6/wUBkAESAAn/9/8EATIASv/o/4cAtP+U/gf/HQAnAK3/bACeAfIAQP9m/+oAxABo/3j/hQA8APr+y/6o/zAA4v/2/yIBfgH0/xD/LAD6APz/KP/+/5AAiP9+/iD/JAAAAJj/WQB8AccATP9u/68AmwBu/6H/bgAuABT/rv6g/0IA1v/k/ykBdAHr/xj/GgDUABEAcf8CAGoAjf+d/g7/CQAiAO//hABrAdsAev+m/6EAhQCY/5j/UQAcAAz/s/6S/zIA//8PAOoAHgEAAGP/IgC3ACAAi//z/0YAjP/g/iP/4/82APv/cAAcAZcApv+e/2IAiADG/6L/IAAAAEr/6P54/xYAFgAhALAA9AAgAIb/9/+HAEAApP/M/xgArP/7/gb/wv89ADYAXwDgANEAAACg/yYAegAIAK3/9v8cAIz/8/4s/93/QAA+AHoA7gCaAPL/y/85AHYAAgDL//z/+v9u//j+Qv/s/zwANACPAO4AjQDk/8b/KgBOAOP/wv8MAOj/T/8E/3b/DABFAEsAlgDXAHQA6P/b/zEANADb/8T/7//Q/1D/Ev94/wsARgBJAIwAyABmAOb/3P8rADcA3v/O//r/0v9M/xj/jv8tAF4AVgCVAL4AXgDU/9j/PAA9AOX/w//k/8D/OP8P/4f/JABaAEgAnwDQAFwA1v/F/ygAMQDY/7r/2f+4/0b/Lv+U/x0AbQByAJoAwgB2AO7/1/8uAEYABADS//v/4v9f/zz/hf8kAG0AUACUAMIAeQDv/7v/DgA2APr/2v/8/+z/ev8e/27/AgBIAFYAhgDCAHQA4f+0/wAAJgDy/+H/CwADAHr/Jv9U/9L/TgBaAIIAyACdABcAvv/6/zYAEQDv//7/9f+K/yr/Pv+4/z4AXAB7AMMAqgArALj/4P8uAAIA2v/4//3/rP9J/0T/pv8sAGYAagCdAJgAMQC+/7z/HQAiAPX/8P8HANn/ZP9H/4b/7/9XAHIAjgCuAGgA+v/O/wUALAAOAO7/4v/S/4T/Rv9l/8b/PABsAHQAogCQACYA1P/M/wgACADo//L/7v/L/2//VP+F/9z/UQB3AJoAogByABQAvP/U//3//v/w/wgACAC5/3X/aP+G//H/XwB2AJgAjABGAP7/wP/Y/+b/7v8LAAUA8P+e/2P/bP+D/+v/UACBAJoAiQBYAPb/zP/p/xAAKwAaACIAAgCm/3z/ZP+M//r/TwB5AIQAegBOAAIAxv/n/xwAFgAUAAYA6/+8/3n/bv+n/woAVABsAH4AbAA0AOz/zP/0/xAABAD4//z/4P+s/4v/iP+y/wAAVwBsAGwAeABLAP7/0P/m/wMA/f////z/5P+5/4r/d/+L/9j/MABYAG0AZwBaACQA3f/i//z/DAAAAPT/8v/J/6n/iv+K/7X/BABMAEQAUwBmAD8ACADY//7/HAD//xAAEgD0/83/qv+T/43/s//+/0QAWgBwAGEAMAAEANr/9v8GAAYAIwAWAPH/wP+a/4z/h/+6/xIARABYAGAASwAYAOf/2v/y/xQAFQAaABQA7P/C/5//ov+e/9D/MgBcAF4ATgBGAB4A9P/i/+z/CAAJAAYABgDq/77/uP+0/77/4f8WAEwAUAA/ADIAHAACAAAACAAOAAwAEQD6/8z/vv+2/9L/5P/+/xIAEAA8ACAAIgAmAPb/EQD4/+D/4f/Y//j/8v/w//z/AgD7/9X/0f/m//7/BgAaAFAAaABBAPv/6v/a/8r/6P/V/+j/LAA4ABgA8v/y/7r/wv8EABAAUgAzAAUAAADp//n/4P/w/+j/7v8eACgARAAoABYACgDu//j/9v/2/+3/7v/0//T/+P8AAAwABQAMABIACgD+//X/8P/y/wEABAACAPX/5f/g/9v/7f8KACAAIAAcACcAEgD0/+D/zP/a//b/AgAYACYAKAAcAAQA+P/4//r/BQATACEAJgAcABMA+v/e/+T/3P/c/+b/7v8KAA4AEAAQAAgAAwACABkAHAAXABIADAD9/+//8v/s//T//v/7//j/+P8HAAkAAgAGAAoAIgAwACAAHwAUAO7/6v/2/+r/9f/i/9b/+P/k/+3/AAAAABoAEwASABwAGgALAP//CQD+/wQABAD1/+7/4v/r//P/AAAIAA4AFgAOAAsA///w//L//P/8/wkADAD6/wAA///4/wUA+v/r//j/+f/6//z/+v/3//X/+v///woA+/8DAAgA9P/6//P/9P/5/wAAAgDw//X/9//8/xMADwAHAA4ABAAEAAgACAAGAPP/9v/y//D/AAD+/wUABQAGAAkAAwD6/wQACgD6//3/+v/4/wAABAAAAPn/CQAJAP7//v/8/wQA/v/+/wQAAgAKABUAFwAHAAgA/v/s/wcACQD6//T/9v8BAPP/CAAeAAwADgAIAO7/8P8CAAoAAgD5/wYACgALAPz/+P8GAPb/AQAKAAoAFAAUABQABQAAAPb/9P8BAP7///8EABQABgD2//3/BAASAAYABgAFAAQADAD8/wcAAgD2//7/+v/1/+r/9f8GAAIA+v/5//j/8v8CAAQA9/8BAAcAAwAHAAoABAAEAAAA/P/6//b//P8AAAYA///5//j/9P/4//j/AgD+//T/AgD+//7/AAD+/w0AAAACABIAAAD+/wsACAAIABUABAD4/wIA9P/5//z/8//6//z/9P/4//L/6v/+//v/DAACAOb/CgACAPT/CQAQAAsABgAHAPj//v8KAAwACwAKAAUA8P/x/+z/8v/r//L/FwAHAAQA7P/t/wAA/P8SAAwAFgAKAAIACgD6/wgACgAQAAIACAAUAPb/BgAMAAUACAAEAAQAAwD8//z/CwABAAIABgD1/wAA/P/5/wIA+v8MAAoA+v8GAPr/+P8IAP///v8EAPz//P8EAAcA/v/6//r/+P8AAAIACgANAAUACgD6//j//P/y/wUABgD+////9P/4/wAAAQD4/wAACAAIAAwAAAACAAoACQAWABIA/P8DAAkAAwAEAPr/AgAGAAAABAD7/wAABAAAAPv/+v8EAAEAAgD8//P/7//4/w4ABQD+/wwAAgD5//v/AAAQAAUACgAUAAAA+P/s//L/7//g/+n/8P/2//z/HQAUAAQAEQAIAAgA/v/5//r//v/4//7/DwAEAAsAAQD2/wAACgAJAPb/+/8FAPz//P8AAPL/AQD+//b/EwAAAAMADgD8/wIA/v/4/wIACAD6//f/+v8AAAUA+//6//z/AwAMAAAA+P/3//r/CgAAAPr/AgD6/woADwACAP7//P/+//j/+v8BAAAABAAKAAYA/v8AAAMA+v/8/wMABAAGAPr/BgASAPz/+v/0//j/AgD+/w4ADQD//wYA/v/6/woAAAD//wIA/P8EAP7/CgAAAAIAEgD6/wgACwD9/wAA+f8CAPz//v8SAAYACAAUAAgA/v/0/+P/3P/e/9b/5v8DAP7/DgADAAoAHAD8/wYAAgAKAAAA6//6/+D/9f8CAPj/AAAEABgABAAIAAgAAgAOAPr/BAD///3/AwDv//T////+/wAA/v8FAAgA/P8EAAQAAQAMAPv/9v/9//j/AQAAAAAABgD7/wEA///+/wcABwASAAgAEgAKAPH/+//t/+7/+//z//T//f/4//f/9v/6/wYAAAAXABAA/P/9//z////0/wwADgANAAoA/v8QAPT/9/8CAPX//P/2//L/9v/1//n/DgAIAP/////2/wAA+v/+/w4ABwACAA4ABgDu/+j/8f/+//D/8v/+/wMAFAAUACUAIAAYAB4AEAAaAAgA///x/9b/8//5/+r/7v///w0A/P/4/wwABQD0//r/+v8EAAUA+/8EAPj/+f/8/wIAAgAIABkACAAGAP///P8BAPj//f8CAAcAAgD6////BgD8//n/9//0//j/+P/6//v/+//9//z/BAAMAAYACQD+/wAACQD2//7/AQAFAAYABAAMAAEABgD+/wAAAgDs//T/8f/0//7/+v8BAP7/BAAKAPn//f8EAP7/9v/4/wAA/f/+//7//v/1//T/8v/0//r/7P/z/wYABAD7//j/BAAJAAUAEwAPAAgABgD8/wAA/P/1/+r/9v/6//L//f/4/wYA+//+/woA8v/+//b/7P/2/wAAEAANABMAIgAYAA8ACgD2/wAAEAACAAAACgD2//L////t//j/BAD+/wAA9v/+/wQAAgACAPz/9f/8//r//P/+//L//v8EAP7/CAADAPj//P8GAAYA+v/4//7/BgABAPz/DAD+//b/+v/1/wcAAgD6/wcA/P/6/wgABAD7//f/+v8BAAYACgAKAAYABAD6/wIAAgDs//j//v8CABAACgAIAAYA/P8AAPr/5v/u//3//v/8//T/9P8EAA0ACAAOAAoA+//6/wIABAACAAAA9v/1//3/9v/7//z/6P/4/wEA9v/7//T/9P/p/+7//v/6//b/7//u//D///8NAPr/9P8HAAAA6v/q/+//+P8AAAQA+P8AABAAAQDy/+7/BAANAP7/AAADAA4ACgAAAAQA+v/4//z/+/8EAAQA9//0//7/AAD8//j/9//3//L//P8AAAAAAAADAAcA/P8EAPz/9/8AAPj/BgADAAYACAD5/wsABAACAAQA9v8DAPb/9//4/+//+//0//v/+v///wwAAgAEAAUABgAAAPP/8f/2/wAAAgABAAgACgAIAAoACAALAAYA/P/8//X/9v8EAA0ACgAHAAQA////////+v///wIA8//7/wYABgASAAoABgAQAAIA+P/0//P/+P8BABMAAwD//wkA/P8MAAkABAAWAP7/8P/4//b/+P/0//7//v8CAAoAAgAAAPr/CgAEAPT/+v/0/wIAAgAAAA0A/P/8/woABgACAPL/9v8AAP3/CAACAAIABwAHABAAAgD8//7/9//2//P/7v/2//z/9v/+/wYADAAMAPv/BgACAPj/BAAEAAQAAAAIAP7/+P/8//T/CAD6//b/BgD+/wUA+P8IAA4AAAAFAP3/DgASAAkA/v/6/wQA7v/o//n/5f/m//3/7//6/w4ADQAKAPv/AgD+/wAAAgD8/w4ABAAAAP3/+P8EAAEAAQD8/wAA/f8EABAA/P8CAPP/7v/4/+b/8v/4//7/+v/7/wAA6f/w//j/+f/4//r/9v/3//7/+f8IAAIAAgAWAAwA+//0/wAA/v/y//X/8P/y//3/AgAIAAYACAAEAPr//v/3//b/AAAAAPb/7v/6//7/AAD8//L/AgAJAAoACAAKAAwA8//w//f/8f/x//T/+f8DAAQA6v/m//n/+f/6/wAAEAAPAP//BAABAAAABgAAAAIAAwD9/wYADwD9/wAAAAD4/wIA8v/+/wgA/v8IAPX/9/8KAPr//v8IAP7//v/8//L/8f8AAAcABAAHAP7//v/y/+b/AgD2/+7/CgANAAYAAQAGAAIA+/8GAPz/AAAAAPL/CAAFAP//CQDu/+7//P/4//X/7v/6/wQA+v/x//r/AwAMAAkAFAAcAAAAEwAKAP7/DQDx//D/+P/6//r//v8KABIADgD3/wYA/v/1/wEA9P8CAPr//P8EAPr/AwD8//j/+v8BAAYABgAHAAAAAAAAAPr/+P/y//T/AgD7/wAADQD6////+v/3/wAA9P/8//D//P8MAP7/DgAIAAkACgACAAoA/v/6//j//P/y//D//v/2//T/+f/4//v//v8KAAkAAgAOAA4A/v/6/wAAAQDv//f/CgD+/wQACgD+//L/5v/u//T/BgAEAP//FAD8//n/9v/2/wQA5v/2/wgA/v8GAAkACgAGAAYA/P/4//v/AAAQAAEA+f8MAAQA7P/0//b/+v8IAAAAFgAfABEABAD1/wYABgD2//j/+P/6//v//P/+/wUAAADw/+7/9P/1/wQACwAIAA4ABwAEAAQA+v8CAPz/7v/4//r/+v/3//j////z//z/CgD7//z//v/2//f/+P/2//r//v/8//z/+P8EAA8A//8BAAwA9//2/////P8IAAwAAwD4//7/AgD0/+7/9v8GAAIABAAJAP7/CAACAAsABQDq//f/9/8KABQABgANAAwADQD8//j/+v/y//j/9f/y//z/CAAAAPr//v/8//z/8P/m/+j/5v/y//7//P8AAAYAAgDx//L/9v/z/woADAANABIA+P/2//7/9v/+/wgA+f/w//H//v8NAPf/7v8GAAoA9f/1//r/7v/3/////P/+//z//v8JAAAA+P8GAPn/AAAMAAgADAAAAP//+P/6/wAAAwAKAPz//v/6/+v/9P8DAAQA+P8CAAYADQAOAPz/AQD5//j/DAAHAAIA/v/2//v/+//0//D/6v/0//T/6P/y/wYAAgD4//n/6P/s//z/8v/0//r/+P/8/w4ADgAIAAwABQD+/wkADQACAAAA+v8BAP7/8P8CAAIA+/8KAAYA/P8CAPL/6v8IAPr/9/8GAPj/AgAEAAMABAACAAsABAAGAAoAEAAVAAkABgD+/+7/7P/2/+//8v8IAAEA7//2//j///8OAAYABwAKAAYACgAGAAQABAAMAAMA+/8IAPr/AgAMAAgADAAAAAAA+f/6/wAAAgAKAPz//v/6/+z/9P8DAAQA+P8CAAYADQAOAPz/AQD5//j/DAAHAAIA/v/2//v/+//0//D/6v/0//T/6P/y/wYAAgD4//n/6P/s//z/8v/0//r/+P/4//n/8P/0//X/7P/+//z/+P8KAAgADAAKAPz//v8EAPn/CgATAPz/AwAEAAUABADw//r//v/+/wYA/P8AAAMA8v/1/wgAAgD1//r/+P/6/w4ACQAIAAYA9v/2/+3/9v8CAPj//P8IAA8AAgD6/wAAAgAHAAUABAAAAAwADgAAAP//9v/5//n/+v/2//z/CgACAAsAAgD6//r/9v/+//r/+v8GAAgAAAD8/wIAAgAAAPr/+P8GAAMA+P/6/wQABwD5//r/AgAFAAIA/f8EAPr/+P/4//D/AgAJAP3//P/6//v/BwD8//T/AgAFAP3/9v/5//7/+v8DAAwABQALAAQACgAIAO7/9P/w//f//P/6//7/CAAKAAIADgAAAAEAAgD+/wgAAgADAPr/+v///wgA/P/0//3/8v/8//z/BAAGAAYAGgAUABUAAgDi//P/BAABAAIAAgAAAPj//P/r/9r/7//k//n/BgACACAAGAAMAAkAEwALAAAABgD8/wEA9v8DAAQAAAAOAPj/+v/2//T/6v/k//r/9f///woACAAGAAAAAgABAPz/+P/6//n/9P/4//7/8//6/wEA/v8MAAQA/P/2//X/AwAEAP7//v8LABUAEAD//wQACQD6//v/+P/z/+3/8v8CAPv//v8EAPr//f8DAAQA/f8CAAIA9P8AAPz//v8LAAEACgAOAAIA+v/5//7/+P/u//f/BAD4////CAACAAYABAAFAPr//P8GAP7/9v/0/wIABgABAPf/9v8RAAgABgAQAPj//v/o/8z/5f/q//L/CQAIABAAGAADAAIAAQD4//7//P/6//L//P8IAP///P/4/wAA8f/6/wgAAQAQAAIABQAFAPL/+P/4//n/+//6/wYAEAAEAAQADgAQABAAAgD1/wAACADx/+7/9v///wkA/v8FAPz/9P8AAPL/9P/8//7/CwAKAAYA+v/x//3/+v8CAAQA/f8LAAQA/v/8//j/AAAEAP7//P8GAPz/+v8EAPz/9v8CAAIA+/8CAPz/AgAAAP7/CwD4//r/CAABAAgA+v/4/w8ABgAGAAoAAQD4//b/8//e/+r//v/9/wwACwAAAPz//v8OAAMA/P/6//n/AADs//T/BAAKAAoACgAgABIAFQAaAP//+v/6/+z/4f/s//X//P8IAAQAAgD5//n/EgAGAAgAFAAIAA4ABwAOAAUABAAWAP7//f8AAAIACAAKAAYA9v8AAAIAAgAIAAQABAADAAMABgAGAAIA/P/4/wgADQAIABQACQD8//z/9f/+/wMAAAD8//7/CAAAAAYACgAHAAcAAAAMAAQA9v8AAAAA+v/8//z//P/0//P/BwD+//r/CAD8//v/9P/1//7/+v8AAPT/9P8EAAQA/v8CAAwA+P/y//r/9P8AAP3/9v/8//r//P8AAAwAAwAEAAkA/v8CAPH/9/8IAAcA+//6/xwAGAAGAPr/AAAKAPT/6v/s/+b/4P/0//z/9/8CAP7/9//3//z/CgAGAAEACAAMAAUABAAAAPT//P/u/+7/AgAMAA8ADAAQAAgADAD7//j/DAACAPj/+P8IAP7/+v/5//z/AgDu/wAAAQD4//z/8P8CAAgABAAJAAIADAARAAgAAQD6/wIA/P/6/wYA/v/5/wMA+P/s/wAA+P/m//b//P8CAP3/8v8JAAIA9v8GAPj/AgD9//z/CwAAAAoADAAQAAcAAgD0/+z/BwAEAAAA/P8OABYA/v/8//z/+v/0//r/AgAEAAoACAAGAAgAAQD3//r/+//8/wgACgAAAAgACAD9//r/+P8FAAAA7P/l/+3/6v/k/wQA///z//z/AAAVAAoABgAKAPr/+P8CAP7/AAAQAAgACAD8//D/+P/w//D//P8GAAYAAgAKAA8A/P8AAAgA9f/8/wwAEQAIAA8ADgAJAAoABAAIAPj/AwAAAAQACwD//xIACAAEAPz///8GAP3/EgAJAAoADAD8//z/+//9//7/BgD6//T/BAD//xAACAD4/wYA+f8OAAAA7v8JAAQAAgAEAP3//f8OAPz/8P8GAPb/AgAMAP7////1//L/8v/0//3/9v/0/wAAAQD6//z/BgAHAAEACgAEAPv/CAADAP7/9v/2//b/9P/8/wQAFwAGAAYAEADr//D/8//n/+z/7v/w/+7//v////r/DwAIAAIAEgALAAIAAgD0//b/EgANAAYACAALABQA+v/6/wgA9P/0/wIAAgACAAgACAAGAP7///8AAPT/9//6//7//P8GABIADgACAPb//P/0//b/9P/6/wQA/P/+//3/BgASAA8ABgD5//v/AgD+//n/+P8CAA4A9f/6//z//v8KAPr/BgAAAAYAFAD+//7//P8FAAQA9f/4/wIACQD6//j/AAD+/wgAAgABAAYAAgAPAAIA8v/4//7//f/v//j/BgACAAAACAAFAAYACQD8/wAAAQD4//r/AgAIAAoAEAAIAAAA9//u//X/6f/g/+7/9v8EAAwA/P8AAPz/4v/q/+j/5v/4//j/9P/8//7/+v/3//r/+P/0//L/6P/4/wAA/P8IAO///v8MAP//EAAEAAgAAwDy//r/CAAAAPr/EAACAPz//f/5/wMA9v/0//b/AQD+/+7//v/8//z/CAADAAcABgD6/wgAAAD6//7/7P/y//j/+P/+/woADgACAPr/9v/7/wsADAACAAoACgAGAP7/9/8JAAIA9v8CAAYABAAMAAsABAAKAP7//f8FAPj/+//3////FgAFAPz/AAABABEAEAD+/wYADgD+//n/AQAEAPf/8v/4//H/8P/o//v/DwABAP7//P8QABwAAgDy//j//P/9/wYA+P8GAA8A//8SAAAA/P8CAPT/AwAAABAAHAAZABIA/v/2//P/9//q//T/BgACAAwABAD8//7/9//0//T/9P///wAAAAAGAPb/AQAOAAgACgAEAAgAAwD7/wAA+v/8/w4ABAD+/wgAAAALAAIA9v8BAPf//P/8//b/9f/3//j/9v/8/+z/9P/+//r/CAABAP7/BQACAPj/9f8GAP7//f8GAPb//P/4//z/AAD8/woA/v8IAAwAAAAAAPb/9P/9//z/8v8AAAsABgAMAAQA+f/8//z//P/+/wcACAAAAP7/8P/p//X/+P/+//j/AAAGAPb/EgAYAAsABgAJABAA/P8BAP//AwAUAP7/9v/6//X/BAAIABMAFgAGAB8AFAAKAA4A+P8EAP7/9P/v//D/BAD8//r/AAAEAAIA+f/6//D//P8KAP7/BgD8//j/AgDy//j/+v/1//r//P8BAAAAEQAKAPL//v8GAAQABAAKAAsA///6//j/+f/7/wAAAwAEABQACwAGAAoA+//2//b/BAACAAUABgD+/wAA9v8EAAoABAAFAP3//v8EAAcAAgD8//z/BAAJAAAAAgAGAPH/+/8DAAAACADy////9P/y/woA9f8IAAQABAANAPz/CgD0//T////5//D/5f/8//v/9v8GAAMA/v/+/woACAAEAAYABAAQAP3/+P///+j/+//u/+7/9//n/wwAAwAGABIA+v8CAAAADQD+//j/AgDm//z/9v/s/wYAAgACAP7/9v8AAP7/+P8EAAwACAABAP3/+//w//T/BAAFAAIAAgADAP3/+f8IAAoAAwD+/wQADgAKAAgABAACABMAFgAQAAkA/P8EAAgAAAAEAAYA+v/0////9P/4//n/7f////7//P8AAP7/BQD+//r/+f/4//v//v8HAPn/+f8AAPT/9v/0/wcAAgD2/wQA/f/6////+v/7/wkACQAMABQABQACAAEA+//q/+r/AgAIAAQA9P8CAA4AAgAMAAoABgAHAAgACQAAAAYACAAEAAQA8P/p/wIA9v/q//T/9P/7//r/BwD8//z/CAD8/wAA7v/7/wAA7//+//T/+P/+/wIAAAD1//7/+P/8/wQA/P8KAAcA+v8EAP3/AAD+//D/+//4//7/9P/q/wYA9v/4/wQAAQASAAMABAD///L/+//5//r/AAAGAP3/AQD///n/BwD8/wAADgAEAAUABAD2/wgACAD+/wYA+v8DAAUAAAD3//j/CwAAAPr/BgAIAAAA/f/y//z/CADt//f/BAAAAAkAAwAEAPz/AAAEAPz/AgD1//v/9P/w//z/6v/0/+7/AAAUAPn/DgD///j/AADv/wwAAgDx/wgA/v/o/+b/7//4//P//v8OABQAIAAcAB4AEgAIAAoA+v/6//L/+v/7//n/DAD4/wAA/f/0/w8ABAD2//7/+v8GAAsA/f/8/woADgD4/wAACAAKAA4ACAAUAPr/AAALAPb/DQAGAAoADADu//P/+/////n/+v8DAAEA/v/+/wUA8v/u/wAA+v8GAPj/9v8MAAYADAAGAAQA///2/wQAAgAAAAcABgD9/wAA///0/wAA/P/2//f/8////wAABgD+//b/BgD4/wAABwD9/wYA+f/2////BgACAAgADAAJABAABwD+//v/DgAOAAAA9v/w//j/+f8QAAAA+f8GAPr/BQD6/wIA/v8CABIA+/////D/3P/q//L/+P8AAAAAAAD8//f/AgAGAAoACwAUAA0ACwAUAAgAHAAPAAoACgDu/wIA8P/x//z/8P8EAPz/+v///wgA/v/y//3/+/8TAA4ACAAKAPv/CQAEAAQABAAIABIA9P/8////+v8CAAQAAgD6/wMA7/8CAAoA7P/+//T/AAAIAPT/CwAKAAIACQABAAIABwACAPT/AgAJAAIADgD8/wAAAQD6/wUA+v8EAPj/8P/2/wAACQD4/wgA///4/wUAAAAIAAYABAACAPb/9v/3//L/+v8FAAYADgAKAPz/DQAMAO//9v8EAAIA+P/2//z///8AAPr/BAD6//b/+v/q//D/7//0//r/+v/7/+j/9v8LAAwACwACAPj/8v/6/wIA9//6//z/BAAMAPj/AAD+//b////7/wIA/P/+/wMACAAUAAIAAgAIAAQAAAD6//b/7v/y//b/+f/4/wgAGAAOAAQA/P/+//z/8v/u//T//P8EAA0A/v////n/7P/+//b/9v8IAAYA/////wUABAD6//r/BwD+//T//P/8/wIA/P/6//3/+v/4//7/9v/w//n/9v8CAAoAAAACAP3//P8IAP7/+/8CAPn//P/6//7/BQABAP//+P8AAAQAAgAHAAYABgD9/wEAAwDy//n/+P/4//j/6P/k/+j/8v8SACAABAACAP7/8v/6//b/BgAAAP7//v/k//T/+P/1//n/8P8GAAIA8P////j/+v/8//n/CAACAPn/+P/6/wAACAAAAPj//P/8//z/AwAIAAYADAAGAAwAGAD5//D//v/6//3//P8IAAwA+f8NABEA+v8EAAYA+/8AAAwA/P8AABAA/P/1//r/+P/1//b/9//y//j/BgAYABkA/f/5/wUACQAIAPr/9v/6//r//P8EAAQACgAOAAgA/v/6/wMA/v8EAA4ABAD+/wAAAgD4//j////8//f/BQAAAPr/AwAAABIACQACAAAA7v/z/+r/6v//////AQAKAAYABAD4/wIAEgAIAAYA/f/6//D/+f/5/wAAIAAQAAgAAgAOABAA//8FAPf/9v8BABcAEAD6//7//P/4//P/+//w//P/BgD6//3//f8BAAQABgAQAAMACAAMAAQACAAEAAMAAgABAAIA+v/+/wQA+v/6/wgABwAAAA4ACwACAAAA8v/0//j/9//8/wYADAAHAAwABQABAAIAAgAIAPj/7P/6//7//P/+//j/AQAGAPj//f8OAAMA9f/7/wMAAgDx/+3//P///wAACAAGAPv//f8OABAA/v8CAA8AAwD8//3/+P/6//z/AgD8//j//v8CAA4AAwACABQACgAKAAoABQATAAoAAAAMAAoAEAAMAAIAAAD6/xEABADw//r/9//5/+7/7P/8/xAAFAAYABoA+v8HAAIAAgAWAPX/+v/+//X/AQD7/wgAEAACAAQAAgACAPD/5P/2//b/AAD9/wAACAD9/wQA+v/8//z/9v/2//P//v/4/wAA/v/3////+v/9//z//P/+//7//v/+//7//v////7//v/+//7//v8AAAAAAAAAAAAAAAD+//7////+//7////+//7////+//7/AAAAAAAAAAAAAAAAAAAAAAAAAAAAAAAAAAAAAAAAAAAAAAAAAAAAAAAAAAAAAAAAAAD+//v/AAACAP3/8v/2//b/8P/+//j/AAD8//L/AAACABAACAD3//X/9P8AAPT/9P8AAAIABAD8//z/8//y////AAD+/wIADAAMAAQAAgAFAAgADgAHAPz//v/6//7//v/+//r/9/8AAAEAAgD6/wEABgAEAAsAAgD8//z/DgAFAPj/BAD8/wAA/v/2//f/7f/x//T/9v/+/wIAAAD5//j/+//2/wYADAD6/w0ABQACAAgA8v/9//T/9v/4//H/BAD6/wQACgACAAYABAAEAAMABwD//wAAAAD8/wsA/v8EAA8ABAAEAAcABwAGAAQA//8AAAQA//8GAAMA/P8RAAYA8v/1//H/BAD+/+z/AAAIAAAA8//6//3/9/8IAAQA+v/1//P/BgD6//L/AAABAAgABgACAPr/BAACAPD//f/4//v//P/2//z/9P/7/wAA/v8HAAUABgAIAAQADAD7//r/BgD2/wAA/P///woA/P/9/wQABgAAAAAABAABAAUABAD4//r/+v/0//r/+/8FAAIA9P/4//z/BAD+//7/+v/z/wQA/P8CAAQA+v8UAA4A9v/1//b/+P8AAAEA+P/8//j/9P/4//z/CQAKAAYABgAEAAoAAwD2//7/BAD+//n/+v/7/wAABgACAAIA/P8KAA4AAgAFAAIA/v/w//D/9/8FAAgA+P8BAP7/AAAQAPn/8v/8//b/BAD0/+7//v/x//7//P8CABAADgAIAPH//v/2/+3/7v/n/wAA9v/0//X/+v8YAAYA/P/6//T/7v/w/wIAAwAYAB4ADAAQAAYAAgAAAPP/BAAEAPz/AAD0//b/8/8AAP7/9P/6//L/AAD9//r/9//y/wIA+P/6/wQA/P/0//v//v8CAAsADgANAAgAAAD0//r/\" type=\"audio/x-wav\" />\n",
              "                    Your browser does not support the audio element.\n",
              "                </audio>\n",
              "              "
            ],
            "text/plain": [
              "<IPython.lib.display.Audio object>"
            ]
          },
          "metadata": {},
          "output_type": "display_data"
        },
        {
          "name": "stdout",
          "output_type": "stream",
          "text": [
            "--------------------------------------------------------------------------------\n",
            "The audio consists of a repetitive, drawn-out \"ugh\" sound, repeated many times in quick succession. It has a slightly exasperated or frustrated tone.\n",
            "--------------------------------------------------------------------------------\n",
            "TOTAL TIME ELAPSED: 5.28s\n",
            "[{'role': 'user', 'content': [{'type': 'audio', 'audio': '/kaggle/input/cat-meow-classification/dataset/dataset/B_CAN01_EU_FN_GIA01_105.wav'}, {'type': 'text', 'text': 'Describe this audio.'}]}]\n"
          ]
        },
        {
          "data": {
            "text/html": [
              "\n",
              "                <audio  controls=\"controls\" >\n",
              "                    <source src=\"data:audio/x-wav;base64,UklGRsKVAABXQVZFZm10IBAAAAABAAEAQB8AAIA+AAACABAAUEFEIMwPAAAAAAAAAAAAAAAAAAAAAAAAAAAAAAAAAAAAAAAAAAAAAAAAAAAAAAAAAAAAAAAAAAAAAAAAAAAAAAAAAAAAAAAAAAAAAAAAAAAAAAAAAAAAAAAAAAAAAAAAAAAAAAAAAAAAAAAAAAAAAAAAAAAAAAAAAAAAAAAAAAAAAAAAAAAAAAAAAAAAAAAAAAAAAAAAAAAAAAAAAAAAAAAAAAAAAAAAAAAAAAAAAAAAAAAAAAAAAAAAAAAAAAAAAAAAAAAAAAAAAAAAAAAAAAAAAAAAAAAAAAAAAAAAAAAAAAAAAAAAAAAAAAAAAAAAAAAAAAAAAAAAAAAAAAAAAAAAAAAAAAAAAAAAAAAAAAAAAAAAAAAAAAAAAAAAAAAAAAAAAAAAAAAAAAAAAAAAAAAAAAAAAAAAAAAAAAAAAAAAAAAAAAAAAAAAAAAAAAAAAAAAAAAAAAAAAAAAAAAAAAAAAAAAAAAAAAAAAAAAAAAAAAAAAAAAAAAAAAAAAAAAAAAAAAAAAAAAAAAAAAAAAAAAAAAAAAAAAAAAAAAAAAAAAAAAAAAAAAAAAAAAAAAAAAAAAAAAAAAAAAAAAAAAAAAAAAAAAAAAAAAAAAAAAAAAAAAAAAAAAAAAAAAAAAAAAAAAAAAAAAAAAAAAAAAAAAAAAAAAAAAAAAAAAAAAAAAAAAAAAAAAAAAAAAAAAAAAAAAAAAAAAAAAAAAAAAAAAAAAAAAAAAAAAAAAAAAAAAAAAAAAAAAAAAAAAAAAAAAAAAAAAAAAAAAAAAAAAAAAAAAAAAAAAAAAAAAAAAAAAAAAAAAAAAAAAAAAAAAAAAAAAAAAAAAAAAAAAAAAAAAAAAAAAAAAAAAAAAAAAAAAAAAAAAAAAAAAAAAAAAAAAAAAAAAAAAAAAAAAAAAAAAAAAAAAAAAAAAAAAAAAAAAAAAAAAAAAAAAAAAAAAAAAAAAAAAAAAAAAAAAAAAAAAAAAAAAAAAAAAAAAAAAAAAAAAAAAAAAAAAAAAAAAAAAAAAAAAAAAAAAAAAAAAAAAAAAAAAAAAAAAAAAAAAAAAAAAAAAAAAAAAAAAAAAAAAAAAAAAAAAAAAAAAAAAAAAAAAAAAAAAAAAAAAAAAAAAAAAAAAAAAAAAAAAAAAAAAAAAAAAAAAAAAAAAAAAAAAAAAAAAAAAAAAAAAAAAAAAAAAAAAAAAAAAAAAAAAAAAAAAAAAAAAAAAAAAAAAAAAAAAAAAAAAAAAAAAAAAAAAAAAAAAAAAAAAAAAAAAAAAAAAAAAAAAAAAAAAAAAAAAAAAAAAAAAAAAAAAAAAAAAAAAAAAAAAAAAAAAAAAAAAAAAAAAAAAAAAAAAAAAAAAAAAAAAAAAAAAAAAAAAAAAAAAAAAAAAAAAAAAAAAAAAAAAAAAAAAAAAAAAAAAAAAAAAAAAAAAAAAAAAAAAAAAAAAAAAAAAAAAAAAAAAAAAAAAAAAAAAAAAAAAAAAAAAAAAAAAAAAAAAAAAAAAAAAAAAAAAAAAAAAAAAAAAAAAAAAAAAAAAAAAAAAAAAAAAAAAAAAAAAAAAAAAAAAAAAAAAAAAAAAAAAAAAAAAAAAAAAAAAAAAAAAAAAAAAAAAAAAAAAAAAAAAAAAAAAAAAAAAAAAAAAAAAAAAAAAAAAAAAAAAAAAAAAAAAAAAAAAAAAAAAAAAAAAAAAAAAAAAAAAAAAAAAAAAAAAAAAAAAAAAAAAAAAAAAAAAAAAAAAAAAAAAAAAAAAAAAAAAAAAAAAAAAAAAAAAAAAAAAAAAAAAAAAAAAAAAAAAAAAAAAAAAAAAAAAAAAAAAAAAAAAAAAAAAAAAAAAAAAAAAAAAAAAAAAAAAAAAAAAAAAAAAAAAAAAAAAAAAAAAAAAAAAAAAAAAAAAAAAAAAAAAAAAAAAAAAAAAAAAAAAAAAAAAAAAAAAAAAAAAAAAAAAAAAAAAAAAAAAAAAAAAAAAAAAAAAAAAAAAAAAAAAAAAAAAAAAAAAAAAAAAAAAAAAAAAAAAAAAAAAAAAAAAAAAAAAAAAAAAAAAAAAAAAAAAAAAAAAAAAAAAAAAAAAAAAAAAAAAAAAAAAAAAAAAAAAAAAAAAAAAAAAAAAAAAAAAAAAAAAAAAAAAAAAAAAAAAAAAAAAAAAAAAAAAAAAAAAAAAAAAAAAAAAAAAAAAAAAAAAAAAAAAAAAAAAAAAAAAAAAAAAAAAAAAAAAAAAAAAAAAAAAAAAAAAAAAAAAAAAAAAAAAAAAAAAAAAAAAAAAAAAAAAAAAAAAAAAAAAAAAAAAAAAAAAAAAAAAAAAAAAAAAAAAAAAAAAAAAAAAAAAAAAAAAAAAAAAAAAAAAAAAAAAAAAAAAAAAAAAAAAAAAAAAAAAAAAAAAAAAAAAAAAAAAAAAAAAAAAAAAAAAAAAAAAAAAAAAAAAAAAAAAAAAAAAAAAAAAAAAAAAAAAAAAAAAAAAAAAAAAAAAAAAAAAAAAAAAAAAAAAAAAAAAAAAAAAAAAAAAAAAAAAAAAAAAAAAAAAAAAAAAAAAAAAAAAAAAAAAAAAAAAAAAAAAAAAAAAAAAAAAAAAAAAAAAAAAAAAAAAAAAAAAAAAAAAAAAAAAAAAAAAAAAAAAAAAAAAAAAAAAAAAAAAAAAAAAAAAAAAAAAAAAAAAAAAAAAAAAAAAAAAAAAAAAAAAAAAAAAAAAAAAAAAAAAAAAAAAAAAAAAAAAAAAAAAAAAAAAAAAAAAAAAAAAAAAAAAAAAAAAAAAAAAAAAAAAAAAAAAAAAAAAAAAAAAAAAAAAAAAAAAAAAAAAAAAAAAAAAAAAAAAAAAAAAAAAAAAAAAAAAAAAAAAAAAAAAAAAAAAAAAAAAAAAAAAAAAAAAAAAAAAAAAAAAAAAAAAAAAAAAAAAAAAAAAAAAAAAAAAAAAAAAAAAAAAAAAAAAAAAAAAAAAAAAAAAAAAAAAAAAAAAAAAAAAAAAAAAAAAAAAAAAAAAAAAAAAAAAAAAAAAAAAAAAAAAAAAAAAAAAAAAAAAAAAAAAAAAAAAAAAAAAAAAAAAAAAAAAAAAAAAAAAAAAAAAAAAAAAAAAAAAAAAAAAAAAAAAAAAAAAAAAAAAAAAAAAAAAAAAAAAAAAAAAAAAAAAAAAAAAAAAAAAAAAAAAAAAAAAAAAAAAAAAAAAAAAAAAAAAAAAAAAAAAAAAAAAAAAAAAAAAAAAAAAAAAAAAAAAAAAAAAAAAAAAAAAAAAAAAAAAAAAAAAAAAAAAAAAAAAAAAAAAAAAAAAAAAAAAAAAAAAAAAAAAAAAAAAAAAAAAAAAAAAAAAAAAAAAAAAAAAAAAAAAAAAAAAAAAAAAAAAAAAAAAAAAAAAAAAAAAAAAAAAAAAAAAAAAAAAAAAAAAAAAAAAAAAAAAAAAAAAAAAAAAAAAAAAAAAAAAAAAAAAAAAAAAAAAAAAAAAAAAAAAAAAAAAAAAAAAAAAAAAAAAAAAAAAAAAAAAAAAAAAAAAAAAAAAAAAAAAAAAAAAAAAAAAAAAAAAAAAAAAAAAAAAAAAAAAAAAAAAAAAAAAAAAAAAAAAAAAAAAAAAAAAAAAAAAAAAAAAAAAAAAAAAAAAAAAAAAAAAAAAAAAAAAAAAAAAAAAAAAAAAAAAAAAAAAAAAAAAAAAAAAAAAAAAAAAAAAAAAAAAAAAAAAAAAAAAAAAAAAAAAAAAAAAAAAAAAAAAAAAAAAAAAAAAAAAAAAAAAAAAAAAAAAAAAAAAAAAAAAAAAAAAAAAAAAAAAAAAAAAAAAAAAAAAAAAAAAAAAAAAAAAAAAAAAAAAAAAAAAAAAAAAAAAAAAAAAAAAAAAAAAAAAAAAAAAAAAAAAAAAAAAAAAAAAAAAAAAAAAAAAAAAAAAAAAAAAAAAAAAAAAAAAAAAAAAAAAAAAAAAAAAAAAAAAAAAAAAAAAAAAAAAAAAAAAAAAAAAAAAAAAAAAAAAAAAAAAAAAAAAAAAAAAAAAAAAAAAAAAAAAAAAAAAAAAAAAAAAAAAAAAAAAAAAAAAAAAAAAAAAAAAAAAAAAAAAAAAAAAAAAAAAAAAAAAAAAAAAAAAAAAAAAAAAAAAAAAAAAAAAAAAAAAAAAAAAAAAAAAAAAAAAAAAAAAAAAAAAAAAAAAAAAAAAAAAAAAAAAAAAAAAAAAAAAAAAAAAAAAAAAAAAAAAAAAAAAAAAAAAAAAAAAAAAAAAAAAAAAAAAAAAAAAAAAAAAAAAAAAAAAAAAAAAAAAAAAAAAAAAAAAAAAAAAAAAAAAAAAAAAAAAAAAAAAAAAAAAAAAAAAAAAAAAAAAAAAAAAAAAAAAAAAAAAAAAAAAAAAAAAAAAAAAAAAAAAAAAAAAAAAAAAAAAAAAAAAAAAAAAAAAAAAAAAAAAAAAAAAAAAAAAAAAAAAAAAAAAAAAAAAAAAAAAAAAAAAAAAAAAAAAAAAAAAAAAAAAAAAAAAAAAAAAAAAAAAAAAAAAAAAAAAAAAAAAAAAAAAAAAAAAAAAAAAAAAAAAAAAAAAAAAAAAAAAAAAAAAAAAAAAAAAAAAAAAAAAAAAAAAAAAAAAAAAAAAAAAAAAAAAAAAAAAAAAAAAAAAAAAAAAAAAAAAAAAAAAAAAAAAAAAAAAAAAAAAAAAAAAAAAAAAAAAAAAAAAAAAAAAAAAAAAAAAAAAAAAAAAAAAAAAAAAAAAAAAAAAAAAAAAAAAAAAAAAAAAAAAAAAAAAAAAAAAAAAAAAAAAAAAAAAAAAAAAAAAAAAAAAAAAAAAAAAAAAAAAAAAAAAAAAAAAAAAAAAAAAAAAAAAAAAAAAAAAAAAAAAAAAAAAAAAAAAAAAAAAAAAAAAAAAAAAAAAAAAAAAAAAAAAAAAAAAAAAAAAAAAAAAAAAAAAAAAAAAAAAAAAAAAAAAAAAAAAAAAAAAAAAAAAAAAAAAAAAAAAAAAAAAAAAAAAAAAAAAAAAAAAAAAAAAAAAAAAAAAAAAAAAAAAAAAAAAAAAAAAAAAAAAAAAAAAAAAAAAAAAAAAAAAAAAAAAAAAAAAAAAAAAAAAAAAAAAAAAAAAAAAAAAAAAAAAAAAAAAAAAAAAAAAAAAAAAAAAAAAAAAAAAAAAAAAAAAAAAAAAAAAAAAAAAAAAAAAAAAAAAAAAAAAAAAAAAAAAAAAAAAAAAAAAAAAAAAAAAAAAAAAAAAAAAAAAAAAAAAAAAAAAAAAAAAAAAAAAAAAAAAAAAAAAAAAAAAAAAAAAAAAAAAAAAAAAAAAAAAAAAAAAAAAAAAAAAAAAAAAAAAAAAAAAAAAAAAAAAAAAAAAAAAAAAAAAAAAAAAAAAAAAAAAAAAAAAAAAAAAAAAAAAAAAAAAAAAAAAAAAAAAAAAAAAAAAAAAAAAAAAAAAAAAAAAAAAAAAAAAAAAAAAAAAAAAAAAAAAAAAAAAAAAAAAAAAAAAAAAAAAAAABkYXRhyoUAAA4AEQAKAPv/+P/1//n/5f/v/+///P8AAPj//P/2/wgAEgAMABIAAgD4//j/9P8AAPv/AQARAAsACAD7/+3/6v/s/+j/4/8HAAQADAAMABYAEQAAAP7/AgD3/+7//v8IAOf/5P/r//j/9P/w//j/+/8PAAQAAwAQAAEACQD3/wUAEADt//7/CgD7/wYA8f8AABsABQD+/wkADgAFAAIA9v/m/wIA9P///yYADwAHAAgA+v8OAP7/CAABAAYA//8EAPP/8v8EAAcA/v8IAAEAAQD4/wUA9v8IAAcA7/8BAPb/BwAQAAkACwAKABoAAQAFAAoAAgD8//v/BQD9//v/AAD6/wkA+f/9//3//P8GAAQA+v8FAPz/8/8KAAEA/v8DAPT/BAAIAAMA///5/wIABgAGABIA/f8OAAUA3f/4/+3/9v/8//T/FgAQABAABwAIAAoABgANAPv/EgASAAAACgABAAIA+f/2/wQADwAAAO//5//3/wIAAADz/+j/AAD0//f/CwD3//r/EAAQAAkAAAAKABAAFAAAAPr//v/8/+f/8v/5//j//v///w4ACwALAAAA8v8FAAYACQALAAIA8//r/wYA9P/z//r///8IAAsAEwAPAPz/+f8IAPn/AgD+/wkA/f8EAAQAEQALAAEADgD6//X/9f/1////9P/3/wcAAwACAPD//P/y/wEA/v/+/wgABAAHAAsABQALAPz/DgAAAAkADgAJAAUA/v/3/wkAAwDz//b/+f8MAPv/8//0/+//+P8FAPf/+f8LAAUACQD0/woA9//x/wkAAQAOAOD/5v/2//3/EADw/w8AFQAIAAUAAgAAAAcAEQACAAsA8v/q/wgA3v/v/wMAAAACAAAABQAPAP3//f/7////+v8AAPz////+//7/9P/1/wAAAwAFAP7/BQAAAAMA+//1/wEA+P/8/wMA/P8OAPb/+P8MAP//BAACAP3/9v/+//v//v8CAP3/BADn//L/AgAJAA8AAwAGAPj/BAAAAPn/BAACAPb/+/8GABYABAAKAAcAEAAGAPT//f/w//z//v/8//X/9f8BABEAFwAMAPj/AgADABIACQAGAAQABQAOAAEABQD7//T/GgDu/+v//f/x/w0A9v/0/wEA/f/y/+/////s//z/CAABABAA9P8FAPn/9f/v/+j/BAD6/wEACAAYACIAEAAvABUA8P8JAAgAEQAKAP3//f/q//j/+v/1/wYADAD4//n/DQAIAPb/+//9/wQA8P/p//n/9v/3/woABQD5/wQA9/8KAAAA/f8OAP7////6/wQABADs//T/9v/5/wkAAwD+//7/9v/5/wMA9v/y//X/8P/s/////P/6//3/AgD//wAA/P///wAAAAAKAO//9f/x//b/9v/s//7/8f8IAAQABgDk/87/BQATAAkAEQAaAAQA/v8CAP//AAAAAAkABAD6//7//v/t//z/AgADAPD/2v/k//f////0/w8A+v/h////+v8EAPD/zv/+//n/BgARAPP/EwAUAAUAAwD2//X/AQD1/xQA+f/t/+z/8P/6/+n/9v/8//7/+v/r/wMA8v/0//r/9f/8//H/+v8CAP7/DQASAA0A8v/p//r/+v/y/wEABQAFABgACwARAAUACwACAP3/AQAOAAIA/f/3/+T/8P/8/woAIAADAPT/+f/q/+b/AwAeABkA/P/8/+//5//z//z/+P8DAPr/CgD1//b//v/i//X/EQD///v/GgACAOb/+//O//v/HQABABMA8/8GACEABgAGAAkAAQADAOn/5P/x/wsA/P8AAAMABgAPAPb//v8IAAMA7f/3/w8A8f/0/wEACgAAAPz/7v/9/w4A6/8JAAYA5/8KAAMACwD//+7/CgDw/+H//f/6/xYABgD3/wsAAQD7/+//CwD///7/BQAAAB4AAAAEAA8A+f/7/wYAAwD///7/CQD+/+v/4P8WAAgA//8SAPn/CgDu//H/BAD+////AQD8//T/+P8EAPv/BAAFAPz/7//y//3/2//+//n/+P8IAPL/+f/5//n///8LAA0AAAABAPX/8//z/wMACwD+/xQACgD6//3/BAAAAAMA9v/1//H/+P8aABEADwATAAUAAgD9//X/+f/7/wMABgD0/wYAGwAkAAkACwAEABUADgANABgA///1/+z/6f/+/wMA//8TABQA+P/3//3///8aAA4A+P8UAAkA9/8HAA0AAwD9/wYA/v8BAPf///8SAPv/BgAEAO7/CQDw/w4ABAD2/wsA+f/4////6v8LABYACAAFAPz/9v8MAAkA9f8GAA0AAAAQAPj/9/////f/EQD9//3/FAD2//b/7//1/wkABQAWAPf/2f/O/wIANQAgAPj/7v/8/+7/3P/7/wkAKwAYAPj/CAD9/+r/BwD8/wgA7//t/+v/6/8CAP7/DwD6/wYAAQDt/xEAFwAJAAYA4//r/+D/4/8JAAkAFwAQAO7/+//y/+H/AADs/wkA8//r/wEA+P8IACMAFwAFAAIA9v/6/xEAAgARACQAGAAYAAIAAwD4//7/+v8GAPb/6f/1/wAAFQAOABsAGwAcAAcA2//T/+j////t//T/AwD7/wkA6v8FABUAEQAMAPP/4v/c//r/FAAJAAoA8f/p//n/CwAJAAgAFgAQAAIAAAD1/+r/+P8AAPP/6f/n/wkACwAUAA0A6v8AAAgA9f8IAPv//v8KAAUACQD5//L//f8MAPv/AADy/+r//v/p/////v/8/wMA9/8FAP//8//9/wEA/f/9/xMAEwANAAQAEQAJAAEA/v/8/wEA9P/y/w4AFwADAAQA+f8EAPz/9/8UAPr//f8HAP3/7v/k//r/9/8BAAsAFQAfAAIABQAMAAcAAADk/+///f8LAPj/EQAfAAMAHgATAP//8f/8/xAACQD+//P/8//1/wUAHwD4//T/CgDq/+v/8/8BAAkA+f/0/wYAFwAHAA0ACwAXAP3/+P8DAOz/AAAJAAAAAgD9/w4A9v/4/xoA///8//7/+v8IAPH/5v8IAPz/7v/w//D///8MAAkACgAEAPr/+f/1//r/DAD+//v//P8DAA8A+v/s/wcADAAKAPz/AgAMAAgA7P/l//P/8P8AAAIABgARAAMAAQDs/wwABwACAPb/8f/1/+3/EwAQAAQA+P/h//b/9P/4//r/AwAQAPP//f/0/wQACgD5////AwABAAAA9/8DAAYA/f8GABcA/P8KAPr/9f/5//v/GwD7/wsA+P8DAAgA6f8JABkAGAAFAAUA/v/o/+v/4/8FABAA6//9/+7/7/8FAPz/AQD//wMA+//6//f/+P/7/////f/+/wgADgAAAAwACAAGAPn/9/8BAAAA/v8EAP///f8VAAgAAgACAPL/AQDx//j//v/z/wMAAAD4//z/DwD9//T//v///wsABwAPABAADAAMAAMABAD4//r/8P8FABsADgAlAAcA+/8SAA8A///u//r/+f8GAA8AAgAIAPb/AQD0/+D/AQD7/x8ACQD+/x0ADAAIAP7/CAD2/+b/7v/0//r/9f8CAAIACQAMAAcABQD5/wYA///5//f/9//9/woA+//7/wAA/f8LAAYA/v/6/wkAAQD4/wYA/P8JAAkA+f8NAP7/GQAJAP//AQANABMA9P/m//r/AwAFAPL/7P/x/wUAFQAkABcA9/8AAPj/+f/8/wIACwAEAAQAAwAFAAMA8/8CAP//7f/n//b/8//9//T/AAD3//f/+/8EAO3/+/8HAAAADAAEAAEA9//2//3/+v/5//P//P8CAA8ACQALAAQADgD///7/+//z/xQA+v/z////+f/6/xAACwAIAPn/FAAEAPj/6v/z/xEA8//q//n/AQDo/+7/CwACAOX/6P8QAA4A9/8DAAEAGwAIAPj/AwAGABMABwANAAYABgAVAAEA///s/+H/7v/n//n/7v/8/xIAEwAAAPz/+v/y//L/3P/r/wAA/P/8/wAA+/8BAPv/AgD1/wAACQAHABUAEwAFAAQABAADAAAA8//5/wAA8//8/wIAAgAJAP3/DQABAOz/BAADAP3/AwAHAAAAAwD1//b/+P/y//X//v8SABAA+/8IAP///P/9//j//f/8//3/DQAFAPr/CgARAA8AAQAMAAkAAAATAAEA/P/0//r/8v/+/wkADAD6/wQAGAAPAPz//P/2/wYABQD0//b/FAAWAAAAAgAUAPf/+f/m//T/+v/p//H//P8AAAAA/v/l//D/AwD//wcACQALAB4ABgDv/9r/8f/q/wIADwD6/wQA+P8AAPn/AwACAPz////l////BgD5/wwACQASAA0AAAD4//n/BwAKAPz/9P/+//b/+v8BAP3/BgARAPP/7f/5/wMAAgAEAPv/AwAAAPf/9v////T/+//7////5v/4//j/+f///woABgAAAAQA/f/1//r//P/9//f/BwAUABEADAD5/xAA/v///wcABAAOAAEA+/8KAAwACgD0/wMAEwAPAAoA/v///w4ACgADAPP/8/8JAPr/AwD+/wQACwADAAoAAQALAA8A+v8FAAEADQAOAAEA//8WAAQA/f/v/+z/BwDy//P/CAAQAPf/7v8GAA8ACgAEAAYAAgDx/+7/6v/t//r/AgD+/wAACQAGAAUAAwANAAYADQD9//X//P8CAAIAAgD+//r/9v8IAPX/+//7//X/+//y/wUABAABAA4ABQAGAPj/8//v//3/AwD8/wcACQDw//3/AgD+//7//P////3/AAABAAYA9v/7/wMA9f8AAP3/EQAFAPT/DgD5//n/9v/4//r//v8CAPj///8CAAYAAAD2//X//f/+/wQABAAMAPr/9f8GAPn/8f/4/+H/7/8FAP7/AQABAAEACQABAPr/+f/z//b/CAAFAP3/7//7/wwAAAAXABAADwAIABgAEADt/+f/AQAHAAkAJQAYABEADgAOAA4ACgD2//3/AAACAOr/+/8BAPf/DgD1////BAABAAsAAwAGAP//AgANAP3/CwD5//7/BgAJAPz/CQAIAPz/BwACAP//BQDy///////6/wMA8f/4//3/BQD5/+//9v/1//P/8v8CAPT//f8EAAQABwD//wMA+f/1/wcA9//4//H/+v/z/wQA8f/0/////f8IAAkA/P/8/wQA/P/1/wUA+f8GABYA9//+/wcA8v8CAAMABQAJAPL/8P/3/wgADAD6/+7/EgAbAAsAAwALABAA//8AAAoAFQADAOD/6f/2//7/AQD6/9r/9//7/wIA7P/4//z/7/8GAAMABgDz/w8ADQD3//H/5v8DAP3//f8SAP//CQAHAAIA/f8UAA0ABwAHAP7/CQACAO//+f/v/+b/9v/v/////f/+/w4ABgADAAEA8v8FAP//DgAGAPv/BgDr//L/8v/5//////8FAAUA8f/0//r/9//4/wEA8//4/+//8v////7/+f///w4AAQAIAAoABQD+//b/BwDy//L/+v8CAP3/9v/+//T/+f/7//f/CAAIAAIA//8BAAsABwADAPf/7f/2//b/3P/s/wcADAAKAAAA+P8TAA8ACwD+/wYAFgD1/+z/BQAJAAEA+v/6//7/BwADAAMADgACABkAAgAOAB0A+/8JACEAFwD7//7/AwAOAAQA7f/9/wkAAAAKAAgACgDq//P/+//0/wwA+v8EAAYAAQAOAPb/AAAAAPX/+//8//n/9//0////BQAEAP//CAD6/xEABgACAAwAAwALAP7/+/8KAP3/AwD6/wIA+//7/wMA8P/1//b/9//8//r/CAAFAAEA9f/y/wYA//8FAP///P/3//3/+v/9//3//P8AAAQAFwD7/wgA9//o/wkABwAGAPj//P8RAP3////9//z/CAAcAAoA8v/n//v/6f/k//T//v/5/wQABwD3/xAADQAHABcAAwABAAoA7P/v/+X/9f8KAA4ADwD8/xcAGAAIACEAFwD+/wAAFAARAO3/8/8AAAMA///+/wcACgD6/wIA+//q//P/8/8AAPn/+f8DAAUAEwAKAPj/9f8PAAoADAD5//X/+f/6//3/+/8SABUABQAIAPn/8v8IAP7/AgAHAAAA9P/3////CgAJAA4AAgAKAPz/9f/6//r/9P/v//z/+v8KAPn/9P8LAPr///8EAP7/AwAKAPT/+v8DAPr/AwAIAPr/CQD9/wUABAADAP///v8KAP//9P/z/////f8IABgA/v8SABsABQD3/97/4//o//z/3v/s//T/3v/W/+T/9v/p/9L/7/8MAAcACgDz/w0AFgDy/wQAAAAGAOr/8/8HAPr/DgARAPr/EwDz//b/CAAGAAgAAwD2//v/AQAWAPP/+f/1/wIA/f/z//3/9f8IAAYA8P8HAOz////8//D/CwD6/wEAAwD8/wcAAAD5/xMABAADAAUA7/8KAAcABgAPAAcAAAD+/////f/7//v/CQAEAPP/8////wAA9v8AAPn/AQD6/wMA///w/wAA/P8EABQA/f8AAA0AAwACAAoACAAQAAYA///8/wEABgANAPz/CQAFAAIAAAAEAP7/AAAeABgABwADAAcABAACAN//4P/v/wAADAAUABgA8/8IAAkA/f/z/+j/BgAAAA4A/f/+/wwABAD5//n/DQD7/wwACQD+//z/6//v//j////v/+D/8f/s/wYAEgAEABcA7v/+/wQA7P/1//L/FAANAP7/CADx/wAA9v/2/wQA+P8BAAcAAQALAPf/9v/8/wMACgABAAQACwD+//P/BQD+//X//v8BAAMA9f/6/woACAALAAEA+f/j/wEA+f/3/wQACAD///z/BQAJAAEADQAEAPz/+/8EAPn/+v/6//f/+v/z//j///8FAAUAAAAIAAoABgD///z/BwAOABgADAAMAAgA9f8GANz/2f/h/+X//f/2/w8ABAAgACAAJAAdAAgA7/////T/EAAFAPb/AQALAAUA8f/0//T/7/8MABEADwACAAYA+v/o//3//f8NAAEABQAIAPz/BwDx//H/9v/w/wMACgAHAAgACgAGAAYA+P/r//H/+P8AAAYABwALAAcAAQAAAP7/+/8BAPr/7f/3//L/AwAOAPf/DwAMAAUABgAEAPz//P/v/wAADgD4//b/BgAKABAACAAKAAYABgALAP7/CAAAAPj/AgDx////EAD5//v/8P/y//X/9//x//X/BAALAAwAAQABAAIABwANAPX/+/8EAPX/9P/w//v/FAAOAAkA+f8VAAYAAAAZAP3/BgD5//b/9v///xEAFgAXABEABwD3/+b/9f/x//X/9v8GABgA/f/4//7/DwANAPf/+f/5/+3/9f8BAAQAAwD///z/CwAKAAUA+f/7/wUAAQD5//z/+/8BAAEA9f/v//n///8AAAIA/v8DAA0ABgALAAEA+//3//z/8f/7/wAA/P8DAPj/CgAIAAgAAAD9//r/+f/+/97/7//4//H/AAD1//f/9/8BAAYACQANAAoADQAPAAgACwANAAcA/f8BAPX//P/5/wIABAACAAIAAAD4//X/9f/7/+T/+//v/+z/BgAEAAkACgADAAEABwD///H//P/j/+f//P/t/wAA+P/y//n/8P/3//3/4f/u/wAACAACAAcADgAJAAIA5f/p//7/EQALAAcAIgATAAMABgAFAAkAEwAVAA0A9f8XABYA9//y//P//f/x/+7/9v8DAAEA//8JAAIAFQAMAPj/BwD8//b/+v/2//z/9f/w/+v/AgAAAAgADAAFAA0A9v8BAPz//v8KAP//CQAEAAQA+f/7//X/BAANAAUA+//5//3/BADr/+j/+f/7/wUAAwAMAAsABwAHAAsADQD8//z/AwD/////AwAEAAkA/f/8//v/+P/1/wUACwAEAP3/AgAIAPf/AAAEAPr/+v/2/wIA+//3//L/9f8DAP7/CAARAAMA9P/z/wEA+P/4/xYAFAAPAAkAFwAFAPP//P/t//L/5//s////+v8HAP//+v8UAP3/6v/u/+3/3f/m/w4ACgAJAPv//f8JAAMA6P/3//z/8//z//f/+/8FABUAAAABAAMA/f8DAAcAGQD9/wEAAgDt/wMAAgD+/wcA/P8HAPr/+v8DAPz/BgACAAsABQADAAsA/v8IAPz///8HAAAAAAD8/wUA+f8GAAEA+/8DAO3/8v/9/+3/AAD9/+z//v/7//z/AgD1//r//v8DAA8A/v8EAAUAIAAMAAoAAwDp/wAAAAD8/wwAAgACAPL/7P/y//L/7P///woA7v8BAAkAEwAnAAgA/v/1/wgA9f/p//f/BQD+/+j/9f8GAP//BAD2//7/DgAEAP3/AAAEAA0A/f8DAA4ACwAIABUAEAAAAAkAEAAEAAAA8/8IAAMA/P/3/w8ABAD8/wYA7P8CAPb/+P8CAPb/CQAAAPn//P8FAPz/9P8EAAkADAAAAAIAAgANAAQA+//7//n/9f/2//X/+v/6/wgAAQANAAkA/f8KAPj/+//9//n/+//3//z/AAD2//b/9P/z/+f/7f/y//f/DgAJAAYADwAFAAoACAD+/wYAAgAFAP//5v8BAPj/AgAQAP//AgAGAPr/AgACAP3/8f/6/wEABwADAP3/DAAWAAcA8//u/wwA+v/o/wQABgAHAPH/DgALAAkA///0/woABwD4/+f/8P8LAPb/9v8LAAYAFAD6/woADQDy//L/CQD+//z/AgAHAAUABAD7//r/+f/9//j/9//5/wQACQD+/+r/7//4//z/BgDz/wQA+P/4/wIA+/8AAOz/9//5/wEABwAGAAIAAQAQAA0ABQAOAPr//P/4//j//P/9//f//f/8//T/AQAIAAgACAAKAAIA/P8MAAkA/f8CAP7//v8HAAAACQABAAMA/P/6//z/7/8AAPn/BQD5////CQABAAoACADz//P/8v/9//P/9//8/w8AGgD//wAA7P8GABcA+//9//H/+v8DABIAAgASACIAAwD0/wEACgD0/+z/1v/r/w8AEQASAAEACwARAP//9P/y/wQA/P8HAAgAAAAEAPf/8v8IAPj/DQAQAAMADgD//wsA//8FAAEAEwAHAAcABQD5//f////3//v/9P8CAAEABgAGAAAABQD6/wcABQAQAAgABQACAPv/8f/w//H/+P/1/////P/8/xQADAD0//H/9v/w//T/AgD4/wIABQD4//H////8/xcAFAD9/wEA+v/6////6//+//r///8KAAMACAD8////DAAIAAIA+v/3//r/BgAIAPf/AgD+/woADQAAAAEA9f/x/w8ACwDq//z/FQAHAPv/+P/4/wgABwDv/xAACQD6//b/9v////r/8//3//P/AQDv//j/+f8IAAwA+v8KAOX/4f/4/+T/8P/+/wAAAAAAAAMAEwAWAAEABQD5//P/+v/8//z/+/8aAA8ADQACAP3//f/0/wMABQD8/xEABQAWAAsACgADAPr/CQAAAP//BwAEAAMAAwAAAPj/9f/9//b/AwAIAAMAAwD1//L///8FAP//CwD7//r//f8FAAUA/f/5/wQABQD+/+///f8GAAMA+/8CAA4ABgACAA0ACgAAAAQABAAGAPP/+//z//v/AQD4/w0ACgABAAMA8f8PAAMA9P/7//v/DwD7//7/BAAJAAAA8f///wAAAAAEAAAAFQD3/wwA6//5//3/5v/3//H//f8AAAMAGQAHABAADQARAPv/7v8JAP//+v/0//j/EgD1//v/+f8PAAgA7/8BAAAA8f/5//7//f8HAPv/EAAOAAcACAD+/wYADAD9//v/9P8EAP7///8IAP7/AwD8//3/AwABAAMACgAAAPv/9f/5//7/+//w//j/9//+/xAA/P/5//n//f8WAAwABwACAPf/9v/q//r/9v/y/wAAAwAJAAUACgD7//3/+/8BAAoA/P/4//z/9//8//3/8v/1//7/AAD6//X/9P8GAAQABgAJAPb/6P8DAAQA9v/s//D/AgAVAPn/AQAHAP3/9v/+/wgA/v/t/+7/+/8HAAEA+P///xgAHQAHAA4ACwAdAAoA9f/4/wcA/P8FABIABgAKAPv/AQAGAPb/CgD4/xQACAAAAP7/9/8DAP7/+v/+/wAABwAEAP7/+f8CAAMA///8/wEADAALAAMAAAD7//r/6f8OAA0A9P8FAAAA+/8GAPP/BwACAAEA9//y////AQD5//n/9f/5/+r/9/8TAAsABwAAAAEABQD7//X/6P8CAPf/AwAFAPP/AQABAPr//v8TAAcABQD9//X///8JAAcAGwAFAPf/9f/7/+b/8//7//n/+//I/9L/HQAzABMA5f/9/y0AAgDp/wAAJQAvAPr/8f/9/wcA8P/k//3/DAAFAM//2P/7/w0A///o/wQAGwAEAAgABQACAAQAAwD+//v///8GAAkAFgD9//3/FAASAAYA9f/2/xIA+//n/+7/AwACANL/wP/2/ysAIADt//7/NQA6APz/4/8YAD4AHADj/+v/AgD4/9z/2v/6/wQA5f/g/+7/CwAEAPn///8GABUAAwDy//3//v8MAP7/CAACABYAEAAFAP//7P/3/wkA+P/4//b/AADQ/8r/9v8fACkABAD//xYAHAAKAPr/KABHADAA+v/q//n/8P/G/87//f8AANj/zP/n/wIACwAlADEAHQADAOb/9/8QABsADAD4/+j/yv/n/xAAHgAMAAYA+f/V/9//EwA1AC0A4P/L/+D/3v/t/xoARgAMAOT/EAA3ADQA/f8AAB8ABwD4//L/9//m/+L/8//H/8T/4/8EACIAJwAbAPL/4P/u/xAAJwAfACoAHwDs/9P/9v9AAEoAGQD6/8n/ef9y/8n/VQCaAI8AQgD8/9D/w//M/8L/yf/W/7D/j/+X/+L/VgBbAEQAawBtAF0AFgDz/97/xv/C/+T/7f/a//P/CwAeAA4A+P87AFgAIgDV/63/u/+u/6f/0/9EAIkAWwD0/57/kv/S/wkAKgBDAFEAFwCi/6n/CABlAH0AYAAtAOH/cf9U/63/AQAPACgAHAD1/9T/6f8mADwARgA0ABIAHADR/1j/Pv+Z/z8AlAB7AEUAPAAfAOT/zv8eAGwAdAAuAK7/Y/9m/4z/7v8eACcAOwBUAEQA3/97/3v/7P9CADAADgAgAC0A7P99/2n/pP8SAE4AbgCUAFMAzP+I/9z/UACLALwAfADF/w3/Hf/A/0gAPwAQAAgA2f+7/8r/9P8WAC0AHAAyADwAFQDF/53/nP/M/xAASwBVAH8AkgA4AKH/nv8UAFkAcAA9AKn/If8d/3n/BgChADwBWQEgAJT+gf6q/3kAdgB/ALUAGQAX//j+DwC0AJMAeABUAOb/P/8d/43/2P8TAHsA8gC1AOr/Z/+U/zYAXADJ/zr/kf9SAMcAHgBM/3//FgCrAOEAsQBLAHD/+P4W/23/GAAVAV4BaAAp//r+9f/sAMUASQDe/4T/5P7R/rz/AgGIAY8AnP9e/+H/gwClAI4AMwDk/07/uP6j/m3/rACWAVEB9v/0/kj/XQD7AMwAUgDR/0f/lv5Y/kb/wwCkARoBw/9D/6z/WACSAF0AiwB/AAgAKP9M/lX+R/+nAJ8BdwE8ABb/Kv/q/6oA2QCcAG8A8/8b/z/+Q/6T/zoByAEPAc3/Pv9///X/gQDcANUAZAD7/w//7f3j/Rv/4QDjAXwBOAAx/yX/HQAZAV0BEgEyAE3/xf7c/nH/2/9TAJsAbADl/1f/SP/t/0kARwDm/wEAhAA+AI3/e/8KALoAKQHnAP7/PP/9/qD/FgAxACcAuf8i/xz/cv/V/2AACAE0ATAAZP+u/0cA1AD6AJsAuP/k/uv+jf/4/xsAyv9U/17/jv/3/6AAFwH0ADIAkf++/10ArQCMADEA1/+n/5z/kf+K/3r/bv9j/5n/MwC/AOAAKwB0/93/ogBbAWUBmgCD/7D+x/6l/zwAPgDr/5j/Q/83/4P/UgB3AZIBdABr/3z/MACNAIgAawBTACwAuf8E/1X+eP4kAKwBaAFuAIH/1f4J/x8AnQH6AfgAzv+T/kz+L/8XAIIAZwC+AKMAzv7R/eb/NQF1ARsCNgCx/mL/EwB/AE0AiAB3AMX/q/+Q/3D+yv2U/7QBqAF5AHH/tf7n/l4ArgHIATwBLQB3/hn+IP8+ALQAfgDn/zz/4/7n/qH/hgB8Aa8BVABq/3f/HwDMAP4AgADR/3D/B/+U/oP+HP8lADUBegF2ACD/wP7G/40BHQJgAVAA9v6G/tf+mv91AHkAEgCJ/yb/Vv/4/6QAowBMAEAAmgBkACP/bP7Z/xQB3gB7AKP/Q/++/2gADgGTANL/sf8//xX/kf+4/7v///8qAPv/m/+2/5sAAAG7AGgAW/+S/w8B8QBz/wz+m/7y/y8A4gAEAWv/nv7L/wEBNAHyAK4AEgAu/xj+2v3f/7cBrAFSAAH/+/5m/4gACQLKAWcAMP+Z/jT+r/45AF8BRQEnAAv/Zf9rACMBWAH5AFMATv/Y/vD+ev6A/q7/MgGAAbEA0P8p/57/3wAJArsBTwDb/4z/mv7Q/Sr+lP/eALYBNwFM/33+WP9oAPoBqQIFAU//Of5M/pn+yP6DANcBeQG3/8r+Y/8nAF0BoAElAW8AYf8M/4r+J/5o/p3/kgGkATIAWP8j/3z/xgAoAiwC1AC0//r+a/5f/sL+Vv/J/54AbQHBAFn/iv+KABsBUwEBAZIACQCO/+P+jf6m/pv+d//LAFwBqwCK/33/eP87APsBOAIjAXP/WP5L/oL+oP/J/5n/bgCoADUAjf9NAIEB9AC9AMAAt//H/uT+C//5/nf/lv84/wMAlwGmAdn/V/+xAPEAyQAtAaYA1v9S///+jP48/k7/ggA/ASEBvf8c/3P/GABrAQECNwHg/4H+m/79/t3+dP8TAJAACQFYADX/GgB3AY4AVQAtAXUAMf/m/lz/lf72/fj/JQHRAEQA9v8/AHv/UQB0AtkBDgC//p7+kf4f/kn/UgCoAN8ACQB9/5UA6AB5AEoBfQHw/6j+2f6o/vn9yP54AEgBOwDE/40ATgCa/xUB2QISASP/Jf/L/hD+TP6QAIABTQBp/7H/kAAAAGgAbQLnAaP/+f5n/3b+V/1b/2QBjQB1/9//3AAAABj/xwEcA5IAS/9P/xr/u/1K/Z4A1AFGAGH/iP/sAMj/Kv/eAuACiv8t/67/rP7N/N7+1gGqAGP/bf+MAIQAAP/vALsC2QAGAIsAWv/E/HT9NQHbAPf+GQDNAOMA1f7N/tkCuwL3/5z/FQAS/+n89P02Ae4A6/92/13/ZgHRALH/zwFKAv3/W/4F/2v+N/3u/zcCGgDj/SEA+QGp/t//7gP1ADv/OAGcABT93/sGAQoCev63/0IAGQDN/z/+AwLFAz8AyP82ABwAC/5D/BYBfgLP/0b/9/5MASEBWv+GAcIBTgA5/2j/Rv/O/OL+hgJ0AJr90/4/ApIA4P0XA4wD8f1G/6YBfv8S/J3+agO9ACf9Y/4BAnEAe/7WAmYCZf/p/44A1P7f+23/BgOCACD+E/7nAbQApP2FA8YC6P0zAIwBpv9D+4v9lwQEAeX8wv6bAJcA3P2bAe4E7P4b/lUBrQDU/LX8lQOeAnH93v0KAfIBO/7RAHsDlf8X/zv/OP+e/sH+qgJvAC78BwAXAjD+qwA6BM3/GP/qAM4A2v0T+xACHgRw/qH94/6wAaj/bP4qBUoC1/zp/zsBEf9V/CEAYQSm/ur71AATAqH+iwACBHUArf50/v3+MACs/pQC2wFw+2D/sQKc/eX/8gRAALP+5ADIAHv+7/rLAZcFhv6+/D7/5QEI/0j+lAXpAXH8/f/WAM/+ZP0kApADHPwZ/fECrwAA/lcCaAJv/0X/rv1ZAF4B5v9rAl3+L/w/ApL/Vf7IBCYBzP1o/+7/gQCe+2b/ywVa/zD85P6/AUD/Jf6sBc4AkfvrAIv/Dv8TAJEC8QH8+v7/wgJl/Q0BbANgAG//L/5Y/t//tf98AokBv/sl/zICPv06Ae8EMf/G/tr/OwD4/Q78lASOBHX72/zSApUAXvvJAtwFI/wU/p0BKP/r/c4AVAZx/TP6xwNVAEb8XgN7A7f9Gv+dAFb/fvy3AEYGwf5E+zABxAK3/EQBhAeK/Zv8rQGIANX8W/wkB2wD9Pfi/nIEMf5Q/K8FGQO6+X3//gHz/hL/NgOCApD6igBdAyP8EgGZA+v/cP8a/bT+3QL3AKQAff+z/G0BRf/3/AEF3QHY/XsAEf8Q/n39/gGsBJX+p/uRAEACn/s2ATMHr/3U/F4BwwAR/JX85AdOAzT43P7bBKb9FvzfBtUClfmH/0wCS/9q/a8ElQPD904BDwT2+psBBASs/i/+zQFuATD74v46ByUBo/ns/5YEUfyP/dgHYgCN+sz/QwFHAKz+6gMNANb61wN8/ln9ywTW/wf+0v78APr93PycBmwCK/m5/o8FpPxG+zAIVgLX+vv/kgE1/Uv85wZdBTv48/1YBi38zfqvB3MDu/qi/30Bcf0h/fQEgQSH+Dr/ZAba+iz9PQdBASb7BACvAZj88/2QBrkD+fhW/8gFXfst/TkIJQKy+7P/kwBj/SD/GgZMAiH5ZAD3BP35G/4bCEYA1vsL/40A7f5Z/1QF//5z+soDTwAV+80D1QPz/Mb+eQFx/ar6nATPB5P7kfvABRYC1/eTAccIyfyA+2gA4QBr/sEAxAS6+kP90gQu/JP+DQW7ADz9qQAGAu/6/vyOB1IE0/kn/eMGEv9l90IG+gY3+pb8ygC5AOb9QQMyA9P40QBPAxf8qgHTA0f/E/6sAWX/+fiiAU8J/v6C+C8CwgVh+NL81wryAIb6J//4AOL+XP5mBsIAtfkNBFUBdPtHA1EDZP1q/o8C+v2J+SUDhwd5/yP5TQF5Buz2jvzqCir//vnB/jsCpv4a/WkHDAHq+MIBvQK++1YAdwX9/YD93AE0/q/7iAH2Buz/rvmRAXQFkfgq/e4K7f6I+ej/MwLN/jf9awc4AEz49QJFAhj8tAFFBdL9ef0XAY392P3IAucEev62+W8EBANx90kFWQiC+tX74ABCAkX9bAIyBjb64f0FBaD+g/53AxwAFv6jAD78bPpzA78Ihv2N+TcG6QGq92kB9wjY/oP5qwBGAqX9l/92Bqv/oPkTA7EBB/znAh4Def0sAEIAE/tI/Y8HmgXp9wX9zQdM/c34xwZTBnL6O/xlAjIAc/weAx4FCvoL/vYEF/0p/s8EuP8H/u4BLv37+uwCxgid/Vr4GQebAj324ADkCHr+lPkwAFcCn/00/6UGN/7/+dkEPwAk/CAEjQGM/dEBfv+R+eX+VQkxBNz2w/8BCVX5P/vPCUEClfrQ/QQCIP90/PUFigNs+GoANwQL/MD/mQT4/nf+qQHu+376xARYCbX86ffABzACl/UzBDMIDf0s+wYBVQLO+4MBpgc0/J37xQRs/y79MwRkAf79kgGQ/iX5TgAYCngAa/WyA30I+fff/UIKbwBL+T7+zwJr/ir98AYnAf73ZQJ/A/b7BwJiBP39Bf9IALf8b/4JBfwEqPob+1kI8P/Z9hcHmAX5+Nj8/AFFAYf8ewT0BCD3VwA5BTH8iACsA1j/Z/5U/8z8bv6GBXQEe/uq+yoHDwAA9wEHmwXy+Fb87wA8AiH9ywKzBBX4vwAHBPz7bwJcAl3/igCX/XP8eAANBvkCdvqp/oMH3/ub+a8J7QGx+Wv+EAFpAX78RAVEBO73CAKzA1v8vgHCAhb/Z//3/fn75gBcBqQBHPr4/yAHF/ut/DQLof/P+E/+sQE4AQf8+wVUAbj3SgShAWb8LwPMAc7+mf44/ST+ygJtBZr/vPqFApgE1vibADsJQ/w2+5X/sAGc/zj/Fwfx+yf7TAYZ/kL+2QMeAZ3+N/7B/Nz88QRQBTX94vuUA6AC/Pa9AbcIC/vW+8L/AQLH/hH+4gfp+0X76AbT/YP+zAPxAP/+O/2++xT//wV5Ap37nv4HBc7+fPhBBucE/fhQ/TMApwJ4/Q4BPAfZ+GL/DwYh/PgAtwNVALX+4/s9/CsC9QXB/6v7gAFDBFH7Q/01CQcAzPma/kEA/AGu/ZcEKAP49zwD0AKx++wBtAKrAIj9Q/x1/eEDCQbP/Jn9gQMaAZH6cAAzCIz9XvvA/7z/RAA3/5AFwv6y+VEF2v97/MQDwwJE/5D9Qvw3/WQFPQSV+wb/+AL0/4D6KwH0B9r7L/thAL//+v9Z/1EGvP7B+YEFJP9p+y0E6wLf/dr8jfzZ/gUGDwMZ/IH/rAKb/+P6aQNDBxr7h/z8/woAvP+Y/2sGXfw/+08Gbv0z/XkEJQJY/rH8bfwC/2wGmwIK/KoADwPu/mX6JwQlBrT5T/08ADsAt//z/6oGm/v++1QGnfxW/gME4ACn/nz8lPw5AJwG0gA5+wEBkAIc/av7zwa3A4X5s/4kANkA4/5pASwFifni/94EXvpPAfUDaf9o/vj77fysAmgG9/0w/D4D5gFJ+3v+sgiY/6v5/f9oAMgAv/5sBPoBzfh3A5sBL/sCBMcC9f4P/kr77P3vBIYESvwB/lEENQCG+rgCUAfR+7X7kQCiANT/YP94Bdj8dvu4Bh39hf1uBUgAaf54/cX7QwCHBukBtvoMAIkEK/0L+6UGbwR++a79sgCVAT//YAADBQn61P45Bbv6MQGDBIn/i/8f/Dj8XwMZBvr9A/zTApcCrfoJ/n8IM/88+cT+CgAxAcL+SQWTBFz7NgP1/k34PgHQAL7+p/+7/Jb/3AdkBSX7r/34BHf+F/hvBLYG2Pl9/CYAcQGxAMv+0AU1/fr7fgah/DT+EgVq/5//vv3T+vsA6gZiAAv6ugFYBZH7vfz/CLwBnfhn/qX/zADU/7cB+QMb+oYAwgM6+tMC5wOG/T3/YvxQ/GwEAQYf/Y37JwTxAcv4DgECCaT9jvra/9T/YQF4/zMDXgC2+VMFdgAw+wMG/ABZ/Xr+Lfu9/1oGRgJC+3f/dwQT/rn5NgU+BvL4cfzDAM8AogB0/w0Emfu3/XAFEPs9AdMFqP0h/478cPwnBMIE2f0Q/L4DagLo+E//3Aig/nz5Rf+eAA4C0v+vAm0AhfpcBLz/YvtGBhcBAP1g/hP7nQH1BasAqvyd/6EE9/x1+t4HUgTL+QX9f/9pAtn/QABPBNn6NAB0BGr64AJfBWz9h/7Q+3n+kQXnAZb9X/4QA9oB4vgoAacI0PtT+xcA9ADTAS3+5gNR/mP75wX0/Nz94gau/9n9Jv35+24EOQWE/TH9BQLVApX6iv0PCYr/oPnD/jQANQNF/6EARQGp+zMDmf8k/CoGxwB5/bP+kvqmARwHgP9B+6gARwTw+3f6HgiQAzf5uP0h/60CFQGY/1ECnfuLAWUCEPusBEQDKv02/zL7xv7uBksCpvuv/vAE+P51+BwF6QZ6+i386v6kAd8CGP9JAkf+9P7sA9n7JwFUBYL9pf5d/NP83AXeAyL8Ef7TBD0BWPkdAQkIxf2v+qT+QQAiA/T+VgBlAPT9sQPW/Db/wgYY/u79gf3++1YEtgSV/Vz9YgKTArr6i/0iCIL/kPly/mn/LwNUAAsAOwFN/S4Dx/7n/L0GnADk+zH9F/1kA3UD3/4B//v/+gLr/Tz7swaRAqH5T/2JAJ8DAgADALUB0PxzAkgAl/u1BbwCzPvk/Mb9iQPhAkn/9v/B/jcCC/8y+2gGEwSr+Q39VgARA78Awv//AUX8BAK9AXz6qwVlBPz6f/xl/XwCYwMd/73/B//EARAAKvuIBUgFQfq4/NX/tgJTAVX/QwKg/HMAFwNX+uoCSgW2+y/8Av1qAcADhf+n/8n+RgFGASr6NwMyB5f6tvuj/2oBLwLJ/68CK/0k/xgEtvrsAf0G6/wv/Qr+6v/BA+kAPgDE/oQAZAK7+pUBJAib/CD7Kv9yAXgC4f6eAYj+c/1iBBH8j/4OCFz+6fvp/bL+aATCAW7/c//U//AC2vt2/oAIJ/8t+mX+VwDHAsn/2wDl/139NgPf/U39KQecADv7nP1W/psDdQI3/93/6v5jAq39Efz0BvkBCfqG/ez/gAKoACkA+AAo/f8Bx/8i/I4GQgOE+xn9pP2GAjMDPv8hAAsA6QEi/xv7+ATbBGL6ufz0/wsCwwF2/xAB0f31ABYBvfpRBIEF4Ps8/Iv9NQGOA5X/pv/j/z0BpABa+5sDrAbU+y38a/+5AfkBOP/6AFv+KQDhAVz7rQHUBWr93/si/Z0AWQQZAAf/9f/iAEkBGPsWAXIHoPyh+y7/bADVAnT/gQDO/kj/qQLX+1oArQZp/nj7FP1W/1oEewG//gMAXQC2Ac/7b/7TBwT/1foX/+r/9AKCAFAAgP/s/QkDMf24/f8GyABe++r8+f4vAzkCIv+2/yYA6wGM/Qj84gZAAjL6kP4QAE8CwgB/AG8AIv2aAor/p/siBb0DAvxI/JH+SAKhAjT/ev8H/4ABqf+N+qQECwXg+qb97v+xAVEByv/zAPX8sgC/AQ37igK1BSP9LfxI/jsBTQPA/4L/M/87AHkB2fqeAVEHe/xs/JD/0wCuAar/XwGP/UP/zALZ+1oApAYS/8j73f11AJsDeQA9/33/W/9gAQb8ogCGB/n95fsC/3AAnwLj/5sAo/5J/vUCH/wz/tQHWwBE+yn+EAAuA6AAAf+A/8H+UgJZ/RL+zAcMANT6pv7z/x8CKACwAG3/b/06A+n9lvttB70Ct/rL/ev/DgPnAJ3/UwAL/hgClv4N/FAGkALC+hX+EwAMAgQBOQALAMv98AIx/1D7XQbiA9j6H/38/y4CnwEVAJb/5f02Apn/dfv+BfEDMPvr/bH/ZgE1AQoAmf9m/dcB9/+f+jIEBQXm+0391//pAEQBiwDA/7r97QFgAKz64ANtBR78Uf2k/5UAZQGNABQATP1sAdEB0fpPA6wGYPxW/Gz/PgCJAbUAMwCc/Y4AGwJE+mwBcgf8/OD7q/9YAK0ByQBTAJL9/P8UA3T7lwBECHP+Ovtu/4QAQgGhAHsAHv6d/70C5vsP/4IHeP8G+87+0wDnAXgAhgC4/vn+nwI6/Bn+zQdXAL36pv7lADcCYAAuANL+Xv98AgX8w/4KB6j/DPuW/uYASwKkAJH/9/60AAICaPsFAEcHzv4Z/NX+kgB3AmAAaP8P/hsBwgFn+u4A1AY0/k38aP5qAFkCPQAz/+j9YAFZAdP5eQHdBsb90Pxe/kYA4gJ7AGX/Iv5xAY0Bn/liATUHx/3i/C/+HQD3AkcAqf8b/kABsQGp+XQBawfI/eD8NP4cABMDRgAHAOX99wBfAvD5WAGrB1j+bPwZ/icA4wJjAGr/PP4dARsCPPrdAMwHev4s/AP+EADLAmAAPv/w/YUBAgLA+TcBpQdD/kr8CP4ZAAEDpQCe/t39fwKlAZH5jgErB+P9NP1k/8r/vAKWAFH+1P1GAkABr/mYAxkHuvwJ/hL/lv/TAl8AUv4H/vkCNQGN+d8DlAbI/GT+Zv4fAMQDjf8L/ub+JwLIAOb5VQPeBhX95v1f/hwAJQPO/6H+cv5gAicBg/nhAh4HhP2T/Ur+NABLA5P/Gv7b/jACUgCE+WED6AYN/ez9Wf4fACwDt/9G/ub+NgOKAGP5ewODBgL9xv1y/icBTANN/vH9/v7mAhr/F/qeBv4Ev/u7/gj+TAFEA0P+4f2y/94DVv7z+WYGJQNc++P+Nv7FAtYCxvyE/UMBpwNi+5r8PAir/3P7j//n/vMDQQGa/KP96wI7Aqv3FQErCHn8DP2x/lgAsATF/p78Bv8bBHL/wPeqBWAF2Ppf/rr9wAJDBOf8nP2yAFgEA/wu/CQJgQBg+z3+8v4LBd0AYfzT/vQC9QGP+CIBBAgO/eL8/v0JAVMFbP7u/Mz/IATr/pn5YwezA7P6T/4w/nME1gLh/L792QAJBMr5Cf37COz+GPyK/uL/XQVc/6z85f5HAwwCwfgbBM0GbPu3/QH+4AKjBE79N/3e/2IE4PwB+uYHpAE++6D+wf5SBUYBUvyF/iQCpgI9+DUBZghf/Gz9Mf4QAooFzP04/fD+OwQ//0X5lgegA9n6RP45/sAE4wJ8/Qn+igAlBKj5JP3jCEH+Ifxe/hgAzQWE/wT+Uf7EAvwCnPe5BGUHZvqR/az9vwPgAxv9Bf8X/zIEmPw7+TwIAQHw+rD+PP8ABvsAwv2a/noAUQTS+BEARAlJ/LP8r/0VAYgFT/5e/jD+8wKFAFn3xAX5BHD6n/6W/asDzgPW/fr+PP/dBKr8CvuQCBAAgPtU/p/+vgSBACf+Lv60/yIFyfmF/e0I0f2l/CP+///VBB//Qv9Y/kQBGQMr+JYBKgc4/NH98/3tAQEEWf6Q/wb9rAKJAXD4RwXdBKj7Vf5i/UYDoQJo/lz/a/1TBO/+fvp0Bs0BnPwG/kn+1QNzAd7+nf4S/k4Ek/1W+74GqgDL/C3+c/6HBOgA+v6C/pX+rwPb+xL90wYoAH792/3k/oUE6QA2/03+RP/iA4b7Kv7dBq7/uv2Y/Uj/JQR5ACj/Of4OAGUDWPu6/pQGqP+a/d79zf/NAzwAEv/F/SAATANu+9v+SgbB/3v9f/1c/xUErgAQ/93+MwDBAtD75/5RBjz/eP30/Q3/+wPNABb/Mf4yALEDLftP/hAHUf9p/Wj+eP6gAwsBS/9B/nT/nwPE+wL+YgYDAN79F/4//nkD/AEY//b9Mf/jAmL8DP3ZBcQA1f2H/u/9NwNiAhv/R/43/ykDUv1z/AwGwAFE/av+hP2XAoECS/+F/o/+rQME/t37LgZ0Amz9p/6U/U0C6gKC/7X+RP5UAxv/2vrFBGUDcv02/nb9bgHhApX/4v45/jkC1/8J+zwEeQRs/cP+Nv55ANICBAD3/sb9kwGwACH7hgPZBHD9q/4Q/vP/QAN2ADv/IP7aAKABdfv9AfQEgP2G/zL+vP6qA3UAz/4Q/uQA3gEr+0EBTgU2/m//O/6M/nEDpQDK/iD+CQEyAqT7HQEVBdL+bv/j/bX+0wPOAK399P0ZAnsBP/vaAaQEPf5w//L9Of8/BB4Arvwk/6MDiP+p+gYETQPV/Pn/3/39AKcDmP0W/akBSgNn+2D+eAaP/m/+6f9W/jwDTgBx/J3/vQPd/YD7KgaZAZX8mQC7/sMBqAEF/Wf+SwNzAFH6IwQBBe77Vf9U/wEB8wJH/fj8EwOJApf4Bf/OBvf8Hf5RAEX/JwTV/tv6ngFzBj78dfr/B0b/ovutAfn9sQPEAV/6Kf5qB2kAG/YcB9wEKfn+ABb+9gFkBMX6+fvEBe4Do/UgAhYJw/lY/5L/P/+4BbL8jvpQBNEFlvjA/RoKcvwA/Z0ACP0iBiUA+ffCAiAHFfgI/Y8LO/wo/HYCc/rPBBMGt/d/+7QJcgAW9fIHWQW/+AcEWP2V+5gJCf+69LQDigl09n75eQpp/ab8mQTc+A4AaQoe+2j20AhfBs3zgv88Ca36GADZAYb2rQRTCe/2IvdMCQ0DIvS0BVQH8fgJBTn/DPeHCVsIDPc1+qYLZgEv9WwIwQHT+DUIbfyj9CYG+wgu9wn2wgnNAiX0hAXzAwb3FAhA/6bwTARhDUX95PGwAjAJ8/YyAY8J0PewBO8Ik/O1/J0OHgac8zb7bwtN/Un2/Aj5/nT5OAzD/BXzqAeGDUj7HPO9BXsHGPX//zQLmvmXAooL8PRY9skKKg2x+e/0tgeZAQnz+gQiB5T3pQevBnPxOPveDTUJe/Xt+DILNAAn9ZAHwQHO9zIMPwT/8Zr+ZQ9SB0X1BQAxDdX7TPmfCo38k/gKC877XPC6AvEOFQEP9LsEUgdx9ML//gpD+JH+5Apa9n3w/QPDDan9zfErA/cIXPbu/PULe/r4+4ILWfmp8bUFtQ58/ojykAN3CZD2Rf0EDML6+vuHDaH9LvLDA/0PvQHU8jwBAwux+LP6PwxD/dH5xQzyADbwwvwJDmMGp/JL914JUv/w9vcKdgPr9h4K3gYh8rD3+wprB/nyRPQGCFMFmfSzAqwGmPRwA3gKq/T+8qIGJw1A+9HwvgE2CKL1Z/yJCyv6wPsfDYf96vG7A8YPygE/8Mz4FAns++P0HQjr/aH1OQqdAunvXflTDGsI7/Pd9JMIswXs9PAC3Qa79JEDiwq/9AvzwQaxDQT71fDHAQQL8/jh+msKjfnL+sQMAv3I7xj/Ow69Bij0e/RMCL0FnPQDA6sGxfR5A4kKtvQI86cGMQ05++Hw3wEHCxP51/piDGv92fnqDOkAsfErAR8PTAQC8kn2uQnVAoP0vQXtBz/2dwRFC7X1ovbHCn0M7PlD8O8AowqP+I36Igwv/cH5swztACLwzvyWDUEG1/JY92sKWwMm8+sB0giM9u4AUgyq92T0hgidDVb82+8b/jwL1Poq+G0L7P/i914LAATf8IX6hwuVCd345/TOB2wJQ/Ud/R0Lj/qY+zwNjf3p8T8DtQxIBfP0DfdxC5MDRvVmBjwIv/abBI8LAPam9YICIQcJB9r47PndDDoBkfM0BfoGGPa/A6MKKfY+9RUAvQqOBo3zP/sPDWwBiPbtCEoGn/ZWB6gIvvWv96b/OQYnB/P35PnjCkQAOvOsBCgKG/i1AaIL7fm19P/8Awo6CV/1UPkeDJYEGvTBAk4JhPiZBLMJU/qH+KD8jAOOB1P+l/nDBywDVPNo/k8LzP7z+hgJHgII9zv44f+lC6QCzfOkAcELlfhN920KMf/S+vsKOAHb+Nb7A/vbAuwICPzL+jkHKf9d9zoCVQti/ob7IglrAb72OvdlAgwNTf049LoG8QeT9EH8mgqF+uv7VwuCANj4Zftu/LoFwAbT+Hn9qAg//SP2BwfyCnb6OwBFCfv8jPXP+fgFYQmF+Uv4DQpcA7ryCAK9CAj6QwAnB2L/BfsM+hT8pgW2Boj5vvzLB4j+P/T7At0LkfoF/84KAv7z9Un6cQQoCcn8+fiYCecDevI5At8KZfsx/2EHv/8S/FP6vPn2BIwIp/qZ+0sH8v9U9rgB0glP/fb93QYSAU76Rvit/eoHIQUx9xn9tQkV+oz0QgiSBOr5GASPBO38v/yx+fH7fwlsBKL1UgJ5Cof57fjnCYADpPrFBCEDc/3u/Gn5UP2PCG4DW/ZxATIJd/lO+W8JDQNU+wsF3QJf/XX9o/pz/WcG1ARj+S3/QwdG+wP6yQZNBFX8OwJEBOL98PxO+4P8nQR7BYz6Yv2kB8f7k/kzBwoEefxNAp4Etvw5/Yv+8/qj/9YGlQCG+hcE4AGG+PQAjgYq/3D+bgUaADj7sAB1/Tn63AJWB/77QvwQBz7+QPl5BKIFh/wOAVwFdvyS/V4ALfqU/IEHGQNS+FMCWQUO+cb9wQfkAYv8YgTuAnD7Bv+2/aL6lQKxBzr8GfxTBzL9/vgZBcQEgfz7AN0FVP0y/SAA/vrd/H0F4QOx+l4BlgPr+WD/awVWAcr+FgRwA5T8Jf/M/n37gf0sA8sDb/1O/7cBVv7O/Y8BIgQP/0kAXQMC/gn+ov4G/NH9vQSMAjP72AIkAj35gACEBEP/AQC1A5oAvf09AB/+8vuI/sEBpgLD//T+oP9H/53/O/+JAggDHP9dAgUBb/0q/w/9aPx9ArQFrfyd/dIFmfyi+6QE7wF4/rkCrQPB/Q3/TwAG/F39nQCJApsAav+nAQj/A//rAF4AUwLIAAsBHwIH/pn+x/+J/Yj8sgBxBZL/d/3tAvb/9v2kAFQBLQJ5AKABqAEj/pD/cv7X+8r+3gRkAZj7YQOMArj69//OA7b/mP+3A1gCkP2m/z8ACv2u/Q//UgERAsz/Pf8kAHoAVP8A/yQDKgJ6/xcD0P/N/e7/K/4Q/GP/pwUiALH7xQMIAuT6tgASA7r/6P/gAowCz/ym/9kA4/x+/Uf/ugBBAWQA3f99AEb/9QAh/xIAzANR//cAUwHY/bb+ef+A/RT8RQJMBAX8vv4MBqz9ofyEAyUBfv9nAUADB/+m/QgBA//b/XP/cP/R/1oCgv8T/5gBMP/N/5P/cAH4ASX/5gFfAKD9LwDm/8j8If0AAt0D6f1L/iYFGf9s/M8CWwFP/2kAjwJVAF/+egAZ//3+zf4w/icA0wKf/8/9WAMLAAL+DwH6ADwBGwCsAdcAaP7y/03/tP5b/6b+w/4ZAWYBsP4lAKUBIv8JAK8AtgABAR8AoQEnAHL+k/96AGr/VP3I/j4B2QHI/dP/TgNj/Xz/DwK8/4YApgD+APX/tP/W/+/+Lv9i/8v+TP4WAXYB1P0/AEMCsv7j/wcBVgDpADIA+AC7/xb/3v9C/1cAYf+k/pb+ZwD8AZT+8/93ApP+4f97AXn/SgGLAEoAvgCV/6P/Wv8UAOX+Av5V/44BYABz/ecBagGA/T4BTQGM/0gBDAGkAJD/tP8fABL/QgANACT/Q/5k/6MBwf9//sMBlQCx/l4BawD3AKoAKwAYAe3+uv8UAGn/hv/o/8H/PP7I/sQAsACQ/uMASwHE/scApAA+ABYB8P+LAP7/X//+/0f/AgAOABL/Qv4K/18B4/+V/icCYgDj/ckBWgD9/5gBNAByAIf/u/++/1b/4P8gAD0Ap/6C/kYAtwEQ/9D+hQKr/3n+VgE4AX0ARgDnACgApv72/14At/+Y/0AAhAAm/4n+Qv9jAXIAfP43ATIBy/4xAP0ArwAvAHYAAAE7/3f/JgC//6D/uP+lAOz/Bf+1/sv/FwHo/zX/MwFKAAX/7AA+APMAywDg/7AAlP+l//b/zv91/yEAUADA/lv+Y/8iAXf/Jv8pAsX/AP/OAez/IgCMATwATgC+/7L/5//G/6n/o/9hAD3/N/67/rYApABi/ssAlQGS/lIAPwE3ABEBnwCCAK3/Y//h/6z/EwCC/+3/TgBS/9T+HP+JAOgAF/9rAIcBvP5CACEB9/8VAXgAYgAWAKH/8//M/8L/df9RACQAh/6T/ikAbwEE/3X/SQIT/yb/kwHA/2EA8wBlADYAqv/z/9n/7f/Z/7T/EADU//j+nP7K/yUB2v8s/5EBOgDz/vcAZABqALoAQABTAKv/y//U/9v/t/+P/xEA+f9N/73+SP/QAGcA5P4jAQMBoP63AMEA7v8ZAecAaQCp/57/y/+8/+D/2P/q/9f/TP+v/kv/nAB8AD7/iwAVAUn/UACjACsACgFHAFUAQQB4/9X/EAABAG3/cwBKAJj+bf6v/3UBUf8P/2cCGAC8/lsBqQAxAMkAvAAnAD3/+f/M/9H/8/+A/1MA6v/w/mT+X/9AAeL/3v6AAfUAEv+WAC0B7QAmAL0A3AAL/57/5//H/63/rf8qAMD/G//O/lb/kwB1ACb/sgAHAVP/bQDOAK8AzgAbAIMAsP9M/+j/1v90/6v/cwAa/xr+SP8xAff/df4SAiUBVP4hAUcBFQCzAP4AdABI/5X/DwDU/63/fv8tAND/sP7K/hQAKQGE/1n/rwE4ABr/1ADLAIkAVgCqAGsAG//J//X/hP+e/0kAAwBy/pv+VgD4AKb+EgBZAsr+1f/IAfX/mADQAJ8ACAB8/97/tv+o/1H/+f/T/5H+uv4SAPoAIf/U//cBt/+W//8AogCIAB4AuAAZABf/BADX/3j/wf9XAGX/OP49/9YABACo/twB2AA8/ncB4gAAAPIAXABGAKz/zf+9/0T/kP8hAJb/f/7R/o8AugBs/vMAMAJq/nwAzQHz/6sAxQCzAKH/l/93AEn/c/9VAOj/X/48/qIAAwEo/vb/5QIs/7T+twE2AQsAagCTAa3/yv54ANP/Hv/O/40AS/8S/pT/DgH4/9r+sQEeAcX+HQHTACYAhwCVAIAAQf/R/9D/bP/a/83/Sf9c/oL/IQHB///+xgHnAJr++AATAR8AggCZAFMAW//+/7H/UP90AHv/GP58/jwBHwHA/e8A8QJF/jL/ZAL+AGT/nwCdASn/Lf+VAFn/+f4XAGIAkf4V/gEACgEb/y7/JQLm//j+KwGaAKEAiADSAFcASf8yAOj/dv/8/zoAJv8U/oH/9AAz/8b+UAJoAJf+hwHyAGcAmwC9AFUAP/8nAOz/b/9EAAcAqP4Q/gkAeQGx/rX+vwKVAPz95AA2Avz/hv/NAVYAjf5oAGkA0/6O/5gA5/7m/XX/TAF+/67+TAJhAKX+IQGNAIkAhACiAIQAS/8RAMv/c/9NAAkAfP6w/YsA2gHm/Zz+YwMCAIj9/wElAlL/6P8pAsz/PP6wACYA1v62/6gAb/8+/iH/sgC0AL7+pACrAUf/6//vAJEAWwA2AGsAxP+I/9b/sP85ACMAm/68/RYAHwKI/l7+lQOFABn9wwGDAjn/kP8lAk0ANv64AJsApP6D/7MAPP8K/i7/NAF1AF/+TQGSAZv+cwDNAFEAjwB5APAAj/+f/x8AR/8iABQATv7N/UEAKQJb/iH+kgN8ANr81wHCAg//mv9SAikAHP6vAJgAj/6A/w8Bg//c/Qf/DQG/AGP+zAAQAt3+8f9PAe8AYAA/ADoBlP8q/y8ApP9G/9b/NwDM/kP+GgBDAV7/FP9CAlgAsP4vARYBOQAkABYBVQDd/g8A8f9Z/9n/GgAx/0H+pf87AZn/8v7xAXcA0P4+AQMBYgBJAIwAjQAE/+L/JgAY/+b/TAAp/879kv8IAsb/v/0LAiICff0HAAQDJwAN/68B7QAE/r3/sgDw/qT/kwDx/t/9HABsAcj+UP8+AiQAJ//PAFwBtQDH/wcBOQDz/uH/s//L//X/BAC0/jb+BwFLAVn+nv/OArT/BP71ASMC+P42AO0BQ/+9/m4Azf/w/gkAQQB4/rP+pQBVAOz+IAH9AC7/2wBXAGcAJwEJACcAGQCl/zf/PQB8AEv+NP5dAMUBhv6v/gEEbABW/UkCYQLr/h8AbAKn//z9wwAjAMz+AwBiAMj+S/6WANQAy/5ZAMIBYP8EACwBDQDRAIkAWwAuAHv/mf+W/4QApP8M/vf+egH6AFH9DgFFAzj9C/8vAyUAzv6OAacBbf5i/0sBGf9V/7wAZ/85/oH/EwFK/4n/AALG/23/BQHt/4EAkQA7AEcAeP+T//D/UgAx/0j+w/8yAbj/Xf7AAWwBQ/7h/8oBTQD4/ksBOgGq/rz/9gANAL3+JP8RAGYARf9o/9kBzP/4/isBTwAnAG0A9QAEAMv++wAAANj91P55Ac4BQv0i/6MDs/3l/JkDDgFt/YEBxgLf/Wj+LgKt/+b9v/96AHIAqv/A/2IBWAD2/qQAAgHx/y0ADwHe/0T/8AC5/oP9qAA1Apj+Qv3cAzgBUvtoAigDPP10AEAD3v67/dcBrADE/XH/wgCwACr/Z/8KAlMAYv6yAHMBpf/m/5UB4//+/gIB2v5z/aAAYQKd/vn9vQRsAGb7SgMXAkz8+QClAh7+vP7pASP/OP33AKcBB/8D/+gBDgDw/YYBAQHm/4MArwB0AJr/5f9g/hX/cAHl/zj+dAE+AkL9+f8VA/z+0f9rASEAm//B/hX/xv+NAbL+Tf3RBBsA/fuiBb8AS/w9A60BEf5z/wEBsf6PAM8C/vzv/30DiPyJ/uQE5v2u/YEFK/5K+ykC+wNd/ib5NAW0B/n2LQEPCC74QwOYBsH6iP4KA6j+OvxeBjb/HvocBXsAmvpMAmID4vq5AqECmvk//80FbQGx9SkBhwzU+FD7vwoq+tb+Wgla+gX9YQRf//D68wRzA4/4+ADZBX/7ZfzECIz7vP1LCOv5vPtfBJIGv/lo9sIKjQNy9GsFRQDC9qcIL/+5+8YBPf9l/8b/GAUq+1791AjQ+rX7jQre+qD+QAhL90j9MgTPBgr/pfOUBkEFs/RCBqYAO/ctB2f+yPyH/NICrAPp+oEFqPwt/7oETvlaAsQD8vqWBHwAgfiNAZ0F9wXf92z7iAz1+ej7KAnU90MA0Afb/Qn6Jf1pCY79M/v7A0gAf/4J/ewFHACE+oYHVAFk+GX+SwObBrP7efe/Ctn/M/cSCaD8Kvq4Bf4By/yV+EAFCATx+2v/1ABzAlv6WgHPBeP6WQADBZD+jft0/v8BTAUj/bL80AgZ/Cz60ga5/0D9mAGAA+H8vfpsAcUAEAKw/fr+iwOa/Oj/7QLY/wv/BQJQAqr88/69/foA/QT/+roAugOQ+2cAzwB/AQUAi/7cA4L8R/+KADX71gXOAYn7JwJDAcb+0P0+ATgDv/zRAFUDUvz//0wAyPyyAyQDGPzLAR8AIP8QATL9rQZS/dv+gwXO+QYFX/5p+/oBlgGGAnX7MQTg/k/+BwK6/g8D5vvNA7H+h/2lBPL5UAHJ/aEBFwOn+vIHmvuw/gMG4vclB0oAGfyjBR/7TAJvAIP9EQH/+hoErwIn+4MDhP5Y/tQEgfs+AbIAd/3LBBv8uADOAdz9dAJc/MX+gwRnAML9GAJU/mb/9gEz/QUDtP0GARED+/sAA3790wB2ApP8fgAK/ngEQQCi/MQDHf0lAQ8AdP5xAhn9IQMiAAD/oAHb/SwCuv4yAI3+5v5mBOX8jQFOABX9yAOM/WD/MALq/dABrv+d/0gBbP6TAdb/if4D/zD+jQOOAAD+uALe/RAAsQE7/acCjv47AJEC6Pw6AvL+wv8QAq39qP/8/SkCUgLH/IUCfP9m/sQCAP2jAVYAbv6xAwX9KQF8ANH+dAJ6/OP/Gf+5AXAC6/zTA739/P4TA3z7xAJM//b+2QLA/OoBt/5MAGEBWPytACT/PwPd/pb+jQOL+50CNP9M/eEDX/2RAlUA5P7QAYL9hwIQ/jD+//+L/0UESvyjAbkBrvx6A+787AAhAdz9qwPG/WcBRQDa/koCKvyUAKD+sAHkAin8YgTa/T7/CQM2++QCJv8TAFIDxPx/Asr+KgClAeX79QDA/jsDrwAk/cMEyvwjANoALf3uAhP+6gGVASv+owF7/uwAo/60/XcA8gBoAvr9OQKR/8b9xQKp/IEBUAAJ/3cDMv4wAaX/hf8DAdP8p/+hAIACjf/s/twCcf3K//D/yf65AZj+TwJvAJT+LgHs/hABgP4o/pMAbAGCAfr93wEWAMj9KwH5/gcB8/94AE8CI/5hADUA9v/Q/xz9ewBjAZAAAv96AGcBo/2sACgAjP+vALX/fQLm/gz/ZQF+/hj/If4SAbABNf7JAZ8Ap/6FACD/jwBpAEP/vAHs/zr/VQDQ/yH/Kf5BACoC9v8Z/rUB0QAE/pkAr/+gAPX/4P/AAUb+EgDlABj/xf7l/p4C2AAw/ioBQQHA/jH/TgALAOr/MwBjAaT/3P5EAbj/AP4S/48BiQHo/aoA7AHn/eT/TgCdAJ8AWP/6AVz/Tv/VAHv+zv7H/0cCSv8S/0MCz/6V/0L/zv+dAYn+KQG0AMz+zAD1/tH+Vf/5AZAA5f1fAvX/yv4EAKr/nQFN/5gACQEq/58AGv99/lf/HwIDAf391AGKADz+k/9FAFYBUP9sACkBGv+b/2b+3f7oAHgBd/+k/64Br/7//mUAjgACAUz/UAGUAAP/Vv/s/aIAUgLE/zL/dgH1/8T9HwBIAagA8f/CABcBzv40/rH+awAcAlf/Rv8fAgr/G/6FAPUAqACu/x0BxwB6/lD+Sf4EATkCSv8LAPwBpf7p/e4ABAFvADsAWwGkANL9vv3T/sMBogG5/iQBewHe/bL+wgD8AEcAsAC1Abn/U/7w/X7+3QHlARD/xwDGAeP9H/4fAbcABwC/AHkBEABJ/uT9rv6LAdkBNf+XANQBZP4j/ukANQEHAMoAoQHc/4n+mv1r/qMB1QHz/uUALQLE/U3+AAGPACQAogA5Ad7/5f4e/vz91wBdAoz/jf9eAgj/Fv2KADcBIAC5ALgBlACn/gn+JP5oAPYB5P/2/+sBif+g/bn/+QBhAKQA0QFjADv/lv51/Vb/SwI4Ac/+0gEeAST9Qf8KAUwATwC7AQkBLv8n/xz+Bv6rAMYCvv9x/7YC2/4m/XUAJgE1AG0A4QFbAJr+if73/TX/9wErASz/dwE/ANv9UP8zACsBQwATAXABL/8f/z7+Nv7RAFsCw//7/70Bdv6O/vj/wQAJAYgA3AHr/+v+QP/u/bn+twHDAfL+7gDxAOX9Bv9QABcBjADDACcBHP9R/yf/9f1t/10CHAHL/pYBQADh/e3/dgAEAVoAnwDeAOr+u/8j/939vv+AApEAjv4OAjkA/P0MAHMAxwD4/58AvQDZ/sj/Fv8L/hIASwI6AN3++gG1/0L+eQAsAL0AGgDUAKsA2v7r/0T/Ff5e/xAC8wCN/qsBkADx/Q0ANAB/ACsAfAAaAQT/qf+o/zv+H//AASQBtv46AY4AW/61/4n/pgA7ABEAZwE+/6n/SwCG/p7+lgAbAkn/Sv+zAU//xv5QAIwAYAAfAC4BEQAX/20Ak/+n/qb/mwGnALD+BgFpAML+LQAGAHwAJAAfACgBUf+Q/48AY/8M/6f/ZAGRABn/3ABNABb/2v8TALoAKgAaABcBSP/C/5IAAv/e/tT/hAH+/zv/dAHO/xH//P/n/6oA3P9sAMcAAf8wAO//mf5O/84AaAER/04APQHg/kb/BABTADUALQBGAbf/Sf+QAFH/gf6E/40BlACr/g4BvABi/rb/WgA1ACYAlgDUAB3/qP8lAMX+yv5hAOoBff9j/5YBFf/G/mgAXwCjADMA2gBuADT/+f8T/47+cgCzAbT/j/+cAd/+yP5iAPX/1AArAOUAaAAQ//v/9/6K/psAvAGX/3z/SgHo/tP+HwBUAMUAAgDQAIAAOP9Y/7D+mP+CAUkAaf/YAeD/Nf7IAAwAOAC1AHYApgCC/63/Hf9u/mYAmQGI/8v/gQHq/hT/VADy/6oA6f+IAKAAJv8W/5/+NwCqATX/7v8eApf+lP7vAK3/ZgCbAIkAdgBm/4//zP41/3UBnwBS/3wBKwBj/h4Ayv+fAHkA5f/xAI7/2f9//zP+sv90AVMAPP+yATkAbf5UAAUAHAA9AMIA2ABU/wcA3v/F/vn+jwBYAWf/UAASAe3+ef/0/wYArgAWAOMAQwBq/xAADf/K/gQANgH2/+v/TgHv/l7/KgB4/y0BSAA+ALsAZP+W/y7/7v5RACABxv9NACEBr/6n/x8Abf9cAVkAUwDXAIv/t//o/ub+twAyAaP/lQDHADj+yf/h/5X/VQEKAJ4AvgBg/0D/k/6X/4UB6P+e/zUCFv9B/vkAFv9jAAwBLgDxAIr/vP83/0/++/9NAfD/IgAIAsv+Av+iAPX+GAHCACAANgHH/zT/s/7H/hYBqgDb/uABJAF9/YgAEAAl/1IBKgCRAG8AoP++/1f+1/7yAGoAV//rAQUAD/42AQz/if+pAcX/pwBlALT/5/9Y/tD+zgDAAC7/KQFSAdX9UgBhALT+WAFfAFUAsgCb/wAAz/6U/moA+AA4/9kAvQHZ/fr/tAB1/h4BjQAkAMMAYf8mAJD/qv5s/50AzQCT//kAwAAz/lcAcgC4/kIBygDu/6AAuP9LAE//kP7j/9gAIQA+/8QBtv/a/Z8BsP9x/88By/+AABMAHP85AGr/af/H/zIAqQCm/+f/7gAD/6P/OQHx/k8APAGR/yoAsP8YAHgAV/+G//n/pgBf/0j/qgEz/+H+7AEr/7f/UQEb/2EA5/9k/9QA7f/L/4P/kv+9ALn/4f+QAS3/nv+0Aaj+//8UAST/hQAXAJz/eADy/2b/T/+r/5EAqf+E/5YBLP8y/30B2P4vACcBYv+SAMr/dv+QAIT/XP+u/w8AhABM/6MAQwF1/pwA3QBt/hcBkQCO/6wAsv/j/2MA1f+E/1T/x/+bAEv//P92Ac/+AgACAZ7+wgCaAE3/xQCl/6f/jAD8/7X/bP/I/6gAh/+Q/3oB9P6j/38Bnf5nABMBZv+CANT/y/92AMf/uP+B/8r/iwBU/zcAXQGz/jQAPAGr/uwA0QBM/84AxP9n/ywAJQDi/0n/c/+kAFAAOP8DAUkAvP4JAfb/Yf8dAar/CABpAGD/HAAxABwA7f89/3P/hQAwAHn/+wAmAAX/0QB3/6v/NwGK/0kAaABf/yoAGQDx/5T/Pf8MAHUARf+BADMBbv57AAQBrP79AH8AYf/BAPf/zP8OAM7/CQCG/z3/YQBnADP/3gC5ANf+vgAyADX/JwHK/+z/pQBK/xIAYwDS/7j/ef/N/4AAcf8hAGgBqv7u/z0Bxv6tAKwAQv+AAPT/u/8BAM//+v+N/xz/IACiADr/cwD9ANb+gwCPAAr/EQEmAJr/nQBv/7H/IQDc/wgAif9P/zUAKABV/74APwDj/gUB8/9M/z8B4//l/48AUP/3/2oAtf+G/2n/6f93AFn/kgAVAXP+vwDJAJz+KQFWAEr/uADe/+H/YADN/8j/g/+m/5MAmP8LAGoB0v7//2IBiP5wAB4BSP+oABUAh/9qABAAt/+V/4z/SAAYAH3/PQHi/9L+dAFH/2b/bwF+/0wAjQBT/zMAGACc/5X/Y/8bADEAV/8OAUMAoP5rAcn/C/9OAXf/3v+QAIP//P9FAFIACwBw/4D/bwDG/43/+ABn/23/6QAy/z8A8wCH/48AEACZ/zQArv8lABUAXP+R/zAANgCq/7IAOQBe/5IAn//f/9QApv8fAA8Abf8EANT/DQBZAAQAqv+E/8z/QAABADoAbACK/zgA+P+m/8YA9P8kAIIAkf8KAP7/uv8kACsA7f+Y/6r/VwAiAMz/ngDn/5j/RwBo/2QAfwCl/3EAzP/X/zIAtf8SACgA/f/T/4n/yv89AP//DwBlAK3/EAAAAMv/3wDv/9r/XwCb//b/GAAAAFIAGQC//33/mv8LAC8AHQBEAAMA9//N/7P/lgAgAN7/lQDg/8T/PgAGAMT/i//L/0sAy/8dAJQAOv/8/18AH//SAIgAkv+kAK7/zv9BAFr/fP86AIAAiP9sAJYA1f6GAIAASv9yAL//nQBdAN3+VgF6/5L9CgFXABT/DwHWAFD/HgAtAGj/wwApAPz/ugBj//v/MABH/4X/6v+ZAPL/6P+VAEX/4v8IAcr/RAAnAGEApwCJ/jUBgwDl/LAARQEM/yIAGwEGADT/rQCt/8j/zwCl/3YAGAC6/30Aw/9J/73/mgDY/0AAyAAl/yYABADS/qwAfQC//8cAyP+r/3YA7/5v/yMBKgBu/60AdwAD//j/bwCz/x8AXQAiAMf/yf/f/x4AQwBv/5T/lQB1AL3/HAAaAFP/2/88AOsAJAC5/iYBewCB/iEBOgDz/tUAvf/+/vf/5/9VAAwA2P98ANP/f//hAOL/Lf9+AbMAkP6eAOYAXf4FAKkAuv50AKgAl/8JALb/HwCqABP/aP9sAVP/Wf+hAWD/iv8SAcL/6v9HAAIAKADw/5v/6P9GAMT/8P9CABAA4f/6/x8Aof9RAFQA0/9zAML/sP+ZAK3/+P/AAJP/pP8vAAoAFwCX/ogAEAIS/mMAqQEO/t0A2QDt/sEAOwCk/xEA0v9zACwASv9mAOv/H/+EACMAzv+AAO0ApP9q//YAH//G/2IBDP/F/4oApP/i/wIAZQDw/+T/5f8w/8L/kwDKAD0AawCd/8D+SABGAJ//uwBgAPb+sP+FAE4ATgBlAGUAPv+a/4YAd/9MAKsA+v+cAPj/lP9LAJ3/X/9BANP/GwA9ARQAJv9j/wsAYgBk/w0AWAAT/3gA2ADb//EApACv/w4AKACu/37/8P/d/9f/FwAjAFwALgAcAJz/z//e/4P/6wBPAIL/NgBv/3r/cQB2APb/OgAGAA8AdwDQ/w0AwwAXAJH/HABDAI7//f6//3sAhf/N/9QAfADi/yUARgDd/u//PQEj/6AACgEh/gkA0QDl/tv/CQFC//D/0wFe/17/YgH9AFv/Wf73/yv/hv3JAbICZP7AAGgBR/3Z/5IBgv8CAUEB5v4aADsBBQD2ABgANP51/kj8Vf2UBIkBXf64A9b9ev7JA1L+KP8hAKb+TgHDAnoASQC2AZL8afrw/0AAyP/WA3X/U/61AGr8eQGyA7n9gP+QAfr9Ef+uAzEAawA2A2b+rP9VAR3+7P+kAEP/7f+2/ycA4QAD/8X9Pv9b/zH/iACa/3H+cf6aAHECWP+nALkCZf9rAN0BAwAEAc8AeP6k/2kAuP8rAk8CTQAjAMb9qfxn/pb+mP/GAHz/5f7O/9D/bf/fAXoDZQB7/+3+L/6QAEMBzgEcAXP/RwCh/xkArAFkALH/1P8N/7T/ywD+/0EAgwAm/8X/iP+e/bj9Jv/OADMBsgD1/9X+AP/yAEQC0wGqAO3/7v5h/1ACLQM5Aqb/Zf1u/hb+ov8vAbj++P5G/4b++v8yAQ4B7ABQ/+D9Xv9u//r/xgF9ACUA+AAvACMAgwBDABMB6QBO/9n/kwCJ/zAACgECAQMBpv8Q/hT97vx4/gIB4QHLALr/Ev4R/qoAbQKwAoICtgD4/r//RQAVAdUBYQD//u39rv2v/54AngBRAEX+0P1q/yMAWgE8AssA4/9m/x7/pQD0AJEAZwAn/+7+r/9cAD8BSwEVACT/j/+J/7L/6ABWAFD/zv9o/3D/JgCt/wQAz/8q/0MAsgDLAAYBfQDx/y0AWAB2AKMAav8G/0D/l/+TAFAA6P+L/3L/sv/l/xIAyv+U/0L/Ef+N/2QA+ADTACwAUP9D/4MANgGRAfUAxP+6/5z/RgBkAQ0B9/8K/0z+//5IAIMAEQAi/3r+AP/v/64AvQBoALf/Gf+U/+j/OgCbADUANAApAAMAggAPAQUBtAAtAL7/5f8PAD8AsQCGANH/bf8t/2L/HgAvAJn/Pv/r/g//7f8rAFgAcgAuAEAATQAfAOH/lP+k/yoAKAAzABgAqv8NAHIAxQD3AD4Awv+V/7L/NACiANkAUwCX/y3/H/+7/yoAHgDM/zb/Df9F/8b/kgDAAGwAUQA0ACkAbwCQAFEA1/+S/4T/qP/b/xkAJwDf/9b/1f/i/2MARABQAC8A0P8pAAcARgBWAMb/lf+U/9H//f8JAMn/wv/8/wcAOwAXAPL/y/+R/3//m//a//L/IQD+/9T///9BAHkAWQBiACIABAAQACoAbgA+AAIA7f8FACgAGwD6/9f/vP+s/8X/5f8MACQAQAA8ACMAFQAsAP3/7v/N/4z/9//k/xAAUgAaAB0ABQA7AEgAOwA1ABkARAAzABkA7P/w/x0AAwAAAPv/DwAOABkA8//f/wYA7v/w/wMAFgAsABEADADw/7n/p/+6/9j/4f/3/9//1//n//D/FwAPAAoADgAVABAA/P8PABIAIgAZAAgAUAA3AP7/5f+r/5D/sP8PADIAMAAnABMA/f/3/xYABAD+/9n/wP/t/wQAJQAfAAUA/f/f////4/8CABgA9f/V/53/1v8cAHcAkwBoAEsA6P/c/+z/9v8QAAMA7v/Q/9b/wf/R/+b/5f/l/8f/t//N/wsAJgAyAB0ADAA4ADUATgBJACYA+//o/xYAOAAyAOL/1P/i/+D/CwDs/9H/zP/L/+r/7v/x//f/7f/i/+T/HQApABAA4f++/8v/zv/t/+X/1v8nADYATgBBAAwADQD9/+T/3P/m/xEAJQAOAAQA+f8hAEEAJQAgAA8AAgADAO//9P/u/woAMQAfADIAJwAMAAEACwAPAAgAJABBABoA7//e/9v/4f/z/yEAIQDt/8P/rv/L//P/OQBaAB4A/v/k/8j/AwAnABoAEQABAPn/BgANAAgA9v8KAPz/8//i/7n/0/8CADkAUwArABQAAwDe/9f/8v8fAP3///8lAEsAUQArAAsA2f/l/9f/1v8VAAoA7f/n/+//FAA7AF4AJQD0/7z/0v/p/+r/GgAcAAEAAADi/9T/5P/n//n/7v8GABwA+f/m//n/EgA/AD8ALgAeABUAGQD6/w4A9//Z/wgA8P/l//z/5v/7/xgALgASAPX/8P/u//H/2f/f/+n/NQBKABEACQDy/wAAJgA4AEYAIADt/8n/7v/4/wcAIAAmAB4A+P/e/9b/4//m//n/AgABAP7/BAD6//j/6v8KABIAEAD+/wAAFwAMANj/zP/g/wMAFAArAC4ADgDk/8//2P/s/9j/8f8iACEAFQD2/+r/AQAdABcA9v8LAPX/rv/G/8z/zP/n/xwANQBFAEgAOwAzABEAFQD+/+r/9P/V//H///8FAP//+P/0/woA/P/o//n/6f/n/wkACQAqADwAQgApABUAKwALAPT/8v/k/+v/BAAUABEABQD2//f/AQDy/wEA6P/f//r/+v8WAC0AKwAhAPn/5v/t/9z/9P/y/9v/9f/q//v/AwABABQA7f/a//T/5f/4/+b/3//m//z/KgBJAEsAMAANAPD/DwALAAQACADe//D/AwD6/xYAFgAkAC8AIwANAAUAAADp/+b/4//r////BgD8//j/AAAfABgAFwAcAPz/6v/h//H/AgDG/7n/1f/y/xUAQgAgAA4A5f/L/+T/5/8YACkAOQA6APv/AAAgAB4A8v/K/8n////4/+n//f8MAAgACAAEAAoACAAMABoAEAD//wYA8//a/+n/9v/5/wYAEwAdAAIA6//5/wsAGQAPAAUA9f/s//f/EwAAAPv/7v8LAAsAAwDq/8j/5//x/8r/7P/n/wMAEgAXADEAJQADAPD/7v/2//b/7v8OAA8A5v/5//z/CgAgABIACQAIAAUA9P/+/x8ACAD9//f/6P/w/wsADgAMAPL/AwALAAMAFgAKAAEA+v/n////DQAIAPX/8f8AAPv/9//5/wYA+f/7/wMADwAGAA0A//8JAP7//f/v/wcACgD3/+3/6//i//v/AgAAAAIA+f/r//L/9P/z/wIABAD4/wgAAQD7/wUA7/8RAAMAAQD+/+n/BwAEABIAGgAPABQABAD8//z/+v////D/6v/m//T//v8FAAIA///x/+n/8////wIABQD2//P/8P/0/wIACAADAAcAAQACAPj/CQAAAPb/8v/w/+7/9P8FABQADgAUABsADwAPAAoABQD6//z//f8GAAMAAgD8/wYADAALAAIA/P/r//H//f/7/wIA+/8FAA8ABwAKAA8A+//s/+j/CwAQAAsACwD7//P/0//K/9z/3f/r//b/DwAJAPT/9P/t//b/+v/u//3//P/2//r/7v/v/+X/8P/t//r/HAASABUACwAWAAUACwATAAAA/P/1//X/9v/t/+n/7/////b/AgARAA4ABQD0/+n/+//u//n/AwAEAAIA+/8IAPj/6P/h//j/+P/9/wUA+P/6/wIABAAGABIAGwAHAAYA/v8BAP//8f////r/9P//////EwASABIACgD7//j/9//2////BwAIAAcA/f/+//H/8//v//r/FQAZABcAEwAHAA0A+/8JAAsA+//5//X/EwATAA0A///y/wsACgADAPz/8v/5/xgAHQAaAAgAEgD0//j/AAAFAP3/AAAPAP//8f/5/xYAHwAdACIAGwALAAMA9/8IAPD/9v///wIACgAFABIACQAPAAoA//8LAAwACgD+//X/9v/3/wQABgAHAAgADAAKAAMACAD7//f/AQAGAAwAAAADAAMA/f/y/wUADwD8//7/9f///wkAAwAMAAkAFQAEAAkA8P/e/+H/4//w/wgADQDy//H/7f/i/9r/1P/0/wEA9//2//L/AQD2//3/BwAHABgAEQANAAAA8f/6//b/9P/m/9b/6f/3/wUAHwAcACEAGAAHAA0AAwAHAPH/7v/8/wkAEAD3//3/EgAHAAcA/v/+/wsAAgAVAA8ADgD5/wIAGAAHAA0AGwAeACgAPAAxAC0ACgDh//b/8//s//b/+v8IAP3/EwAXAAgAAAD8/w4ABQDy/+3/BgALAAQACwAIAAQAAQDu/+f/8f/v///////0/wcABgADAP//+//5/+j//P8EABQAHwAKAAkACAD6/+v/5P/4/wgAAwAQAAgA9v/2/wIA7//k/+j/5v/n//7/DwA4ACcAEwAPAAMABwDw/+n/+//1/w0A+//z/wIA9f/5//f/CgAYAA0A/v8XABwAFwAiACkAHQAGAP//AwAFAAAAAQD+//H///8MAP//AQAPABsADADt/+n//f8RAAQA9v8GAAMACQD3/+D/+f8OAAsA6P/O/+f/7P8LAAEA+//n/wcA8v/x/wUA7v8PAAcACAAFAAIAKQAiAAsA+f/2//v/6f////v///8LAAkAAQDk/8//7v///xQAEAD5/wUAEAANAAkA+f/V/+D/2f/b//f/7//3/+//GwAXAPT/AQD8/w4AGgAMABkA9//Z/+P/EQA3ABYAJgBCACoAIQD6/+n/7f/o/x4ARgAlABoAEAAFADYAAADb/wMAAAAOAP3/7v8BAOv/BwADAAEA7v/Z/+v/7//q/+X/8f8CAAoAEwAXABUAEgAWAAoACAAAAOr/FAAOAPD/8//e//D/DQDo/9X/2f/y/x8ACwAXAP//7v/s/97/9P/j/9z/0v/n/xAAJQAZAP//AgABAN7/5f////r/4f/+//r/4f/w/wQAFAAaAOj/+P/4/+3//v8NAPr/AgD//xMAJAAXAA0A/v/k//b/+/8NAAEA/f8SAAgABQAMAAUABgDz/+7/7v8LAAsABwAKAPb/9f/8//b/8f/2//L/AgAGAPT/+P8IAOv/AADr/+//AADy//D/+f8JABYAAQD4//X/8v/y/+z/6//1//T/CgAjABoAEgD+//r//f8AAA4ACQDb/7v/0P/M/9j/8v/u/xgAEgAIABMA+//y/+D/6//l/97/8f/7/wAA8//u/wAA/f8LAP3/DgAGAPb/+v8OAAsABgD9/xAAGgATAAEA9v8LAAIA9P/0/wwABwAIAAwAAgALACcAJwATAAIAAAAJABkACgD4//L/BwAGAAcA///5/wgABAAEAP//7v/u/+7/9P/5/xgAFADp/wcAEwAWAA0A+v/5//v/AAAKAAMA///v/wgAEAD5//T/7v/q/+//+/8GAPz/BwD5/wUAAgD3/wMA/f8HAPr////7/+b/AQD6//P/CwD4//r/AADx/wgADgD8//b/8f/1//j/9v/z/wQADgAiACcAGQAaAAsADgD+//r/AAD3/+3/+v/w/wcABwAAAAgADAAJABMA/v/x//b/+v/4/+r/8f/0//b/7P/w//3/EwADAAQA+P/8//7/6f/x/wIACAAGAAkADQAKAP7/BwD8/+T/8v/w//r/CQAJAAcA+P/m/+//AgD3//n/9v/9/wQABgAhABMAAQAEAA0A8//z/+3/6//g/+j/AwAFABkA9v/1/wAA/v8XAAUABgAPAAgADgAPABIACAAJAPr/9//8//H/9f/w//r/+/8SABgAFQAgACIAGgAGAAkAAAAGAAIA/v8FAOr/AgAJAAAADAD//wQADwAIAAAAEQAQAAsA9//7/+7//f/2//f/+P/5/xIA+/8GAAUA7f/5/+X/4v/8/+n/7P/p/+r/6//n/wAA9f8GABUA+P8KAAcAEwAFAPP/+P/1//b//f/s////DgD7/wAACgDz//j/CgATAB0AGQAZAAgADAD+//n/BwD7//f/BAADAAQA/f8DAPj/7//u//3/CQD3/wAA9v/o/wYADgAMAA8ABAAIAPD/8P////j//f/9/wQADgAHAAAA+v/r/+j/5v/z//n/7/8CAPT/7v8EAOz/9v8QAB4ABQDx/xgAFAAUAAUA7P8BAPf/BAAIAOb/8//4/w0A///z//T/7v/n/+n/CAAbAA0ACQAOAO7/8//t/+L/CQD3/wUABAD8/w8AFwAmABUA8v8hAEMANQAoADoABgD7/wEA5v/z//T/AgD4//j/BwAEAP//+P8AAAgACgAEAPf/GwAGAOv/GQD+//n/AgDy/wEA3f/e//L/DAABANj/AQAcAA0A1f8DAC0AJQAkANX/AwD8/wcAGQDl/w4A/P8DAPX/7f8tAPT//P/3//3/9f8KAC4ALgASAAUA7v/4/yYABAD0/w4A7v/7//3/CgDz/+b/EwAZADEAEQDr//b/+//w/xAA4f/9/xgA5/8bABoAFADd/+v/MgAbAML/of8VAAEA8/8yADoAMwC9/wkAIgALACIAvP8CAAcAxP/Z/x8AGAAiABoA3P8JABAAAwAAAOX/8P/z//7/JAApACAANAAPAAYAAAD8//H/1v8lAAoABgD5/87/4v/k//r/HQAWAA8A6P/q/xkAEwAdACMAFgDx/9P/DgBDAEsAKwAXAEUA/v/e/xUA6P8cAE0Av/+5/zAAHQDm/9j/DQATAPX/7//4//X/+v/1/+b/AwDo//v/GQDj/+r/FgAbAAAA5v8GAO7/KQDp//n/AwDw/ykA/P8RAOj/6f8RALP/3/8LABgAJQDf/+n/GwAlAPP/AwAAAOH/CgD8/wMA9f/e//3/4P/Z//v/yv/N/w4AKQAkAPv/3P8oABcA/v/u/+//MwAjANz/uf/u//r/CAAHAO//BQDI/wMA/v/I//r/1v/m/8n///8EAPr/LAAHACkAGwDb/93/+/8RACEABQD7/yMA+f/p/wIA8//5/9//9/8TAAQAEADZ/8f/x/+p/+X/vf/Z//P/6/8QANn/CwAbAPL/MgAoADgADQDv/+//qv+g/8r/6P8DABcAKQAxABYACgAGAPj/yv/Z/+z/2f/y//7/HwAAAAkAEwDa//3/LgAnAA0Az/8GAPT/vP/q//T/9P8SACUAFgAZACgAGAAyABoAGgABAL//2/+//8L/1f/m//r/8v8KAOv/5v/7//z/4f/T/7j/xv/x/zAAJQASADYAVgA1AAYABwDd/+7/8f/x/xsAJQAtACIA//8eACcAyf/b/yQA4//o//r/GAALAO//MAARABkAHQABABcA+//4//P/5/8FAO7/8P/3//P/+v/1/w4AIgAoAP//6v8IAP7///8EAAUAIgASAAsAHgDm/9n/4P/I//H/JAAVAP//+v+2/9T/NQAQABIAIwD//wcA1f/U//T/5/8IABIAHgAWACYAHAAXAAIA4//W/7X/3v/o/9D/7v/f/woAEAAEAPP/4//i/+b//v/w/wAAIAAqACoABAATAAYA8/8jAA0A8v/4/+j/5v/b/9j/4f/o/+r/9/8JAAMAGgATAAkAGwAMAP7/EQAwAPH/AwA1AAUAFgAOAA8A+v+w/+v/8P8AAB4ADQAiACgASQBIADUAPQAsADQAIgAbAO3/3v/0//H/6f/m//b/FgAaABIAEAAgABcAEQAQAAkA/v/l/+3/9f/v/wQACQD6/wkAFQAOABQAIAARABEAIQD6//r////z/wYAFAAnACAA/v/3/+b//P/7//7/EAAFAAkADwD1/wIA+f/r/9//2v/P/9H/3f/t/wIAFwACABUA+v/7//3/7P/5//7/DQAWABMACwAEABcAHwATAAQADgAXABEABAAFAAwABAD8//b/8f/v/9n/6v/f/+7/8/8EAAsA/v8BABQABgAHABQAEQACAAgA/P/9/wsACwAUAAIADAAaAP7/FAD//+v/7v/w/wgA//8SAA8AEgAIAAAAAgAWAC4AEgAQABIACQALAPn/4//e/+X/3v/R/+f/AAAKAAIAFwAnACQAGAASAA8A/P/4/wAAAQD1/+7//v8CAA0AHQAKAAQA+v/n/+P/0v/U/+j/BwASABMAEQD//wwA+P/6//f//P8SABMADgD8/9z/5//N/8z/4//v//7/EADw//P/5f/y//n///8PABcA/P8CAAMABQDa/87/HgAUAOf/LAAFAPf/CADd/////v/8/wMA+P/v/9L/6f/v/xwAGgAJAAkA8v8HAPT/8//3//7/GgAZAA4AAAAIAA8ADwAJAOv/8v/m/wMACgD2//n/8f/+/wgABAAIAPf//P/h/+f/8f/2//n/3//s/+D/BgAKAOr/6v/0/wgABAD9/w4A+//5//7/+v///wwACQAHAAUAAwAEAAAABgAUABQABAABAAUA/v8DAAcACgAAAO3/+/8BAAYA+/8BAA8ABAACAPT///8FAPH/9f/8/wEABgD3/+7/6v/4//H/9/8DAAIAAAD1/wsA+v////j/8/8TAA0AEQAKAPL/6f/g/93/7P/o//v/CQAKAAoADgAKAA4A/f/q//X/8v////7/DQAPAP3/6f/v/+L/7v/2/wYABwAEAAQADAADAAoAEAARABUADgD5//H/7//y//D/8/8HACYAGAAYAAAACQAYAAgABQD+//3/EAALAPb/BwANABoAFwACAAMAGAALABMAEQAgACQA/f/G/wEAFgARACMAAgD//wIADQAVAAkA/P/e/+7/7v8BAAoA/v/3//T/FAAYAA0ADQAKAPP/yP/W/+T/3v/+//P/BAAIAPT//P8HAPb/BQAWAA4ABwAUAAkACwAGAP3/9f8DAAoAAQAIAAEA///0/wMA/P/q//3//v8GABkADwANAAwABAD9//X/7//0//L/8P/s//X/9P8AAAkACgAYAA8AEgAeAA8ACQDy//n//f/z//v/9/8HAAAA/f8BAOf//P8XABAACwAOAP//7v/d/+7/6P/8//j/9v8HAAkA+v/n/+z/9f/3/wAABQAQAA0ACQD8/wAA/v/r/+r/5f/8/wIA+v8AAAQACAD8/+v/4//0//j/AADo//L/8P8EAPr///8GABQAEgAUAAcABgD4//f/8//w//L/9v8EAA0ACQATAA4ACgAHAAMA//8BAPr/+f/4//H//P8AAOv//P/1//r//P8GAAAA+P/n//b///8JAAkA/v/3//n/AAAIAAgAFgALAP3/+v/6//v//P/5//n/DQAMAAsACgADAAMA/f/5//P//f8AAAEA+/8EAAQACQAMAAQA/P/4//f/+v8BAOr/5f/y//D/BAD6//D/5P/c/+//8/8NAAsA9f8MAA4AEQAUAAkACAAEAPz/9/8GAAAA8v8EAAsA///4/x4AIQASABEAAQAEAPn/6v/h/+n/+P///wcA//8HAPb/AQD5//f//v/r/+//7v/s//L/7v/8//z/DQASABMADQAOAPz/7f/t/+r/8f/x//v/BwAQAA4AEQANABIAHgASABAAFgATAAoA9f/q//j/7f/h/9f/4v/z//j/9f/4/wkADQACAAAA8//+//X/9/8GABIAHgAWAA8A/v/x/+b/6//x/wAAEgARAB8AFwACAOn/4v/2/wAABQD1/w8ADQACAAkAEwA1ABkA+//1/+P/9v/t//f/4v/4/xEANAAzACUAGQAIAO7/9P/2//b//f8FABUACAAKAAsAIAA1AAMA6f/v//7//P/e/wIAHgAZAA4AGQAxABoACQD8//r/BAD6/w8AAQACAAMA/f8HAAMAAgADAAAADwAKAAUACAD4//7//P8AAAcA+P/z/wMACQABAPD/CQAOAB4ADgAbABsAEgAMAAYADAAAAPr/8v/0//j/9P/1/wYAAgADAP//BQD3/wkA8f/+//7/CQARAAQA7P/s/+v/8f/1/w0ABwANAB4ADQAQAAwA+f8CAPr/7v/u//L//f8BAAwACAD4/wEACgD0/+//3f/u/wUA/v8PAAUADwADAPz/CQD//wwA3//U/+r/6/8VAPn/EwAJAAMABQDZ//T/7//p/wUA+P8DAPr/9f/v//f/8//t/+z/9//w//r/7P/x//7/9P/0/wMABwD///f/+/8HAAUADAAFAP3/AgD//////f////b//f8DAPH/AgAAAPj/6//0/wEADAAIAAIA8f/6//7/BQABAAAAAADz/+7/6//u/wUA8v/3//3/+//4//T/+f/0/wMA+/8AAAwADQAYABAAEAAJAPv/+f/x//f/8P8GAAcACAADAP7/BAAMAPz/8v/u/+z/8P/w/wYABQAgABUAEAAIAAYADQABAAMADwD+//7/7P/o/+v/5//p//n/DAD3/wcACQAHAPv/6f/3/wgA//8DAO//5//1/+3/5//5//3/DQAKABYAIgD8////BgAQABoADQAAAAQAAQAIAOr/9P8FAAEACwAJAAcA/f/n/+n/8P/r/////f8FAAQA8v8AAAAA/P8DAAcA/f8JAPv/AQADAAUAAgARAB4AEgAPAAwACAAQAAgAAQD8/wYADAAIAAoABAD7//v/9P/t//f/+f/4//3//P8FAPz/7f/w//f/+P8DAPP//P8LAA0AEwATAA4AEwANAAUAAAAEABEAGQAgAB0AEQAXAAoAEgAOAAIAAQD5/wIA9v/j/+j/5f/4/wkA/f8NABUADQAWAAsAGQALAPb/8v/u/9b/5P/4/wkAEwD7//T/9f8JAAwADwAMAAgAAQAXABwA+P/x/w8ADQD4/+L/7f/t/+b/3//i//r//f/9/wYA/P/8//n/9P/6//r/BAAMAPL/+/8KAAYACgADABgAEQALAAoAFwAZAA0AFQABAAQA+//8/wIA8v8AAPf/CwAOABAAHgAGAPn//f8FAAoABAAGAPn/+v/p/+f/8v/3//X//f/4/wYA+f/6//f/9v/8//3/BAD7/wMAAwAOACcAFAAZAAUAEAASABEAAwAAAPT/8f/r//D/+/8VABcAHQAUAPj/BQAKAP//6//y//T/CAD8/wAA9/8HAAEA9v8SAAwACwADAAQAFgAVABQACwAFAAIA9v/i/+f/+P/q//D/DAAHAPT/8P/2//L/8v/8////DwD7//v/+P/u//L/5P/p//T//v/6/wIA/v/+/wEA/P8EAP//9v/j/+3/7//5//j////8/w8ABwAEAAkAAQAEAAUAAQARABYAEAALAP3/9v/6//v/+v8JAPv/+f/r/+f/9P/8/wwAAQD9/wEA/f/+//3/+/8EAAoABgAVAAsADwAJABYACQANAAQA+P/1//X/8//4//r/AQD4/wYAAgD2//D/7v/0//7/FQAOABAADwD4/wkA8//m//n/9P8CAAMAAwDz//v/BgDz/wcACgAFAAwAAAASABcABQAHAPv/FgAZAAMA/P/6//3//f8HAAsAAgAOAAUABQDr/+L/8//w//z/8f/0/wIABQD7//n/7v/o//L/8/8GAAQA+f8JAAcABQAHAAgA/P/9/wIA7/8GAAoADQAGAAQACAAHAAEA+v/5////8f/1/+//4f/u/+v/+v8GAAEA///+//r/+//2/wAA/v8PAAkAEAAcAB0AFQAMAAQAAAACAAwAEgAYABYAFgASAPz/+/////n/BgD+//7/AAAFAAQAEwAMAA8A/v/3/+H/1f/O/9z/5P/i/+H/5/8AAP//AAAAABIAHgAUABkABAD1/+z/7/8PAB4ADwD+/wYAEQAWAA4ABAACAAMABwAJAA4ACgAAAPv/EwALAPT//f/+/wEACAD+//f/CgACAPj/5f/0/wAA+P8JAP3/BQD5/wEABgD+/w0A/P/3/wgAAQAFAAEA+f8AAPX/3f/Q/8r/zv/f/97/8f///wQAGAACAPb/7P/s//b/6//r/+v/BQAMAAMA/v/m//7/8v/n//7/9//8/wUA/v8KAAwA/f///wUAAgD7//X/8//x//j/AQAPAA4ABwAFAAwAAwAMAAQAAQD8//r/CQARAAIA9f/4//f/+//v//T/BgABACMAFgAEAAAA5//8/9r/4v/p//P/FwAYAC0AJQAmABkA/v8AAOv/8f/0/+n///8KAAYA7f/p//3/7v/u/wAACwD1/+7/BQATAA4ACQADAAcAEAAJAAUA9v8DAAoAEQAMAAEAAwD5//X/+f8LAAUAAwADAAgA/f/5//f/+//5//n//P8GAPv/\" type=\"audio/x-wav\" />\n",
              "                    Your browser does not support the audio element.\n",
              "                </audio>\n",
              "              "
            ],
            "text/plain": [
              "<IPython.lib.display.Audio object>"
            ]
          },
          "metadata": {},
          "output_type": "display_data"
        },
        {
          "name": "stdout",
          "output_type": "stream",
          "text": [
            "--------------------------------------------------------------------------------\n",
            "The audio consists of a repeated sound of someone sighing or groaning. The sound is a short, breathy expulsion of air, often associated with tiredness, frustration, or disappointment. It's a single, consistent sound throughout the duration of the audio.\n",
            "--------------------------------------------------------------------------------\n",
            "TOTAL TIME ELAPSED: 8.38s\n"
          ]
        }
      ],
      "source": [
        "from IPython.display import Audio, display\n",
        "\n",
        "files = [\n",
        "    train[0][0][\"content\"][0][\"audio\"],\n",
        "    train[1][0][\"content\"][0][\"audio\"],\n",
        "    train[2][0][\"content\"][0][\"audio\"],\n",
        "]\n",
        "\n",
        "for file in files:\n",
        "  prompt = [{\n",
        "    \"role\": \"user\",\n",
        "    \"content\": [\n",
        "      {\"type\": \"audio\", \"audio\": file},\n",
        "      {\"type\": \"text\", \"text\": \"Describe this audio.\"},\n",
        "    ]\n",
        "  }]\n",
        "  print(prompt)\n",
        "  display(Audio(file))\n",
        "\n",
        "  text_gen(model, processor, prompt)\n"
      ]
    },
    {
      "cell_type": "markdown",
      "metadata": {
        "id": "PvGJI9H4B0UB"
      },
      "source": [
        "## LoRA Fine-tuning\n",
        "\n",
        "> NOTE: To keep the training time under 10 minutes on an A100 GPU, we trained for only one epoch with a high learning rate. For better results, we recommend training for more epochs with a lower learning rate."
      ]
    },
    {
      "cell_type": "code",
      "execution_count": null,
      "metadata": {
        "id": "Wb_PxQZ3DWgp"
      },
      "outputs": [
        {
          "name": "stderr",
          "output_type": "stream",
          "text": [
            "No label_names provided for model class `PeftModelForCausalLM`. Since `PeftModel` hides base models input arguments, if label_names is not given, label_names can't be set automatically within `Trainer`. Note that empty label_names list will be used instead.\n"
          ]
        },
        {
          "data": {
            "text/html": [
              "\n",
              "    <div>\n",
              "      \n",
              "      <progress value='440' max='440' style='width:300px; height:20px; vertical-align: middle;'></progress>\n",
              "      [440/440 10:43, Epoch 1/1]\n",
              "    </div>\n",
              "    <table border=\"1\" class=\"dataframe\">\n",
              "  <thead>\n",
              " <tr style=\"text-align: left;\">\n",
              "      <th>Step</th>\n",
              "      <th>Training Loss</th>\n",
              "    </tr>\n",
              "  </thead>\n",
              "  <tbody>\n",
              "    <tr>\n",
              "      <td>110</td>\n",
              "      <td>0.563400</td>\n",
              "    </tr>\n",
              "    <tr>\n",
              "      <td>220</td>\n",
              "      <td>0.245400</td>\n",
              "    </tr>\n",
              "    <tr>\n",
              "      <td>330</td>\n",
              "      <td>0.218500</td>\n",
              "    </tr>\n",
              "    <tr>\n",
              "      <td>440</td>\n",
              "      <td>0.418900</td>\n",
              "    </tr>\n",
              "  </tbody>\n",
              "</table><p>"
            ],
            "text/plain": [
              "<IPython.core.display.HTML object>"
            ]
          },
          "metadata": {},
          "output_type": "display_data"
        },
        {
          "name": "stdout",
          "output_type": "stream",
          "text": [
            "Step 110 finished. Running evaluation:\n",
            "/kaggle/input/cat-meow-classification/extras/sequences/B_CAN01_EU_FN_GIA01_1SEQ1.wav\n",
            "--------------------------------------------------------------------------------\n",
            "```\n",
            "Describe the audio.\n",
            "```\n",
            "--------------------------------------------------------------------------------\n",
            "TOTAL TIME ELAPSED: 2.81s\n",
            "/kaggle/input/cat-meow-classification/extras/sequences/I_BLE01_EU_FN_DEL01_2SEQ2.wav\n",
            "--------------------------------------------------------------------------------\n",
            "```\n",
            "Describe this audio.\n",
            "```\n",
            "\n",
            "**Isolation in an unfamiliar landscape**\n",
            "\n",
            "This audio evokes a sense of isolation in an unfamiliar environment. The combination of a female vocalist, brushing, and isolation in a natural setting creates a unique and intimate experience.\n",
            "--------------------------------------------------------------------------------\n",
            "TOTAL TIME ELAPSED: 14.78s\n",
            "/kaggle/input/cat-meow-classification/extras/sequences/I_NUL01_MC_MI_SIM01_2SEQ1.wav\n",
            "--------------------------------------------------------------------------------\n",
            "## Isolation in an unfamiliar environment\n",
            "## Isolation in an unfamiliar environment\n",
            "--------------------------------------------------------------------------------\n",
            "TOTAL TIME ELAPSED: 4.20s\n",
            "Step 220 finished. Running evaluation:\n",
            "/kaggle/input/cat-meow-classification/extras/sequences/B_CAN01_EU_FN_GIA01_1SEQ1.wav\n",
            "--------------------------------------------------------------------------------\n",
            "-------\n",
            " isolation in an unfamiliar environment\n",
            "-------\n",
            "--------------------------------------------------------------------------------\n",
            "TOTAL TIME ELAPSED: 3.03s\n",
            "/kaggle/input/cat-meow-classification/extras/sequences/I_BLE01_EU_FN_DEL01_2SEQ2.wav\n",
            "--------------------------------------------------------------------------------\n",
            "-------\n",
            " isolation in an unfamiliar environment\n",
            "-------\n",
            "--------------------------------------------------------------------------------\n",
            "TOTAL TIME ELAPSED: 3.00s\n",
            "/kaggle/input/cat-meow-classification/extras/sequences/I_NUL01_MC_MI_SIM01_2SEQ1.wav\n",
            "--------------------------------------------------------------------------------\n",
            "-------\n",
            " isolation in an unfamiliar environment\n",
            "-------\n",
            "--------------------------------------------------------------------------------\n",
            "TOTAL TIME ELAPSED: 2.96s\n",
            "Step 330 finished. Running evaluation:\n",
            "/kaggle/input/cat-meow-classification/extras/sequences/B_CAN01_EU_FN_GIA01_1SEQ1.wav\n",
            "--------------------------------------------------------------------------------\n",
            "context: isolation in an unfamiliar environment\n",
            "breed: Maine Coon\n",
            "sex: female, intact\n",
            "--------------------------------------------------------------------------------\n",
            "TOTAL TIME ELAPSED: 5.49s\n",
            "/kaggle/input/cat-meow-classification/extras/sequences/I_BLE01_EU_FN_DEL01_2SEQ2.wav\n",
            "--------------------------------------------------------------------------------\n",
            "context: brushing\n",
            "breed: Maine Coon\n",
            "sex: female, neutered\n",
            "--------------------------------------------------------------------------------\n",
            "TOTAL TIME ELAPSED: 4.68s\n",
            "/kaggle/input/cat-meow-classification/extras/sequences/I_NUL01_MC_MI_SIM01_2SEQ1.wav\n",
            "--------------------------------------------------------------------------------\n",
            "context: waiting for food\n",
            "breed: European Shorthair\n",
            "sex: female, neutered\n",
            "--------------------------------------------------------------------------------\n",
            "TOTAL TIME ELAPSED: 5.80s\n",
            "Step 440 finished. Running evaluation:\n",
            "/kaggle/input/cat-meow-classification/extras/sequences/B_CAN01_EU_FN_GIA01_1SEQ1.wav\n",
            "--------------------------------------------------------------------------------\n",
            "context: waiting for food\n",
            "breed: Maine Coon\n",
            "sex: male, neutered\n",
            "--------------------------------------------------------------------------------\n",
            "TOTAL TIME ELAPSED: 5.33s\n",
            "/kaggle/input/cat-meow-classification/extras/sequences/I_BLE01_EU_FN_DEL01_2SEQ2.wav\n",
            "--------------------------------------------------------------------------------\n",
            "context: brushing\n",
            "breed: European Shorthair\n",
            "sex: female, neutered\n",
            "--------------------------------------------------------------------------------\n",
            "TOTAL TIME ELAPSED: 5.35s\n",
            "/kaggle/input/cat-meow-classification/extras/sequences/I_NUL01_MC_MI_SIM01_2SEQ1.wav\n",
            "--------------------------------------------------------------------------------\n",
            "context: waiting for food\n",
            "breed: European Shorthair\n",
            "sex: male, intact\n",
            "--------------------------------------------------------------------------------\n",
            "TOTAL TIME ELAPSED: 5.56s\n",
            "Step 440 finished. Running evaluation:\n",
            "/kaggle/input/cat-meow-classification/extras/sequences/B_CAN01_EU_FN_GIA01_1SEQ1.wav\n",
            "--------------------------------------------------------------------------------\n",
            "context: brushing\n",
            "breed: European Shorthair\n",
            "sex: female, intact\n",
            "--------------------------------------------------------------------------------\n",
            "TOTAL TIME ELAPSED: 5.06s\n",
            "/kaggle/input/cat-meow-classification/extras/sequences/I_BLE01_EU_FN_DEL01_2SEQ2.wav\n",
            "--------------------------------------------------------------------------------\n",
            "context: waiting for food\n",
            "breed: Maine Coon\n",
            "sex: female, intact\n",
            "--------------------------------------------------------------------------------\n",
            "TOTAL TIME ELAPSED: 5.04s\n",
            "/kaggle/input/cat-meow-classification/extras/sequences/I_NUL01_MC_MI_SIM01_2SEQ1.wav\n",
            "--------------------------------------------------------------------------------\n",
            "context: waiting for food\n",
            "breed: Maine Coon\n",
            "sex: male, neutered\n",
            "--------------------------------------------------------------------------------\n",
            "TOTAL TIME ELAPSED: 5.41s\n"
          ]
        },
        {
          "data": {
            "text/plain": [
              "TrainOutput(global_step=440, training_loss=0.3615472056648948, metrics={'train_runtime': 629.5369, 'train_samples_per_second': 0.699, 'train_steps_per_second': 0.699, 'total_flos': 3012695247064800.0, 'train_loss': 0.3615472056648948})"
            ]
          },
          "execution_count": 7,
          "metadata": {},
          "output_type": "execute_result"
        }
      ],
      "source": [
        "import datasets\n",
        "from peft import LoraConfig\n",
        "from trl import SFTTrainer, SFTConfig\n",
        "\n",
        "import torch\n",
        "\n",
        "# Check if GPU benefits from bfloat16\n",
        "if torch.cuda.is_available() and torch.cuda.get_device_capability()[0] >= 8:\n",
        "    torch_dtype = torch.bfloat16\n",
        "else:\n",
        "    torch_dtype = torch.float16\n",
        "\n",
        "def collate_fn(examples):\n",
        "    input_ids = processor.apply_chat_template(\n",
        "        examples[0],\n",
        "        add_generation_prompt=True,\n",
        "        tokenize=True,\n",
        "        return_dict=True,\n",
        "        return_tensors=\"pt\",\n",
        "    )\n",
        "    input_ids = input_ids.to(model.device, dtype=model.dtype)\n",
        "\n",
        "    # The labels are the input_ids, and we mask the padding tokens in the loss computation\n",
        "    labels = input_ids[\"input_ids\"].clone()\n",
        "\n",
        "    # Use Gemma3n specific token masking\n",
        "    labels[labels == processor.tokenizer.pad_token_id] = -100\n",
        "    if hasattr(processor.tokenizer, 'image_token_id'):\n",
        "        labels[labels == processor.tokenizer.image_token_id] = -100\n",
        "    if hasattr(processor.tokenizer, 'audio_token_id'):\n",
        "        labels[labels == processor.tokenizer.audio_token_id] = -100\n",
        "    if hasattr(processor.tokenizer, 'boi_token_id'):\n",
        "        labels[labels == processor.tokenizer.boi_token_id] = -100\n",
        "    if hasattr(processor.tokenizer, 'eoi_token_id'):\n",
        "        labels[labels == processor.tokenizer.eoi_token_id] = -100\n",
        "\n",
        "    input_ids[\"labels\"] = labels\n",
        "    return input_ids\n",
        "\n",
        "peft_config = LoraConfig(\n",
        "    lora_alpha=16,\n",
        "    lora_dropout=0.05,\n",
        "    r=16,\n",
        "    bias=\"none\",\n",
        "    target_modules=\"all-linear\",\n",
        "    task_type=\"CAUSAL_LM\",\n",
        ")\n",
        "\n",
        "training_args = SFTConfig(\n",
        "    output_dir=\"gemma-3n-E2B-it-meow\",\n",
        "    num_train_epochs=1,\n",
        "    per_device_train_batch_size=1,\n",
        "    gradient_checkpointing=False,    # Caching is incompatible with gradient checkpointing in Gemma3nTextDecoderLayer.\n",
        "    logging_steps=len(train)/4,\n",
        "    save_steps=len(train)/4,\n",
        "    learning_rate=5e-04,\n",
        "    fp16=True if torch_dtype == torch.float16 else False,   # use float16 precision\n",
        "    bf16=True if torch_dtype == torch.bfloat16 else False,   # use bfloat16 precision\n",
        "    lr_scheduler_type=\"constant\",\n",
        "    report_to=\"none\",\n",
        "    dataloader_pin_memory=False,\n",
        "    dataset_kwargs={\"skip_prepare_dataset\": True},  # important for collator\n",
        ")\n",
        "\n",
        "from transformers import TrainerCallback\n",
        "\n",
        "class MyCallback(TrainerCallback):\n",
        "    \"A callback that evaluates the model at the end of eopch\"\n",
        "    def __init__(self, evaluate):\n",
        "        self.evaluate = evaluate # evaluate function\n",
        "\n",
        "    def on_log(self, args, state, control, **kwargs):\n",
        "        # Evaluate the model using text generation\n",
        "        print(f\"Step {state.global_step} finished. Running evaluation:\")\n",
        "        self.evaluate()\n",
        "\n",
        "# pick random extra files to evaluate\n",
        "sound_list = os.listdir(extra_path)\n",
        "random.shuffle(sound_list)\n",
        "evaluate_sound = [\n",
        "    os.path.join(extra_path, sound_list[0]),\n",
        "    os.path.join(extra_path, sound_list[1]),\n",
        "    os.path.join(extra_path, sound_list[2]),\n",
        "]\n",
        "def evaluate():\n",
        "    for file in evaluate_sound:\n",
        "        print(file)\n",
        "        text_gen(model, processor, [{\"role\": \"user\",\n",
        "            \"content\": [\n",
        "                {\"type\": \"audio\", \"audio\": file},\n",
        "                {\"type\": \"text\", \"text\": \"Describe this audio.\"},\n",
        "            ]\n",
        "        }])\n",
        "\n",
        "trainer = SFTTrainer(\n",
        "    model=model,\n",
        "    args=training_args,\n",
        "    data_collator=collate_fn,\n",
        "    train_dataset=train,\n",
        "    processing_class=processor.tokenizer,\n",
        "    peft_config=peft_config,\n",
        "    callbacks=[MyCallback(evaluate)]\n",
        ")\n",
        "trainer.train()\n"
      ]
    },
    {
      "cell_type": "markdown",
      "metadata": {
        "id": "gTJXFikUqFZQ"
      },
      "source": [
        "## After Finetune\n",
        "\n",
        "The output below shows that the model try to catch the cat's meow and understand the context behind it."
      ]
    },
    {
      "cell_type": "code",
      "execution_count": null,
      "metadata": {
        "id": "nKCnanYCqHii"
      },
      "outputs": [
        {
          "data": {
            "application/vnd.jupyter.widget-view+json": {
              "model_id": "2e8f9ef8f4be4a0baa0140d723846115",
              "version_major": 2,
              "version_minor": 0
            },
            "text/plain": [
              "Loading checkpoint shards:   0%|          | 0/4 [00:00<?, ?it/s]"
            ]
          },
          "metadata": {},
          "output_type": "display_data"
        },
        {
          "name": "stdout",
          "output_type": "stream",
          "text": [
            "[{'role': 'user', 'content': [{'type': 'audio', 'audio': '/kaggle/input/cat-meow-classification/extras/sequences/I_NUL01_MC_MI_SIM01_2SEQ1.wav'}, {'type': 'text', 'text': 'Describe this audio.'}]}]\n",
            "--------------------------------------------------------------------------------\n",
            "context: brushing\n",
            "breed: European Shorthair\n",
            "sex: male, neutered\n",
            "--------------------------------------------------------------------------------\n",
            "TOTAL TIME ELAPSED: 4.40s\n",
            "[{'role': 'user', 'content': [{'type': 'audio', 'audio': '/kaggle/input/cat-meow-classification/extras/sequences/F_IND01_EU_FN_ELI01_1SEQ1.wav'}, {'type': 'text', 'text': 'Describe this audio.'}]}]\n",
            "--------------------------------------------------------------------------------\n",
            "context: waiting for food\n",
            "breed: Maine Coon\n",
            "sex: male, neutered\n",
            "--------------------------------------------------------------------------------\n",
            "TOTAL TIME ELAPSED: 4.37s\n",
            "[{'role': 'user', 'content': [{'type': 'audio', 'audio': '/kaggle/input/cat-meow-classification/extras/sequences/B_CAN01_EU_FN_GIA01_2SEQ1.wav'}, {'type': 'text', 'text': 'Describe this audio.'}]}]\n",
            "--------------------------------------------------------------------------------\n",
            "context: brushing\n",
            "breed: European Shorthair\n",
            "sex: male, intact\n",
            "--------------------------------------------------------------------------------\n",
            "TOTAL TIME ELAPSED: 4.14s\n",
            "[{'role': 'user', 'content': [{'type': 'audio', 'audio': '/kaggle/input/cat-meow-classification/extras/sequences/I_CAN01_EU_FN_GIA01_2SEQ1.wav'}, {'type': 'text', 'text': 'Describe this audio.'}]}]\n",
            "--------------------------------------------------------------------------------\n",
            "context: waiting for food\n",
            "breed: European Shorthair\n",
            "sex: male, neutered\n",
            "--------------------------------------------------------------------------------\n",
            "TOTAL TIME ELAPSED: 4.89s\n",
            "[{'role': 'user', 'content': [{'type': 'audio', 'audio': '/kaggle/input/cat-meow-classification/extras/sequences/I_MEG01_MC_FI_SIM01_1SEQ1.wav'}, {'type': 'text', 'text': 'Describe this audio.'}]}]\n",
            "--------------------------------------------------------------------------------\n",
            "context: isolation in audio\n",
            "breed: Maine Coon\n",
            "sex: female, neutered\n",
            "--------------------------------------------------------------------------------\n",
            "TOTAL TIME ELAPSED: 4.34s\n"
          ]
        }
      ],
      "source": [
        "from peft import PeftModel\n",
        "\n",
        "from transformers import AutoModelForImageTextToText, AutoProcessor\n",
        "\n",
        "# Load Model with PEFT adapter\n",
        "model = AutoModelForImageTextToText.from_pretrained(\n",
        "  \"gemma-3n-E2B-it-meow/checkpoint-440\",\n",
        "  device_map=\"auto\",\n",
        "  torch_dtype=\"auto\",\n",
        ")\n",
        "processor = AutoProcessor.from_pretrained(GEMMA_PATH)\n",
        "\n",
        "file_list = os.listdir(extra_path)\n",
        "random.shuffle(file_list)\n",
        "\n",
        "for file in file_list[:5]:\n",
        "  prompt = [{\n",
        "    \"role\": \"user\",\n",
        "    \"content\": [\n",
        "      {\"type\": \"audio\", \"audio\": os.path.join(extra_path, file)},\n",
        "      {\"type\": \"text\", \"text\": \"Describe this audio.\"},\n",
        "    ]\n",
        "  }]\n",
        "  print(prompt)\n",
        "  text_gen(model, processor, prompt)\n"
      ]
    },
    {
      "cell_type": "markdown",
      "metadata": {
        "id": "6f8ff452"
      },
      "source": [
        "## Next steps\n",
        "\n",
        "Build and explore more with Gemma models:\n",
        "\n",
        "* [Fine-tune Gemma for text tasks using Hugging Face Transformers](https://ai.google.dev/gemma/docs/core/huggingface_text_finetune_qlora)\n",
        "* [Fine-tune Gemma for vision tasks using Hugging Face Transformers](https://ai.google.dev/gemma/docs/core/huggingface_vision_finetune_qlora)\n",
        "* [Perform distributed fine-tuning and inference on Gemma models](https://ai.google.dev/gemma/docs/core/distributed_tuning)\n",
        "* [Use Gemma open models with Vertex AI](https://cloud.google.com/vertex-ai/docs/generative-ai/open-models/use-gemma)\n",
        "* [Fine-tune Gemma using Keras and deploy to Vertex AI](https://github.com/GoogleCloudPlatform/vertex-ai-samples/blob/main/notebooks/community/model_garden/model_garden_gemma_kerasnlp_to_vertexai.ipynb)"
      ]
    }
  ],
  "metadata": {
    "accelerator": "GPU",
    "colab": {
      "name": "[Gemma_3n]Audio_Finetune_with_HF.ipynb",
      "toc_visible": true
    },
    "kernelspec": {
      "display_name": "Python 3",
      "name": "python3"
    }
  },
  "nbformat": 4,
  "nbformat_minor": 0
}
